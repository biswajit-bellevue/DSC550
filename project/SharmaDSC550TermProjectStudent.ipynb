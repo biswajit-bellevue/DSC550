{
 "cells": [
  {
   "cell_type": "markdown",
   "id": "d39afeb5-7973-425d-92a2-6186d8388f61",
   "metadata": {},
   "source": [
    "## Term Project - Biswajit Sharma"
   ]
  },
  {
   "cell_type": "markdown",
   "id": "9cce2568-4720-4ca0-a72e-d460108db0c3",
   "metadata": {},
   "source": [
    "### Introduction"
   ]
  },
  {
   "cell_type": "markdown",
   "id": "24fe521f-0054-49d4-94c3-1c3b603d6b5d",
   "metadata": {},
   "source": [
    "Undergraduate and graduate degree programs are challenging. It needs dedication, focus, hardwork and perseverance. Students joining such programs are generally very excited to start a new academic chapter in their life initially. however due to various reasons such as motivational, medical, anxiety, lack of confidence, non alignmnet of curriculum with interests,and guidance. Although most of the students compelte till graduation, there are circumstances when students fall short and drop from the program without graduation. \n",
    "Other than medical and other unavidable reasons, it is very detrimental emotionaly and mentally for a students to fail to complete graduation. It also adversely effects college, university, department, skilled job seekers market and potential employers to miss out qualified young generation. Success in  higher education often relies on being motivated, time management, carrer and academic guidance, mentoring, relationship between facylty and students, and scholarshio opportunities.\n",
    "\n",
    "Lower grades in coursework remains one of main reasons for students to drop out and complete graduation. When students struggle in the classroom, they become stressed and loose motivation and eventually feel lost and increases the potential of drop out before graduation. It is very fruitful to provide holistic support and guidance to students throughout their higher education journey. Hence, it is of utmost importance to identify students who are struggling with coursework early and provide personalized support to adress their academic, social and emotional challenges. Early intervention provides opportunity to identify corrective measures while there is sufficient time to bring back students to the right track of achieving education their goals. Not all students needs same level academic counseling and guidance. It becomes necessary to identify students who are struggling so that advisors can provide right resources and allocate more time to those students increasing their chances of success and retention. High retention rates also helps in managing costs for the university  wich aloows universities to lower the cost of courses and provide more scholarship opportunities. Higher graduation rates also has socio economic impact as it increases the chances to better employment, higher level of income and more contribution to economy. Identification of potential students who are susceptible to low grades early helps educators to adjust their teaching methods, curriculum and strategies to increase the chances of success for all students."
   ]
  },
  {
   "cell_type": "markdown",
   "id": "dd89412c-d258-4cb4-95ff-570bfdb1bdbd",
   "metadata": {},
   "source": [
    "As we have discussed above that predicting students who are at risk of low grades early in their coursework is essential and provide numerous benefits to both students and college or universities.\n",
    "\n",
    " - Students Benefit: If students are aware that their current approach to study might not be good enough for getting good scores at the end of coursework, they have still time to focus, get help from counseling and mentoring, allocate more time for study. Students can take help from friends and family to remain motivated. This aloows them to take corrective measures and increases their chanches of success with the coursework. Applying corrective measures will help the students to get back on their success track which will provide them better employment opportunity and higher standards of life.\n",
    "\n",
    " - College or University benefits: Predictive analysis can help institutions to identify students who need counseling and support such as advising and mentoring. This will allow the institutions to properly allocate personalized resourses for those students increasing the chances of their success. Higher graduation rates along with personalized student support will attract more students and hence potential for increased revenue. Student success also will aid in increasing retention rates which will have positive impact on revenue. Higher graduation rates, higher retention rates and enriched counseling and guidance support will help in betterment of reputation of the college or university and hence potential for increased student enrollment and growth."
   ]
  },
  {
   "attachments": {},
   "cell_type": "markdown",
   "id": "8fbf552a-b12c-451d-8dd3-2531cf5b19ec",
   "metadata": {},
   "source": [
    "Where data was obtained\n",
    "describe data\n",
    "https://archive.ics.uci.edu/dataset/856/higher+education+students+performance+evaluation!\n",
    "\n",
    "\n",
    "The dataset for this study will be referenced from [Higher Education Students Performance Evaluation][1] in UCI Machine Learning Repository (2023)."
   ]
  },
  {
   "cell_type": "code",
   "execution_count": 2,
   "id": "b8218c2b-3522-47c6-9795-2983e4c27c9a",
   "metadata": {},
   "outputs": [],
   "source": [
    "import pandas as pd"
   ]
  },
  {
   "cell_type": "code",
   "execution_count": 3,
   "id": "902b4f9b-acd3-4a39-a9e0-0502c188c8cb",
   "metadata": {},
   "outputs": [],
   "source": [
    "df = pd.read_csv(\"student_data.csv\")"
   ]
  },
  {
   "cell_type": "code",
   "execution_count": 4,
   "id": "5ba0b26b-f9b1-4575-aa85-fb5d85fd5097",
   "metadata": {},
   "outputs": [
    {
     "data": {
      "text/html": [
       "<div>\n",
       "<style scoped>\n",
       "    .dataframe tbody tr th:only-of-type {\n",
       "        vertical-align: middle;\n",
       "    }\n",
       "\n",
       "    .dataframe tbody tr th {\n",
       "        vertical-align: top;\n",
       "    }\n",
       "\n",
       "    .dataframe thead th {\n",
       "        text-align: right;\n",
       "    }\n",
       "</style>\n",
       "<table border=\"1\" class=\"dataframe\">\n",
       "  <thead>\n",
       "    <tr style=\"text-align: right;\">\n",
       "      <th></th>\n",
       "      <th>STUDENT ID</th>\n",
       "      <th>1</th>\n",
       "      <th>2</th>\n",
       "      <th>3</th>\n",
       "      <th>4</th>\n",
       "      <th>5</th>\n",
       "      <th>6</th>\n",
       "      <th>7</th>\n",
       "      <th>8</th>\n",
       "      <th>9</th>\n",
       "      <th>...</th>\n",
       "      <th>23</th>\n",
       "      <th>24</th>\n",
       "      <th>25</th>\n",
       "      <th>26</th>\n",
       "      <th>27</th>\n",
       "      <th>28</th>\n",
       "      <th>29</th>\n",
       "      <th>30</th>\n",
       "      <th>COURSE ID</th>\n",
       "      <th>GRADE</th>\n",
       "    </tr>\n",
       "  </thead>\n",
       "  <tbody>\n",
       "    <tr>\n",
       "      <th>0</th>\n",
       "      <td>STUDENT1</td>\n",
       "      <td>2</td>\n",
       "      <td>2</td>\n",
       "      <td>3</td>\n",
       "      <td>3</td>\n",
       "      <td>1</td>\n",
       "      <td>2</td>\n",
       "      <td>2</td>\n",
       "      <td>1</td>\n",
       "      <td>1</td>\n",
       "      <td>...</td>\n",
       "      <td>1</td>\n",
       "      <td>1</td>\n",
       "      <td>3</td>\n",
       "      <td>2</td>\n",
       "      <td>1</td>\n",
       "      <td>2</td>\n",
       "      <td>1</td>\n",
       "      <td>1</td>\n",
       "      <td>1</td>\n",
       "      <td>1</td>\n",
       "    </tr>\n",
       "    <tr>\n",
       "      <th>1</th>\n",
       "      <td>STUDENT2</td>\n",
       "      <td>2</td>\n",
       "      <td>2</td>\n",
       "      <td>3</td>\n",
       "      <td>3</td>\n",
       "      <td>1</td>\n",
       "      <td>2</td>\n",
       "      <td>2</td>\n",
       "      <td>1</td>\n",
       "      <td>1</td>\n",
       "      <td>...</td>\n",
       "      <td>1</td>\n",
       "      <td>1</td>\n",
       "      <td>3</td>\n",
       "      <td>2</td>\n",
       "      <td>3</td>\n",
       "      <td>2</td>\n",
       "      <td>2</td>\n",
       "      <td>3</td>\n",
       "      <td>1</td>\n",
       "      <td>1</td>\n",
       "    </tr>\n",
       "    <tr>\n",
       "      <th>2</th>\n",
       "      <td>STUDENT3</td>\n",
       "      <td>2</td>\n",
       "      <td>2</td>\n",
       "      <td>2</td>\n",
       "      <td>3</td>\n",
       "      <td>2</td>\n",
       "      <td>2</td>\n",
       "      <td>2</td>\n",
       "      <td>2</td>\n",
       "      <td>4</td>\n",
       "      <td>...</td>\n",
       "      <td>1</td>\n",
       "      <td>1</td>\n",
       "      <td>2</td>\n",
       "      <td>2</td>\n",
       "      <td>1</td>\n",
       "      <td>1</td>\n",
       "      <td>2</td>\n",
       "      <td>2</td>\n",
       "      <td>1</td>\n",
       "      <td>1</td>\n",
       "    </tr>\n",
       "    <tr>\n",
       "      <th>3</th>\n",
       "      <td>STUDENT4</td>\n",
       "      <td>1</td>\n",
       "      <td>1</td>\n",
       "      <td>1</td>\n",
       "      <td>3</td>\n",
       "      <td>1</td>\n",
       "      <td>2</td>\n",
       "      <td>1</td>\n",
       "      <td>2</td>\n",
       "      <td>1</td>\n",
       "      <td>...</td>\n",
       "      <td>1</td>\n",
       "      <td>2</td>\n",
       "      <td>3</td>\n",
       "      <td>2</td>\n",
       "      <td>2</td>\n",
       "      <td>1</td>\n",
       "      <td>3</td>\n",
       "      <td>2</td>\n",
       "      <td>1</td>\n",
       "      <td>1</td>\n",
       "    </tr>\n",
       "    <tr>\n",
       "      <th>4</th>\n",
       "      <td>STUDENT5</td>\n",
       "      <td>2</td>\n",
       "      <td>2</td>\n",
       "      <td>1</td>\n",
       "      <td>3</td>\n",
       "      <td>2</td>\n",
       "      <td>2</td>\n",
       "      <td>1</td>\n",
       "      <td>3</td>\n",
       "      <td>1</td>\n",
       "      <td>...</td>\n",
       "      <td>2</td>\n",
       "      <td>1</td>\n",
       "      <td>2</td>\n",
       "      <td>2</td>\n",
       "      <td>2</td>\n",
       "      <td>1</td>\n",
       "      <td>2</td>\n",
       "      <td>2</td>\n",
       "      <td>1</td>\n",
       "      <td>1</td>\n",
       "    </tr>\n",
       "  </tbody>\n",
       "</table>\n",
       "<p>5 rows × 33 columns</p>\n",
       "</div>"
      ],
      "text/plain": [
       "  STUDENT ID  1  2  3  4  5  6  7  8  9  ...  23  24  25  26  27  28  29  30  \\\n",
       "0   STUDENT1  2  2  3  3  1  2  2  1  1  ...   1   1   3   2   1   2   1   1   \n",
       "1   STUDENT2  2  2  3  3  1  2  2  1  1  ...   1   1   3   2   3   2   2   3   \n",
       "2   STUDENT3  2  2  2  3  2  2  2  2  4  ...   1   1   2   2   1   1   2   2   \n",
       "3   STUDENT4  1  1  1  3  1  2  1  2  1  ...   1   2   3   2   2   1   3   2   \n",
       "4   STUDENT5  2  2  1  3  2  2  1  3  1  ...   2   1   2   2   2   1   2   2   \n",
       "\n",
       "   COURSE ID  GRADE  \n",
       "0          1      1  \n",
       "1          1      1  \n",
       "2          1      1  \n",
       "3          1      1  \n",
       "4          1      1  \n",
       "\n",
       "[5 rows x 33 columns]"
      ]
     },
     "execution_count": 4,
     "metadata": {},
     "output_type": "execute_result"
    }
   ],
   "source": [
    "df.head()"
   ]
  },
  {
   "cell_type": "code",
   "execution_count": 24,
   "id": "f534fa38-6688-4f4c-a9b5-a87d8828b7c6",
   "metadata": {},
   "outputs": [
    {
     "data": {
      "text/plain": [
       "GRADE\n",
       "1    35\n",
       "2    24\n",
       "3    21\n",
       "5    17\n",
       "7    17\n",
       "6    13\n",
       "4    10\n",
       "0     8\n",
       "Name: count, dtype: int64"
      ]
     },
     "execution_count": 24,
     "metadata": {},
     "output_type": "execute_result"
    }
   ],
   "source": [
    "df[\"GRADE\"].value_counts()"
   ]
  },
  {
   "cell_type": "code",
   "execution_count": 35,
   "id": "9c3af81e-cb03-4982-bf22-36233593acc1",
   "metadata": {},
   "outputs": [],
   "source": [
    "from sklearn.tree import DecisionTreeClassifier\n",
    "from sklearn.dummy import DummyClassifier\n",
    "from sklearn.ensemble import RandomForestClassifier\n",
    "from sklearn.metrics import roc_auc_score, confusion_matrix, ConfusionMatrixDisplay, accuracy_score, f1_score, recall_score, precision_score\n",
    "from sklearn.model_selection import train_test_split, GridSearchCV\n",
    "import matplotlib.pyplot as plt"
   ]
  },
  {
   "cell_type": "code",
   "execution_count": 11,
   "id": "860513ed-2bd4-4205-a216-68d1fde2d3ca",
   "metadata": {},
   "outputs": [],
   "source": [
    "# using sklearn's train_test_split method to split the dataset\n",
    "features_train, features_test, target_train, target_test = train_test_split(\n",
    "    df.iloc[0:, 1:-1], df[\"GRADE\"], test_size=0.2, random_state=0\n",
    ")"
   ]
  },
  {
   "cell_type": "code",
   "execution_count": 15,
   "id": "a6544865-5305-4383-8e9f-6895e016d9a7",
   "metadata": {},
   "outputs": [],
   "source": [
    "decision_tree = DecisionTreeClassifier(random_state=1)\n",
    "hyperparameters = {\n",
    "    \"max_depth\":[5, 10, 20, 50]\n",
    "}\n",
    "gcv = GridSearchCV(\n",
    "    decision_tree,\n",
    "    hyperparameters,\n",
    "    cv=5,\n",
    "    verbose=1\n",
    ")"
   ]
  },
  {
   "cell_type": "code",
   "execution_count": 26,
   "id": "10b4c3cf-6154-4082-9676-67bf4e0aece3",
   "metadata": {},
   "outputs": [
    {
     "name": "stdout",
     "output_type": "stream",
     "text": [
      "Fitting 5 folds for each of 4 candidates, totalling 20 fits\n"
     ]
    }
   ],
   "source": [
    "best_model = gcv.fit(df.iloc[0:, 1:-1], df[\"GRADE\"])"
   ]
  },
  {
   "cell_type": "code",
   "execution_count": 27,
   "id": "22174185-b706-49dc-92d3-ca11d5ea916a",
   "metadata": {},
   "outputs": [
    {
     "data": {
      "text/plain": [
       "{'ccp_alpha': 0.0,\n",
       " 'class_weight': None,\n",
       " 'criterion': 'gini',\n",
       " 'max_depth': 5,\n",
       " 'max_features': None,\n",
       " 'max_leaf_nodes': None,\n",
       " 'min_impurity_decrease': 0.0,\n",
       " 'min_samples_leaf': 1,\n",
       " 'min_samples_split': 2,\n",
       " 'min_weight_fraction_leaf': 0.0,\n",
       " 'monotonic_cst': None,\n",
       " 'random_state': 1,\n",
       " 'splitter': 'best'}"
      ]
     },
     "execution_count": 27,
     "metadata": {},
     "output_type": "execute_result"
    }
   ],
   "source": [
    "best_model.best_estimator_.get_params()"
   ]
  },
  {
   "cell_type": "code",
   "execution_count": 30,
   "id": "94ed2696-a248-4fb7-98de-4db0d17192f9",
   "metadata": {},
   "outputs": [],
   "source": [
    "predicted_test = best_model.predict(df.iloc[0:, 1:-1])"
   ]
  },
  {
   "cell_type": "code",
   "execution_count": 32,
   "id": "3ed1ba6f-0a55-4674-ada6-bf7bbc0d2a0c",
   "metadata": {},
   "outputs": [
    {
     "data": {
      "image/png": "[encoded data removed]",
      "text/plain": [
       "<Figure size 640x480 with 1 Axes>"
      ]
     },
     "metadata": {},
     "output_type": "display_data"
    }
   ],
   "source": [
    "ConfusionMatrixDisplay.from_predictions(df[\"GRADE\"], predicted_test, colorbar=False, cmap=\"Blues\")\n",
    "plt.xticks(rotation=90)\n",
    "plt.show()"
   ]
  },
  {
   "cell_type": "code",
   "execution_count": 34,
   "id": "c5c3cb25-1b7e-41ad-b04d-b150e1b54f5d",
   "metadata": {},
   "outputs": [
    {
     "name": "stdout",
     "output_type": "stream",
     "text": [
      "Accuracy: 0.6620689655172414\n",
      "Recall: 0.630651395173454\n",
      "Precision: 0.761959226928985\n",
      "F1-score: 0.6513594451493416\n"
     ]
    }
   ],
   "source": [
    "print(f\"Accuracy: {accuracy_score(df['GRADE'], predicted_test)}\")\n",
    "print(f\"Recall: {recall_score(df['GRADE'], predicted_test, average='macro')}\")\n",
    "print(f\"Precision: {precision_score(df['GRADE'], predicted_test, average='macro')}\")\n",
    "print(f\"F1-score: {f1_score(df['GRADE'], predicted_test,average='macro')}\")"
   ]
  },
  {
   "cell_type": "code",
   "execution_count": null,
   "id": "9db85825-f476-4ba3-8d5c-1c96b70dcf1d",
   "metadata": {},
   "outputs": [],
   "source": []
  },
  {
   "cell_type": "code",
   "execution_count": 47,
   "id": "964c2619-4815-4445-8e1a-f556114caee1",
   "metadata": {},
   "outputs": [],
   "source": [
    "forest = RandomForestClassifier(random_state=1)\n",
    "hyperparameters = {\n",
    "    \"n_estimators\":[20,50,60]\n",
    "}\n",
    "gcv = GridSearchCV(\n",
    "    forest,\n",
    "    hyperparameters,\n",
    "    cv=5,\n",
    "    verbose=1\n",
    ")"
   ]
  },
  {
   "cell_type": "code",
   "execution_count": 52,
   "id": "7c14a2c3-56d0-410f-8422-334293deadaf",
   "metadata": {},
   "outputs": [
    {
     "name": "stdout",
     "output_type": "stream",
     "text": [
      "Fitting 5 folds for each of 3 candidates, totalling 15 fits\n"
     ]
    }
   ],
   "source": [
    "best_model_forest = gcv.fit(features_train, target_train)"
   ]
  },
  {
   "cell_type": "code",
   "execution_count": 53,
   "id": "c0afac7e-02d3-4e74-890c-249aabeee171",
   "metadata": {},
   "outputs": [
    {
     "data": {
      "text/plain": [
       "{'bootstrap': True,\n",
       " 'ccp_alpha': 0.0,\n",
       " 'class_weight': None,\n",
       " 'criterion': 'gini',\n",
       " 'max_depth': None,\n",
       " 'max_features': 'sqrt',\n",
       " 'max_leaf_nodes': None,\n",
       " 'max_samples': None,\n",
       " 'min_impurity_decrease': 0.0,\n",
       " 'min_samples_leaf': 1,\n",
       " 'min_samples_split': 2,\n",
       " 'min_weight_fraction_leaf': 0.0,\n",
       " 'monotonic_cst': None,\n",
       " 'n_estimators': 60,\n",
       " 'n_jobs': None,\n",
       " 'oob_score': False,\n",
       " 'random_state': 1,\n",
       " 'verbose': 0,\n",
       " 'warm_start': False}"
      ]
     },
     "execution_count": 53,
     "metadata": {},
     "output_type": "execute_result"
    }
   ],
   "source": [
    "best_model_forest.best_estimator_.get_params()"
   ]
  },
  {
   "cell_type": "code",
   "execution_count": 54,
   "id": "5934eb09-841e-47f8-b337-1002c3e184e6",
   "metadata": {},
   "outputs": [],
   "source": [
    "predicted_test_forest = best_model_forest.predict(features_test)"
   ]
  },
  {
   "cell_type": "code",
   "execution_count": 55,
   "id": "c9ef521e-e863-4cb5-95c5-7d9ad662437e",
   "metadata": {},
   "outputs": [
    {
     "name": "stdout",
     "output_type": "stream",
     "text": [
      "Accuracy: 0.4827586206896552\n",
      "Recall: 0.36597222222222225\n",
      "Precision: 0.37083333333333335\n",
      "F1-score: 0.3318452380952381\n"
     ]
    },
    {
     "name": "stderr",
     "output_type": "stream",
     "text": [
      "C:\\Users\\babub\\Documents\\python\\pydata-book\\Lib\\site-packages\\sklearn\\metrics\\_classification.py:1509: UndefinedMetricWarning: Precision is ill-defined and being set to 0.0 in labels with no predicted samples. Use `zero_division` parameter to control this behavior.\n",
      "  _warn_prf(average, modifier, f\"{metric.capitalize()} is\", len(result))\n"
     ]
    }
   ],
   "source": [
    "print(f\"Accuracy: {accuracy_score(target_test, predicted_test_forest)}\")\n",
    "print(f\"Recall: {recall_score(target_test, predicted_test_forest, average='macro')}\")\n",
    "print(f\"Precision: {precision_score(target_test, predicted_test_forest, average='macro')}\")\n",
    "print(f\"F1-score: {f1_score(target_test, predicted_test_forest,average='macro')}\")"
   ]
  },
  {
   "cell_type": "code",
   "execution_count": 57,
   "id": "d5e184de-bd68-4ec9-b670-6be0a6ad053f",
   "metadata": {},
   "outputs": [
    {
     "data": {
      "image/png": "[encoded data removed]",
      "text/plain": [
       "<Figure size 640x480 with 1 Axes>"
      ]
     },
     "metadata": {},
     "output_type": "display_data"
    }
   ],
   "source": [
    "ConfusionMatrixDisplay.from_predictions(target_test, predicted_test_forest, colorbar=False, cmap=\"Blues\")\n",
    "plt.xticks(rotation=90)\n",
    "plt.show()"
   ]
  },
  {
   "cell_type": "code",
   "execution_count": null,
   "id": "be24966c-99bd-42df-9169-029a893cce3f",
   "metadata": {},
   "outputs": [],
   "source": []
  },
  {
   "cell_type": "code",
   "execution_count": null,
   "id": "d841051a-c3ed-40fe-8419-5fc77539c9d3",
   "metadata": {},
   "outputs": [],
   "source": []
  },
  {
   "cell_type": "markdown",
   "id": "506a4150-6850-486e-ac0c-f7ff4e8d3972",
   "metadata": {},
   "source": [
    "### References\n",
    "\n",
    "http://helmut.knaust.info/BD/SixMajorReasons.pdf\n",
    "https://blog.ed.gov/2022/08/the-importance-of-academic-advising-in-higher-education/#:~:text=Advisors%20assist%20in%20monitoring%20academic,major%20policies%20and%20procedures%20better.\n",
    "\n",
    "Higher Education Students Performance Evaluation (Aug 14 2023)"
   ]
  },
  {
   "cell_type": "code",
   "execution_count": null,
   "id": "101156be-95ab-4cf8-818d-30adf5ce4007",
   "metadata": {},
   "outputs": [],
   "source": []
  }
 ],
 "metadata": {
  "kernelspec": {
   "display_name": "Python 3 (ipykernel)",
   "language": "python",
   "name": "python3"
  },
  "language_info": {
   "codemirror_mode": {
    "name": "ipython",
    "version": 3
   },
   "file_extension": ".py",
   "mimetype": "text/x-python",
   "name": "python",
   "nbconvert_exporter": "python",
   "pygments_lexer": "ipython3",
   "version": "3.11.4"
  }
 },
 "nbformat": 4,
 "nbformat_minor": 5
}
