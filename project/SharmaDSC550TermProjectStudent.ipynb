{
 "cells": [
  {
   "cell_type": "markdown",
   "id": "d39afeb5-7973-425d-92a2-6186d8388f61",
   "metadata": {},
   "source": [
    "## Term Project - Biswajit Sharma"
   ]
  },
  {
   "cell_type": "markdown",
   "id": "9cce2568-4720-4ca0-a72e-d460108db0c3",
   "metadata": {},
   "source": [
    "### Introduction"
   ]
  },
  {
   "cell_type": "markdown",
   "id": "24fe521f-0054-49d4-94c3-1c3b603d6b5d",
   "metadata": {},
   "source": [
    "Undergraduate and graduate degree programs are challenging. It needs dedication, focus, hardwork and perseverance. Students joining such programs are generally very excited to start a new academic chapter in their life initially. however due to various reasons such as motivational, medical, anxiety, lack of confidence, non alignmnet of curriculum with interests,and guidance. Although most of the students compelte till graduation, there are circumstances when students fall short and drop from the program without graduation. \n",
    "Other than medical and other unavidable reasons, it is very detrimental emotionaly and mentally for a students to fail to complete graduation. It also adversely effects college, university, department, skilled job seekers market and potential employers to miss out qualified young generation. Success in  higher education often relies on being motivated, time management, carrer and academic guidance, mentoring, relationship between facylty and students, and scholarshio opportunities.\n",
    "\n",
    "Lower grades in coursework remains one of main reasons for students to drop out and complete graduation. When students struggle in the classroom, they become stressed and loose motivation and eventually feel lost and increases the potential of drop out before graduation. It is very fruitful to provide holistic support and guidance to students throughout their higher education journey. Hence, it is of utmost importance to identify students who are struggling with coursework early and provide personalized support to adress their academic, social and emotional challenges. Early intervention provides opportunity to identify corrective measures while there is sufficient time to bring back students to the right track of achieving education their goals. Not all students needs same level academic counseling and guidance. It becomes necessary to identify students who are struggling so that advisors can provide right resources and allocate more time to those students increasing their chances of success and retention. High retention rates also helps in managing costs for the university  wich aloows universities to lower the cost of courses and provide more scholarship opportunities. Higher graduation rates also has socio economic impact as it increases the chances to better employment, higher level of income and more contribution to economy. Identification of potential students who are susceptible to low grades early helps educators to adjust their teaching methods, curriculum and strategies to increase the chances of success for all students."
   ]
  },
  {
   "cell_type": "markdown",
   "id": "dd89412c-d258-4cb4-95ff-570bfdb1bdbd",
   "metadata": {},
   "source": [
    "As we have discussed above that predicting students who are at risk of low grades early in their coursework is essential and provide numerous benefits to both students and college or universities.\n",
    "\n",
    " - Students Benefit: If students are aware that their current approach to study might not be good enough for getting good scores at the end of coursework, they have still time to focus, get help from counseling and mentoring, allocate more time for study. Students can take help from friends and family to remain motivated. This aloows them to take corrective measures and increases their chanches of success with the coursework. Applying corrective measures will help the students to get back on their success track which will provide them better employment opportunity and higher standards of life.\n",
    "\n",
    " - College or University benefits: Predictive analysis can help institutions to identify students who need counseling and support such as advising and mentoring. This will allow the institutions to properly allocate personalized resourses for those students increasing the chances of their success. Higher graduation rates along with personalized student support will attract more students and hence potential for increased revenue. Student success also will aid in increasing retention rates which will have positive impact on revenue. Higher graduation rates, higher retention rates and enriched counseling and guidance support will help in betterment of reputation of the college or university and hence potential for increased student enrollment and growth."
   ]
  },
  {
   "attachments": {},
   "cell_type": "markdown",
   "id": "8fbf552a-b12c-451d-8dd3-2531cf5b19ec",
   "metadata": {},
   "source": [
    "Where data was obtained\n",
    "describe data\n",
    "https://archive.ics.uci.edu/dataset/856/higher+education+students+performance+evaluation!"
   ]
  },
  {
   "cell_type": "code",
   "execution_count": null,
   "id": "b8218c2b-3522-47c6-9795-2983e4c27c9a",
   "metadata": {},
   "outputs": [],
   "source": []
  },
  {
   "cell_type": "code",
   "execution_count": null,
   "id": "902b4f9b-acd3-4a39-a9e0-0502c188c8cb",
   "metadata": {},
   "outputs": [],
   "source": []
  },
  {
   "cell_type": "code",
   "execution_count": null,
   "id": "5ba0b26b-f9b1-4575-aa85-fb5d85fd5097",
   "metadata": {},
   "outputs": [],
   "source": []
  },
  {
   "cell_type": "markdown",
   "id": "506a4150-6850-486e-ac0c-f7ff4e8d3972",
   "metadata": {},
   "source": [
    "### References\n",
    "\n",
    "http://helmut.knaust.info/BD/SixMajorReasons.pdf\n",
    "https://blog.ed.gov/2022/08/the-importance-of-academic-advising-in-higher-education/#:~:text=Advisors%20assist%20in%20monitoring%20academic,major%20policies%20and%20procedures%20better."
   ]
  },
  {
   "cell_type": "code",
   "execution_count": null,
   "id": "101156be-95ab-4cf8-818d-30adf5ce4007",
   "metadata": {},
   "outputs": [],
   "source": []
  }
 ],
 "metadata": {
  "kernelspec": {
   "display_name": "Python 3 (ipykernel)",
   "language": "python",
   "name": "python3"
  },
  "language_info": {
   "codemirror_mode": {
    "name": "ipython",
    "version": 3
   },
   "file_extension": ".py",
   "mimetype": "text/x-python",
   "name": "python",
   "nbconvert_exporter": "python",
   "pygments_lexer": "ipython3",
   "version": "3.11.4"
  }
 },
 "nbformat": 4,
 "nbformat_minor": 5
}
