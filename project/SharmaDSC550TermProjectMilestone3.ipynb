{
 "cells": [
  {
   "cell_type": "markdown",
   "id": "ac5b4ba6-bb04-4869-a2ba-6cd6597b2dba",
   "metadata": {},
   "source": [
    "## Term Project - Biswajit Sharma"
   ]
  },
  {
   "cell_type": "markdown",
   "id": "8986ef7b-46bf-4e5d-b9e4-7c3001e3bc68",
   "metadata": {
    "jp-MarkdownHeadingCollapsed": true
   },
   "source": [
    "### Prediction of Obesity risk based on eating habits and physical activity"
   ]
  },
  {
   "cell_type": "markdown",
   "id": "d39afeb5-7973-425d-92a2-6186d8388f61",
   "metadata": {
    "jp-MarkdownHeadingCollapsed": true
   },
   "source": [
    "### Term Project Milestone 1"
   ]
  },
  {
   "cell_type": "markdown",
   "id": "9cce2568-4720-4ca0-a72e-d460108db0c3",
   "metadata": {
    "jp-MarkdownHeadingCollapsed": true
   },
   "source": [
    "#### Introduction"
   ]
  },
  {
   "cell_type": "markdown",
   "id": "b39e2b66-03e7-4367-a7e3-fa487039dfaa",
   "metadata": {},
   "source": [
    "Obesity is a medical condition that is related to the excessive accumulation of body fat. It is not only a cosmetic concern but rather a medical problem that increases the risk of other health problems and diseases like heart diseases, diabetes, high cholesterol, high blood pressure, liver disease, musculoskeletal disorders, and certain cancers. Since 1997, WHO has considered obesity a global epidemic and a significant health problem. To prevent obesity, various organizations, including government and non-government, are promoting campaigns regarding two main risk factors: eating habits and physical activity (Gozukara et al., 2023).\n",
    "\n",
    "Although it is known that excessive intake of calories can cause obesity, nutritional factors like low-quality diet, unbalanced diet, processed foods, and alcohol consumption can also increase the risk of obesity. Physical activity has also been very influential in controlling or preventing obesity.  The frequency, duration, and intensity of physical activity and exercises play an essential role in the effective prevention and reduction of obesity (Gozukara et al., 2023). Eating healthy and nutrituous food helps in managing proper body weight and preventing obesity. Therefore, it becomes important to invest resources in investigating the relationship of obesity with eating habits and physical activity. \n",
    "\n",
    "Healthcare plans can perform data mining and build a model to predict the early detection of obesity risk for their members, which can yield enormous benefits for both health plans and their members. Early detection of obesity risk helps individuals to be aware of the risk and take preventive measures so that they do not develop obesity related health conditions and diseases in the later stages of their life. It also helps health plans to intervene and incentivize members to motivate them in practicing obesity management such as healthy eating habits, exercises, and increased physical activity. This reduces the number of related health claims caused by obesity related diseases and essentially allows health plans to reduce the cost of care, enhance competitiveness and generate more revenue.\n",
    "\n",
    "This study will generate and evaluate a model to _predict obesity risk based on eating habits and physical activity_"
   ]
  },
  {
   "cell_type": "markdown",
   "id": "3282f2c4-de5f-4fde-b980-c3e9c9141e22",
   "metadata": {
    "jp-MarkdownHeadingCollapsed": true
   },
   "source": [
    "#### Dataset\n",
    "\n",
    "_[UC Irvine Machine Learning Repository - Obesity levels, Eating Having and Physical activity dataset.][1]_\n",
    "\n",
    "This dataset include data about eating habits, physical activity, weight, height and obesity levels of individuals from the countries of mexico, Peru and Columbia. The data includes the eating habits and physical activity levels of 498 participants aged between 14 and 61 years (UCI. 2019).\n",
    "\n",
    "The originally collected data was preprocessed, such as the removal of missing values, and normalization was performed. It was also balanced to reduce the skewness of the obesity levels. 23% of the source data is actual responses collected over a 30-day survey, while the remaining 77% was synthetically generated using SMOTE (Palechor & de la Hoz Manotas, 2019).\n",
    "\n",
    "There are 17 variables in the dataset.\n",
    "\n",
    " - Gender - male or female\n",
    " - Age - age in years\n",
    " - Height - height in meters\n",
    " - Weight - weight in kgs\n",
    " - Family History of overweight - yes or no\n",
    " - Frequently consume high caloric food (FAVC) - yes or no\n",
    " - Consumption of vegetables in meals (FCVC) - yes or no\n",
    " - Number of main meals (NCP) - 1 = between 1 and 2, 2 = three, 3 = more than three, 4 = no answer\n",
    " - Consumption of food between meals (CAEC) - no, sometimes, frequently, or always\n",
    " - Daily consumption of water (CH20) - 1 = less than a liter, 2 = between 1 and 2 L, 3 = more than 2 L\n",
    " - Consumption of alcohol (CALC) - no, sometimes, frequently or always\n",
    " - Calorie consumption monitoring done (SCC) - yes or no\n",
    " - Frequency of Physical activity (FAF) - 1 = never, 2 = once or twice a week, 3 = two or three times a week, 4 = four or five times a week\n",
    " - Use of electronic devices (TUE) - 0 = none, 1 = less than an hour, 2 = between one and three hours, 3 = more than three hours\n",
    " - Mode of transportation used (MTRANS) - automobile, motorbike, bike, public transportation, walking\n",
    " - Obesity Level - the obesity level of the individual\n",
    "\n",
    "Obesity level is labelled in the source data with classes as given below. \n",
    "\n",
    " - Insufficient Weight \n",
    " - Normal Weight\n",
    " - Overweight I\n",
    " - Overweight II\n",
    " - Obesity I\n",
    " - Obesity II\n",
    " - Obesity III\n",
    "\n",
    "[1]: https://archive.ics.uci.edu/dataset/544/estimation+of+obesity+levels+based+on+eating+habits+and+physical+condition"
   ]
  },
  {
   "cell_type": "markdown",
   "id": "4065fb21-2fd6-4948-ac7f-72c285e5d4e0",
   "metadata": {},
   "source": [
    "#### Analysis"
   ]
  },
  {
   "cell_type": "code",
   "execution_count": 52,
   "id": "b8218c2b-3522-47c6-9795-2983e4c27c9a",
   "metadata": {},
   "outputs": [],
   "source": [
    "# import required modules\n",
    "\n",
    "import pandas as pd\n",
    "import seaborn as sns\n",
    "import matplotlib.pyplot as plt"
   ]
  },
  {
   "cell_type": "code",
   "execution_count": 53,
   "id": "902b4f9b-acd3-4a39-a9e0-0502c188c8cb",
   "metadata": {},
   "outputs": [],
   "source": [
    "# read dataset into pandas dataframe\n",
    "df = pd.read_csv(\"ObesityDataSet_raw_and_data_sinthetic.csv\")"
   ]
  },
  {
   "cell_type": "code",
   "execution_count": 54,
   "id": "5ba0b26b-f9b1-4575-aa85-fb5d85fd5097",
   "metadata": {},
   "outputs": [
    {
     "data": {
      "text/html": [
       "<div>\n",
       "<style scoped>\n",
       "    .dataframe tbody tr th:only-of-type {\n",
       "        vertical-align: middle;\n",
       "    }\n",
       "\n",
       "    .dataframe tbody tr th {\n",
       "        vertical-align: top;\n",
       "    }\n",
       "\n",
       "    .dataframe thead th {\n",
       "        text-align: right;\n",
       "    }\n",
       "</style>\n",
       "<table border=\"1\" class=\"dataframe\">\n",
       "  <thead>\n",
       "    <tr style=\"text-align: right;\">\n",
       "      <th></th>\n",
       "      <th>Gender</th>\n",
       "      <th>Age</th>\n",
       "      <th>Height</th>\n",
       "      <th>Weight</th>\n",
       "      <th>family_history_with_overweight</th>\n",
       "      <th>FAVC</th>\n",
       "      <th>FCVC</th>\n",
       "      <th>NCP</th>\n",
       "      <th>CAEC</th>\n",
       "      <th>SMOKE</th>\n",
       "      <th>CH2O</th>\n",
       "      <th>SCC</th>\n",
       "      <th>FAF</th>\n",
       "      <th>TUE</th>\n",
       "      <th>CALC</th>\n",
       "      <th>MTRANS</th>\n",
       "      <th>NObeyesdad</th>\n",
       "    </tr>\n",
       "  </thead>\n",
       "  <tbody>\n",
       "    <tr>\n",
       "      <th>0</th>\n",
       "      <td>Female</td>\n",
       "      <td>21.0</td>\n",
       "      <td>1.62</td>\n",
       "      <td>64.0</td>\n",
       "      <td>yes</td>\n",
       "      <td>no</td>\n",
       "      <td>2.0</td>\n",
       "      <td>3.0</td>\n",
       "      <td>Sometimes</td>\n",
       "      <td>no</td>\n",
       "      <td>2.0</td>\n",
       "      <td>no</td>\n",
       "      <td>0.0</td>\n",
       "      <td>1.0</td>\n",
       "      <td>no</td>\n",
       "      <td>Public_Transportation</td>\n",
       "      <td>Normal_Weight</td>\n",
       "    </tr>\n",
       "    <tr>\n",
       "      <th>1</th>\n",
       "      <td>Female</td>\n",
       "      <td>21.0</td>\n",
       "      <td>1.52</td>\n",
       "      <td>56.0</td>\n",
       "      <td>yes</td>\n",
       "      <td>no</td>\n",
       "      <td>3.0</td>\n",
       "      <td>3.0</td>\n",
       "      <td>Sometimes</td>\n",
       "      <td>yes</td>\n",
       "      <td>3.0</td>\n",
       "      <td>yes</td>\n",
       "      <td>3.0</td>\n",
       "      <td>0.0</td>\n",
       "      <td>Sometimes</td>\n",
       "      <td>Public_Transportation</td>\n",
       "      <td>Normal_Weight</td>\n",
       "    </tr>\n",
       "    <tr>\n",
       "      <th>2</th>\n",
       "      <td>Male</td>\n",
       "      <td>23.0</td>\n",
       "      <td>1.80</td>\n",
       "      <td>77.0</td>\n",
       "      <td>yes</td>\n",
       "      <td>no</td>\n",
       "      <td>2.0</td>\n",
       "      <td>3.0</td>\n",
       "      <td>Sometimes</td>\n",
       "      <td>no</td>\n",
       "      <td>2.0</td>\n",
       "      <td>no</td>\n",
       "      <td>2.0</td>\n",
       "      <td>1.0</td>\n",
       "      <td>Frequently</td>\n",
       "      <td>Public_Transportation</td>\n",
       "      <td>Normal_Weight</td>\n",
       "    </tr>\n",
       "    <tr>\n",
       "      <th>3</th>\n",
       "      <td>Male</td>\n",
       "      <td>27.0</td>\n",
       "      <td>1.80</td>\n",
       "      <td>87.0</td>\n",
       "      <td>no</td>\n",
       "      <td>no</td>\n",
       "      <td>3.0</td>\n",
       "      <td>3.0</td>\n",
       "      <td>Sometimes</td>\n",
       "      <td>no</td>\n",
       "      <td>2.0</td>\n",
       "      <td>no</td>\n",
       "      <td>2.0</td>\n",
       "      <td>0.0</td>\n",
       "      <td>Frequently</td>\n",
       "      <td>Walking</td>\n",
       "      <td>Overweight_Level_I</td>\n",
       "    </tr>\n",
       "    <tr>\n",
       "      <th>4</th>\n",
       "      <td>Male</td>\n",
       "      <td>22.0</td>\n",
       "      <td>1.78</td>\n",
       "      <td>89.8</td>\n",
       "      <td>no</td>\n",
       "      <td>no</td>\n",
       "      <td>2.0</td>\n",
       "      <td>1.0</td>\n",
       "      <td>Sometimes</td>\n",
       "      <td>no</td>\n",
       "      <td>2.0</td>\n",
       "      <td>no</td>\n",
       "      <td>0.0</td>\n",
       "      <td>0.0</td>\n",
       "      <td>Sometimes</td>\n",
       "      <td>Public_Transportation</td>\n",
       "      <td>Overweight_Level_II</td>\n",
       "    </tr>\n",
       "  </tbody>\n",
       "</table>\n",
       "</div>"
      ],
      "text/plain": [
       "   Gender   Age  Height  Weight family_history_with_overweight FAVC  FCVC  \\\n",
       "0  Female  21.0    1.62    64.0                            yes   no   2.0   \n",
       "1  Female  21.0    1.52    56.0                            yes   no   3.0   \n",
       "2    Male  23.0    1.80    77.0                            yes   no   2.0   \n",
       "3    Male  27.0    1.80    87.0                             no   no   3.0   \n",
       "4    Male  22.0    1.78    89.8                             no   no   2.0   \n",
       "\n",
       "   NCP       CAEC SMOKE  CH2O  SCC  FAF  TUE        CALC  \\\n",
       "0  3.0  Sometimes    no   2.0   no  0.0  1.0          no   \n",
       "1  3.0  Sometimes   yes   3.0  yes  3.0  0.0   Sometimes   \n",
       "2  3.0  Sometimes    no   2.0   no  2.0  1.0  Frequently   \n",
       "3  3.0  Sometimes    no   2.0   no  2.0  0.0  Frequently   \n",
       "4  1.0  Sometimes    no   2.0   no  0.0  0.0   Sometimes   \n",
       "\n",
       "                  MTRANS           NObeyesdad  \n",
       "0  Public_Transportation        Normal_Weight  \n",
       "1  Public_Transportation        Normal_Weight  \n",
       "2  Public_Transportation        Normal_Weight  \n",
       "3                Walking   Overweight_Level_I  \n",
       "4  Public_Transportation  Overweight_Level_II  "
      ]
     },
     "execution_count": 54,
     "metadata": {},
     "output_type": "execute_result"
    }
   ],
   "source": [
    "# view few rows\n",
    "df.head()"
   ]
  },
  {
   "cell_type": "code",
   "execution_count": 55,
   "id": "c9ef521e-e863-4cb5-95c5-7d9ad662437e",
   "metadata": {},
   "outputs": [],
   "source": [
    "#convert all column names to lower case for consistent case\n",
    "col_names = {cols: cols.lower()\n",
    " for cols in df.columns\n",
    "}\n",
    "\n",
    "df = df.rename(columns=col_names)"
   ]
  },
  {
   "cell_type": "code",
   "execution_count": 56,
   "id": "11f92ba5-f28e-49d5-9605-03d87cdf24d2",
   "metadata": {},
   "outputs": [
    {
     "data": {
      "text/html": [
       "<div>\n",
       "<style scoped>\n",
       "    .dataframe tbody tr th:only-of-type {\n",
       "        vertical-align: middle;\n",
       "    }\n",
       "\n",
       "    .dataframe tbody tr th {\n",
       "        vertical-align: top;\n",
       "    }\n",
       "\n",
       "    .dataframe thead th {\n",
       "        text-align: right;\n",
       "    }\n",
       "</style>\n",
       "<table border=\"1\" class=\"dataframe\">\n",
       "  <thead>\n",
       "    <tr style=\"text-align: right;\">\n",
       "      <th></th>\n",
       "      <th>gender</th>\n",
       "      <th>age</th>\n",
       "      <th>height</th>\n",
       "      <th>weight</th>\n",
       "      <th>family_history_with_overweight</th>\n",
       "      <th>favc</th>\n",
       "      <th>fcvc</th>\n",
       "      <th>ncp</th>\n",
       "      <th>caec</th>\n",
       "      <th>smoke</th>\n",
       "      <th>ch2o</th>\n",
       "      <th>scc</th>\n",
       "      <th>faf</th>\n",
       "      <th>tue</th>\n",
       "      <th>calc</th>\n",
       "      <th>mtrans</th>\n",
       "      <th>nobeyesdad</th>\n",
       "    </tr>\n",
       "  </thead>\n",
       "  <tbody>\n",
       "    <tr>\n",
       "      <th>0</th>\n",
       "      <td>Female</td>\n",
       "      <td>21.0</td>\n",
       "      <td>1.62</td>\n",
       "      <td>64.0</td>\n",
       "      <td>yes</td>\n",
       "      <td>no</td>\n",
       "      <td>2.0</td>\n",
       "      <td>3.0</td>\n",
       "      <td>Sometimes</td>\n",
       "      <td>no</td>\n",
       "      <td>2.0</td>\n",
       "      <td>no</td>\n",
       "      <td>0.0</td>\n",
       "      <td>1.0</td>\n",
       "      <td>no</td>\n",
       "      <td>Public_Transportation</td>\n",
       "      <td>Normal_Weight</td>\n",
       "    </tr>\n",
       "    <tr>\n",
       "      <th>1</th>\n",
       "      <td>Female</td>\n",
       "      <td>21.0</td>\n",
       "      <td>1.52</td>\n",
       "      <td>56.0</td>\n",
       "      <td>yes</td>\n",
       "      <td>no</td>\n",
       "      <td>3.0</td>\n",
       "      <td>3.0</td>\n",
       "      <td>Sometimes</td>\n",
       "      <td>yes</td>\n",
       "      <td>3.0</td>\n",
       "      <td>yes</td>\n",
       "      <td>3.0</td>\n",
       "      <td>0.0</td>\n",
       "      <td>Sometimes</td>\n",
       "      <td>Public_Transportation</td>\n",
       "      <td>Normal_Weight</td>\n",
       "    </tr>\n",
       "    <tr>\n",
       "      <th>2</th>\n",
       "      <td>Male</td>\n",
       "      <td>23.0</td>\n",
       "      <td>1.80</td>\n",
       "      <td>77.0</td>\n",
       "      <td>yes</td>\n",
       "      <td>no</td>\n",
       "      <td>2.0</td>\n",
       "      <td>3.0</td>\n",
       "      <td>Sometimes</td>\n",
       "      <td>no</td>\n",
       "      <td>2.0</td>\n",
       "      <td>no</td>\n",
       "      <td>2.0</td>\n",
       "      <td>1.0</td>\n",
       "      <td>Frequently</td>\n",
       "      <td>Public_Transportation</td>\n",
       "      <td>Normal_Weight</td>\n",
       "    </tr>\n",
       "    <tr>\n",
       "      <th>3</th>\n",
       "      <td>Male</td>\n",
       "      <td>27.0</td>\n",
       "      <td>1.80</td>\n",
       "      <td>87.0</td>\n",
       "      <td>no</td>\n",
       "      <td>no</td>\n",
       "      <td>3.0</td>\n",
       "      <td>3.0</td>\n",
       "      <td>Sometimes</td>\n",
       "      <td>no</td>\n",
       "      <td>2.0</td>\n",
       "      <td>no</td>\n",
       "      <td>2.0</td>\n",
       "      <td>0.0</td>\n",
       "      <td>Frequently</td>\n",
       "      <td>Walking</td>\n",
       "      <td>Overweight_Level_I</td>\n",
       "    </tr>\n",
       "    <tr>\n",
       "      <th>4</th>\n",
       "      <td>Male</td>\n",
       "      <td>22.0</td>\n",
       "      <td>1.78</td>\n",
       "      <td>89.8</td>\n",
       "      <td>no</td>\n",
       "      <td>no</td>\n",
       "      <td>2.0</td>\n",
       "      <td>1.0</td>\n",
       "      <td>Sometimes</td>\n",
       "      <td>no</td>\n",
       "      <td>2.0</td>\n",
       "      <td>no</td>\n",
       "      <td>0.0</td>\n",
       "      <td>0.0</td>\n",
       "      <td>Sometimes</td>\n",
       "      <td>Public_Transportation</td>\n",
       "      <td>Overweight_Level_II</td>\n",
       "    </tr>\n",
       "  </tbody>\n",
       "</table>\n",
       "</div>"
      ],
      "text/plain": [
       "   gender   age  height  weight family_history_with_overweight favc  fcvc  \\\n",
       "0  Female  21.0    1.62    64.0                            yes   no   2.0   \n",
       "1  Female  21.0    1.52    56.0                            yes   no   3.0   \n",
       "2    Male  23.0    1.80    77.0                            yes   no   2.0   \n",
       "3    Male  27.0    1.80    87.0                             no   no   3.0   \n",
       "4    Male  22.0    1.78    89.8                             no   no   2.0   \n",
       "\n",
       "   ncp       caec smoke  ch2o  scc  faf  tue        calc  \\\n",
       "0  3.0  Sometimes    no   2.0   no  0.0  1.0          no   \n",
       "1  3.0  Sometimes   yes   3.0  yes  3.0  0.0   Sometimes   \n",
       "2  3.0  Sometimes    no   2.0   no  2.0  1.0  Frequently   \n",
       "3  3.0  Sometimes    no   2.0   no  2.0  0.0  Frequently   \n",
       "4  1.0  Sometimes    no   2.0   no  0.0  0.0   Sometimes   \n",
       "\n",
       "                  mtrans           nobeyesdad  \n",
       "0  Public_Transportation        Normal_Weight  \n",
       "1  Public_Transportation        Normal_Weight  \n",
       "2  Public_Transportation        Normal_Weight  \n",
       "3                Walking   Overweight_Level_I  \n",
       "4  Public_Transportation  Overweight_Level_II  "
      ]
     },
     "execution_count": 56,
     "metadata": {},
     "output_type": "execute_result"
    }
   ],
   "source": [
    "# view few rows\n",
    "df.head()"
   ]
  },
  {
   "cell_type": "code",
   "execution_count": 57,
   "id": "2739f154-00e3-4906-a74d-c45c84c51eeb",
   "metadata": {},
   "outputs": [
    {
     "data": {
      "text/plain": [
       "(2111, 17)"
      ]
     },
     "execution_count": 57,
     "metadata": {},
     "output_type": "execute_result"
    }
   ],
   "source": [
    "#check dimensions of dataset\n",
    "df.shape"
   ]
  },
  {
   "cell_type": "code",
   "execution_count": 58,
   "id": "5ba03467-d7bb-4617-84ec-7e89b7d69498",
   "metadata": {},
   "outputs": [],
   "source": [
    "# define numerical features, categorical features and target\n",
    "\n",
    "numerical_features = [\"age\", \"fcvc\", \"ncp\", \"ch2o\",\"faf\", \"tue\",\"height\",\"weight\"]\n",
    "categorical_features = [\"gender\", \"family_history_with_overweight\", \"favc\", \"caec\", \"smoke\", \"scc\", \"calc\", \"mtrans\"]\n",
    "target = \"nobeyesdad\""
   ]
  },
  {
   "cell_type": "code",
   "execution_count": 59,
   "id": "9adf4245-4e34-4012-a4f6-bbdf9ff01578",
   "metadata": {},
   "outputs": [
    {
     "data": {
      "image/png": "[encoded data removed]",
      "text/plain": [
       "<Figure size 640x480 with 1 Axes>"
      ]
     },
     "metadata": {},
     "output_type": "display_data"
    }
   ],
   "source": [
    "#get average frequency of physical activity for each obesity levels \n",
    "grouped = df[[\"nobeyesdad\",\"faf\"]].groupby(\"nobeyesdad\").mean()\n",
    "\n",
    "# plot to view frequency of physical activity relationship with obesity levels \n",
    "sns.barplot(data=grouped, x=\"nobeyesdad\", y=\"faf\")\n",
    "plt.tick_params(labelright=True)\n",
    "plt.title(\"Fig 1. Average frequency of physical activity and Obesity levels\")\n",
    "plt.ylabel(\"Frequency of physical activity\")\n",
    "plt.xlabel(\"Obesity\")\n",
    "plt.xticks(rotation=90)\n",
    "plt.show()"
   ]
  },
  {
   "cell_type": "markdown",
   "id": "10837288-1d39-4609-b247-fd7b3536ec1e",
   "metadata": {},
   "source": [
    "Fig 1 shows that the average frequency of physical activity among obese and overweight people is lower than those who are normal weight or underweight. This may indicate the presence of a relationship between obesity and the frequency of physical activity."
   ]
  },
  {
   "cell_type": "code",
   "execution_count": 60,
   "id": "f1b6c02b-bcde-4681-9e81-05b80de51599",
   "metadata": {},
   "outputs": [
    {
     "data": {
      "image/png": "[encoded data removed]",
      "text/plain": [
       "<Figure size 640x480 with 1 Axes>"
      ]
     },
     "metadata": {},
     "output_type": "display_data"
    }
   ],
   "source": [
    "#get counts of observations for each obesity levels based on whether having a family history of overweight\n",
    "grouped = df.groupby([\"nobeyesdad\",\"family_history_with_overweight\"]).count()[\"age\"].unstack()\n",
    "\n",
    "# plot to view family history of overweight relationship with obesity levels\n",
    "grouped.plot(kind='barh', stacked=True)\n",
    "# sns.barplot(data=grouped, x=\"nobeyesdad\", y=\"age\", hue=\"family_history_with_overweight\")\n",
    "plt.title(\"Fig 2. Family history of overweight and Obesity levels\")\n",
    "plt.xlabel(\"Count\")\n",
    "plt.ylabel(\"Obesity Levels\")\n",
    "plt.legend(loc=\"best\")\n",
    "plt.xticks(rotation=90)\n",
    "plt.show()"
   ]
  },
  {
   "cell_type": "markdown",
   "id": "ad84b30f-8205-41e8-80d0-318ae6f92407",
   "metadata": {},
   "source": [
    "Fig 2 shows that most of the obese and overweight people have a family history of overweight. This indicates that family history may play a vital role in increasing the risk of obesity, which may be due to genetic factors."
   ]
  },
  {
   "cell_type": "code",
   "execution_count": 61,
   "id": "094c058e-a0fe-443f-808a-3d092b8ef424",
   "metadata": {},
   "outputs": [
    {
     "data": {
      "image/png": "[encoded data removed]",
      "text/plain": [
       "<Figure size 640x480 with 1 Axes>"
      ]
     },
     "metadata": {},
     "output_type": "display_data"
    }
   ],
   "source": [
    "#get counts of observations for each obesity levels based on consumption of high-calorie food consumption\n",
    "grouped = df.groupby([\"nobeyesdad\",\"favc\"]).count()[\"age\"].unstack()\n",
    "\n",
    "# create plot to visualize high-calorie food consumption relationship with various obesity levels\n",
    "grouped.plot(kind='barh', stacked=True)\n",
    "plt.title(\"Fig 3. High-calorie food consumption and Obesity levels\")\n",
    "plt.xlabel(\"Count\")\n",
    "plt.ylabel(\"Obesity Levels\")\n",
    "plt.legend(loc=\"best\")\n",
    "plt.show()"
   ]
  },
  {
   "cell_type": "markdown",
   "id": "8daf2d55-f254-4083-a06f-3a14b155225d",
   "metadata": {},
   "source": [
    "Fig 3 shows that the majority of the obese people frequenly consume frequently high-calorie food. This indicates a potential presence of a relationship between obesity and frequent consumption of high-calorie foods."
   ]
  },
  {
   "cell_type": "code",
   "execution_count": 62,
   "id": "2be6d017-11dc-4f9d-aaa3-ade16d8c1137",
   "metadata": {},
   "outputs": [
    {
     "data": {
      "image/png": "[encoded data removed]",
      "text/plain": [
       "<Figure size 640x480 with 1 Axes>"
      ]
     },
     "metadata": {},
     "output_type": "display_data"
    }
   ],
   "source": [
    "# plot to view relationship of age with obesity levels\n",
    "sns.boxplot(x=df[\"nobeyesdad\"], y=df[\"age\"], hue=df[\"nobeyesdad\"])\n",
    "plt.tick_params(labelright=True)\n",
    "plt.title(\"Fig 4. Age and obesity levels\")\n",
    "plt.ylabel(\"Age (years)\")\n",
    "plt.xlabel(\"Obesity\")\n",
    "plt.xticks(rotation=90)\n",
    "plt.show()"
   ]
  },
  {
   "cell_type": "markdown",
   "id": "95bc3287-25d7-4f36-a795-a3feb5aa46af",
   "metadata": {},
   "source": [
    "Fig 4 shows that age may also be important in increasing the obesity risk. The boxplots show that the median age of obese and overweight people is higher than that of those who are underweight or normal weight. It appears that as people become older, their risk of obesity also increases."
   ]
  },
  {
   "cell_type": "code",
   "execution_count": 63,
   "id": "749ddde6-838e-442b-9db4-64734573f4e9",
   "metadata": {},
   "outputs": [
    {
     "data": {
      "image/png": "[encoded data removed]",
      "text/plain": [
       "<Figure size 640x480 with 1 Axes>"
      ]
     },
     "metadata": {},
     "output_type": "display_data"
    }
   ],
   "source": [
    "# plot to view relationship of weight with obesity levels\n",
    "sns.boxplot(x=df[\"nobeyesdad\"], y=df[\"weight\"], hue=df[\"nobeyesdad\"])\n",
    "plt.tick_params(labelright=True)\n",
    "plt.title(\"Fig 5. Weight and obesity levels\")\n",
    "plt.ylabel(\"Weight (kgs)\")\n",
    "plt.xlabel(\"Obesity\")\n",
    "plt.xticks(rotation=90)\n",
    "plt.show()"
   ]
  },
  {
   "cell_type": "markdown",
   "id": "b31a10a6-b7b4-4f75-b697-7490de93758f",
   "metadata": {},
   "source": [
    "We already know that weight is one of the most important factors that contribute to obesity. Fig 5 also aligns with this understanding and shows that people with obesity have much higher weight than those are with normal weight. We see that the median weight for type II and type III obesity levels are much higher than that of normal weight and overweight."
   ]
  },
  {
   "cell_type": "markdown",
   "id": "24f21225-7985-456b-aa92-53fca1066553",
   "metadata": {},
   "source": [
    "#### Summary\n",
    "\n",
    "From the above plots, we observe that there is a relationship between eating habits, physical activity and obesity. We noticed that the majority of the obese people frequently consume high-calorifie foods and perform lower physical activity. Family history may also play a vital role in increasing the risk of obesity because we see that most obese and overweight people have a family history of overweight. We also observed that obese and overweight people are generally older, and therefore, obesity risk may also increase with age. Therefore, eating habits, physical activity, family history, age and body weight appear to be significant factors in predicting obesity levels for an individual."
   ]
  },
  {
   "cell_type": "markdown",
   "id": "d2b8174a-8cb2-431b-9ceb-4a6cd519988e",
   "metadata": {
    "jp-MarkdownHeadingCollapsed": true
   },
   "source": [
    "### Term Project Milestone 2"
   ]
  },
  {
   "cell_type": "markdown",
   "id": "1f7ea21f-c947-4122-b28e-af8ae6da2a37",
   "metadata": {},
   "source": [
    "#### Data Preparation"
   ]
  },
  {
   "cell_type": "code",
   "execution_count": 64,
   "id": "107dae2d-e05f-44dc-9919-27b4cbfec64b",
   "metadata": {},
   "outputs": [],
   "source": [
    "from sklearn.model_selection import train_test_split\n",
    "from sklearn.feature_selection import SelectKBest, SelectPercentile, chi2, f_classif\n",
    "from sklearn.preprocessing import MinMaxScaler\n",
    "import numpy as np"
   ]
  },
  {
   "cell_type": "markdown",
   "id": "80e87013-150c-4b6b-9876-27a0bbe72682",
   "metadata": {},
   "source": [
    "Check for Imbalance in target classes"
   ]
  },
  {
   "cell_type": "code",
   "execution_count": 65,
   "id": "3ae29a7d-2bec-4bbe-a0a9-09ec2e8cf402",
   "metadata": {},
   "outputs": [
    {
     "data": {
      "image/png": "[encoded data removed]",
      "text/plain": [
       "<Figure size 640x480 with 1 Axes>"
      ]
     },
     "metadata": {},
     "output_type": "display_data"
    }
   ],
   "source": [
    "# check the count of classes in target\n",
    "grouped = df.groupby(\"nobeyesdad\").count()[\"gender\"]\n",
    "grouped.plot(kind=\"bar\")\n",
    "plt.tick_params(labelright=True)\n",
    "plt.title(\"Fig 6. Count of observations in Obesity classes\")\n",
    "plt.ylabel(\"Count\")\n",
    "plt.xlabel(\"Obesity Levels\")\n",
    "plt.xticks(rotation=90)\n",
    "plt.show()"
   ]
  },
  {
   "cell_type": "markdown",
   "id": "f016eb1f-f425-4156-9131-aa8f70e1d7f0",
   "metadata": {},
   "source": [
    "From above plot we do not see any significant imbalance among the target classes."
   ]
  },
  {
   "cell_type": "markdown",
   "id": "4fbe0573-d458-43f9-a12d-76f3c6bd7d80",
   "metadata": {},
   "source": [
    "Check for missing values"
   ]
  },
  {
   "cell_type": "code",
   "execution_count": 66,
   "id": "e9a99aaa-3d92-47f1-a3d8-3be54a5780f4",
   "metadata": {},
   "outputs": [
    {
     "data": {
      "text/plain": [
       "gender                            0\n",
       "age                               0\n",
       "height                            0\n",
       "weight                            0\n",
       "family_history_with_overweight    0\n",
       "favc                              0\n",
       "fcvc                              0\n",
       "ncp                               0\n",
       "caec                              0\n",
       "smoke                             0\n",
       "ch2o                              0\n",
       "scc                               0\n",
       "faf                               0\n",
       "tue                               0\n",
       "calc                              0\n",
       "mtrans                            0\n",
       "nobeyesdad                        0\n",
       "dtype: int64"
      ]
     },
     "execution_count": 66,
     "metadata": {},
     "output_type": "execute_result"
    }
   ],
   "source": [
    "df.isna().sum()"
   ]
  },
  {
   "cell_type": "markdown",
   "id": "ab4c824d-1851-4af1-b2bf-6c3d12f8681a",
   "metadata": {},
   "source": [
    "From above, we do not notice any missing values in the dataset."
   ]
  },
  {
   "cell_type": "markdown",
   "id": "5a40af38-78ad-4ed6-b3d2-738a8839c803",
   "metadata": {
    "jp-MarkdownHeadingCollapsed": true
   },
   "source": [
    "###### It is better to transform categories to _oridinal_ values if there is an order in case of Categorical feaures."
   ]
  },
  {
   "cell_type": "markdown",
   "id": "c2046a59-da34-4df3-b18f-a9318383b0c2",
   "metadata": {},
   "source": [
    "###### Categories in `consumption of food between meals` have some natural order. Based on the nature of this study, _no consumption of food between meals_ has a lower order than _frequent consumption of food between meals_, because _frequent consumption of food between meals_ can cause intake of more calories than our body needs and increase the obesity risk."
   ]
  },
  {
   "cell_type": "code",
   "execution_count": 67,
   "id": "63601250-0962-460d-b0a5-46b39a1d9109",
   "metadata": {},
   "outputs": [],
   "source": [
    "# change Consumption of food between meals to ordinal value\n",
    "df[\"caec\"] = df[\"caec\"].replace(\n",
    "    {\n",
    "        \"no\": 0,\n",
    "        \"Sometimes\": 1,\n",
    "        \"Frequently\": 2,\n",
    "        \"Always\": 3,\n",
    "    }\n",
    ")"
   ]
  },
  {
   "cell_type": "markdown",
   "id": "8212e62b-3554-45aa-8c4c-6bcff8bfe0f4",
   "metadata": {},
   "source": [
    "###### Categories in `consumption of alcohol` have some natural order. Based on the nature of this study, _no consumption of alcohol_ has a lower order than _frequent or always consumption of alcohol_, because _consumption of alcohol_ has been medically associated with _obesity_ related problems."
   ]
  },
  {
   "cell_type": "code",
   "execution_count": 68,
   "id": "d64244d4-5e15-4e22-bf54-41606bc73e5d",
   "metadata": {},
   "outputs": [],
   "source": [
    "# change Consumption of alcohol to ordinal value\n",
    "df[\"calc\"] = df[\"calc\"].replace(\n",
    "    {\n",
    "        \"no\": 0,\n",
    "        \"Sometimes\": 1,\n",
    "        \"Frequently\": 2,\n",
    "        \"Always\": 3,\n",
    "    }\n",
    ")"
   ]
  },
  {
   "cell_type": "markdown",
   "id": "a5ad4b33-cb4c-4916-aaa1-9b4f22f31d18",
   "metadata": {},
   "source": [
    "###### Categories in `mode of transportation` have some natural order. Based on the nature of this study, _using automobile for transportation_ has a lower order than _walking or biking_. This is because _walking or biking_ will burn more calories and we know that burning more calories helps in preventing or managing _obesity_."
   ]
  },
  {
   "cell_type": "code",
   "execution_count": 69,
   "id": "4b35acb6-3404-4597-89e2-537c4867386a",
   "metadata": {},
   "outputs": [],
   "source": [
    "# change Mode of transportation to ordinal value\n",
    "df[\"mtrans\"] = df[\"mtrans\"].replace(\n",
    "    {\n",
    "        \"Automobile\": 0,\n",
    "        \"Motorbike\": 1,\n",
    "        \"Public_Transportation\": 2,\n",
    "        \"Bike\": 3,\n",
    "        \"Walking\": 4\n",
    "    }\n",
    ")"
   ]
  },
  {
   "cell_type": "code",
   "execution_count": 70,
   "id": "e3acb9ba-6ba9-47ea-839d-7c3efbbccaaf",
   "metadata": {},
   "outputs": [
    {
     "data": {
      "text/html": [
       "<div>\n",
       "<style scoped>\n",
       "    .dataframe tbody tr th:only-of-type {\n",
       "        vertical-align: middle;\n",
       "    }\n",
       "\n",
       "    .dataframe tbody tr th {\n",
       "        vertical-align: top;\n",
       "    }\n",
       "\n",
       "    .dataframe thead th {\n",
       "        text-align: right;\n",
       "    }\n",
       "</style>\n",
       "<table border=\"1\" class=\"dataframe\">\n",
       "  <thead>\n",
       "    <tr style=\"text-align: right;\">\n",
       "      <th></th>\n",
       "      <th>gender</th>\n",
       "      <th>age</th>\n",
       "      <th>height</th>\n",
       "      <th>weight</th>\n",
       "      <th>family_history_with_overweight</th>\n",
       "      <th>favc</th>\n",
       "      <th>fcvc</th>\n",
       "      <th>ncp</th>\n",
       "      <th>caec</th>\n",
       "      <th>smoke</th>\n",
       "      <th>ch2o</th>\n",
       "      <th>scc</th>\n",
       "      <th>faf</th>\n",
       "      <th>tue</th>\n",
       "      <th>calc</th>\n",
       "      <th>mtrans</th>\n",
       "      <th>nobeyesdad</th>\n",
       "    </tr>\n",
       "  </thead>\n",
       "  <tbody>\n",
       "    <tr>\n",
       "      <th>0</th>\n",
       "      <td>Female</td>\n",
       "      <td>21.0</td>\n",
       "      <td>1.62</td>\n",
       "      <td>64.0</td>\n",
       "      <td>yes</td>\n",
       "      <td>no</td>\n",
       "      <td>2.0</td>\n",
       "      <td>3.0</td>\n",
       "      <td>1</td>\n",
       "      <td>no</td>\n",
       "      <td>2.0</td>\n",
       "      <td>no</td>\n",
       "      <td>0.0</td>\n",
       "      <td>1.0</td>\n",
       "      <td>0</td>\n",
       "      <td>2</td>\n",
       "      <td>Normal_Weight</td>\n",
       "    </tr>\n",
       "    <tr>\n",
       "      <th>1</th>\n",
       "      <td>Female</td>\n",
       "      <td>21.0</td>\n",
       "      <td>1.52</td>\n",
       "      <td>56.0</td>\n",
       "      <td>yes</td>\n",
       "      <td>no</td>\n",
       "      <td>3.0</td>\n",
       "      <td>3.0</td>\n",
       "      <td>1</td>\n",
       "      <td>yes</td>\n",
       "      <td>3.0</td>\n",
       "      <td>yes</td>\n",
       "      <td>3.0</td>\n",
       "      <td>0.0</td>\n",
       "      <td>1</td>\n",
       "      <td>2</td>\n",
       "      <td>Normal_Weight</td>\n",
       "    </tr>\n",
       "    <tr>\n",
       "      <th>2</th>\n",
       "      <td>Male</td>\n",
       "      <td>23.0</td>\n",
       "      <td>1.80</td>\n",
       "      <td>77.0</td>\n",
       "      <td>yes</td>\n",
       "      <td>no</td>\n",
       "      <td>2.0</td>\n",
       "      <td>3.0</td>\n",
       "      <td>1</td>\n",
       "      <td>no</td>\n",
       "      <td>2.0</td>\n",
       "      <td>no</td>\n",
       "      <td>2.0</td>\n",
       "      <td>1.0</td>\n",
       "      <td>2</td>\n",
       "      <td>2</td>\n",
       "      <td>Normal_Weight</td>\n",
       "    </tr>\n",
       "    <tr>\n",
       "      <th>3</th>\n",
       "      <td>Male</td>\n",
       "      <td>27.0</td>\n",
       "      <td>1.80</td>\n",
       "      <td>87.0</td>\n",
       "      <td>no</td>\n",
       "      <td>no</td>\n",
       "      <td>3.0</td>\n",
       "      <td>3.0</td>\n",
       "      <td>1</td>\n",
       "      <td>no</td>\n",
       "      <td>2.0</td>\n",
       "      <td>no</td>\n",
       "      <td>2.0</td>\n",
       "      <td>0.0</td>\n",
       "      <td>2</td>\n",
       "      <td>4</td>\n",
       "      <td>Overweight_Level_I</td>\n",
       "    </tr>\n",
       "    <tr>\n",
       "      <th>4</th>\n",
       "      <td>Male</td>\n",
       "      <td>22.0</td>\n",
       "      <td>1.78</td>\n",
       "      <td>89.8</td>\n",
       "      <td>no</td>\n",
       "      <td>no</td>\n",
       "      <td>2.0</td>\n",
       "      <td>1.0</td>\n",
       "      <td>1</td>\n",
       "      <td>no</td>\n",
       "      <td>2.0</td>\n",
       "      <td>no</td>\n",
       "      <td>0.0</td>\n",
       "      <td>0.0</td>\n",
       "      <td>1</td>\n",
       "      <td>2</td>\n",
       "      <td>Overweight_Level_II</td>\n",
       "    </tr>\n",
       "  </tbody>\n",
       "</table>\n",
       "</div>"
      ],
      "text/plain": [
       "   gender   age  height  weight family_history_with_overweight favc  fcvc  \\\n",
       "0  Female  21.0    1.62    64.0                            yes   no   2.0   \n",
       "1  Female  21.0    1.52    56.0                            yes   no   3.0   \n",
       "2    Male  23.0    1.80    77.0                            yes   no   2.0   \n",
       "3    Male  27.0    1.80    87.0                             no   no   3.0   \n",
       "4    Male  22.0    1.78    89.8                             no   no   2.0   \n",
       "\n",
       "   ncp  caec smoke  ch2o  scc  faf  tue  calc  mtrans           nobeyesdad  \n",
       "0  3.0     1    no   2.0   no  0.0  1.0     0       2        Normal_Weight  \n",
       "1  3.0     1   yes   3.0  yes  3.0  0.0     1       2        Normal_Weight  \n",
       "2  3.0     1    no   2.0   no  2.0  1.0     2       2        Normal_Weight  \n",
       "3  3.0     1    no   2.0   no  2.0  0.0     2       4   Overweight_Level_I  \n",
       "4  1.0     1    no   2.0   no  0.0  0.0     1       2  Overweight_Level_II  "
      ]
     },
     "execution_count": 70,
     "metadata": {},
     "output_type": "execute_result"
    }
   ],
   "source": [
    "# view few rows after the transforms\n",
    "df.head()"
   ]
  },
  {
   "cell_type": "markdown",
   "id": "c125bff0-a079-4775-acd9-722f81ec9e6f",
   "metadata": {},
   "source": [
    "###### Encode Categorical features with _dummy_ variables because we need to convert categorical classes to numerical values for modeling. Sklearn models expects features to be numerical values. Also,  we are dropping the first value of dummy variable to prevent multicollinearity."
   ]
  },
  {
   "cell_type": "code",
   "execution_count": 71,
   "id": "044ab459-de2a-47e8-a1bd-c3e6d04aeadd",
   "metadata": {},
   "outputs": [],
   "source": [
    "# separate features and target\n",
    "target_column = \"nobeyesdad\"\n",
    "features = df.drop(columns = target_column)\n",
    "target = df[target_column]"
   ]
  },
  {
   "cell_type": "code",
   "execution_count": 72,
   "id": "980a3a35-3737-42ff-b168-ab2b25590258",
   "metadata": {},
   "outputs": [],
   "source": [
    "# get dummy variables, dropping the first dummy variable\n",
    "features_with_dummies = pd.get_dummies(features, drop_first=True, dtype=\"int\")"
   ]
  },
  {
   "cell_type": "code",
   "execution_count": 73,
   "id": "37e71d77-c68f-4145-9cf7-ad250c1835fe",
   "metadata": {},
   "outputs": [
    {
     "data": {
      "text/html": [
       "<div>\n",
       "<style scoped>\n",
       "    .dataframe tbody tr th:only-of-type {\n",
       "        vertical-align: middle;\n",
       "    }\n",
       "\n",
       "    .dataframe tbody tr th {\n",
       "        vertical-align: top;\n",
       "    }\n",
       "\n",
       "    .dataframe thead th {\n",
       "        text-align: right;\n",
       "    }\n",
       "</style>\n",
       "<table border=\"1\" class=\"dataframe\">\n",
       "  <thead>\n",
       "    <tr style=\"text-align: right;\">\n",
       "      <th></th>\n",
       "      <th>age</th>\n",
       "      <th>height</th>\n",
       "      <th>weight</th>\n",
       "      <th>fcvc</th>\n",
       "      <th>ncp</th>\n",
       "      <th>caec</th>\n",
       "      <th>ch2o</th>\n",
       "      <th>faf</th>\n",
       "      <th>tue</th>\n",
       "      <th>calc</th>\n",
       "      <th>mtrans</th>\n",
       "      <th>gender_Male</th>\n",
       "      <th>family_history_with_overweight_yes</th>\n",
       "      <th>favc_yes</th>\n",
       "      <th>smoke_yes</th>\n",
       "      <th>scc_yes</th>\n",
       "    </tr>\n",
       "  </thead>\n",
       "  <tbody>\n",
       "    <tr>\n",
       "      <th>0</th>\n",
       "      <td>21.0</td>\n",
       "      <td>1.62</td>\n",
       "      <td>64.0</td>\n",
       "      <td>2.0</td>\n",
       "      <td>3.0</td>\n",
       "      <td>1</td>\n",
       "      <td>2.0</td>\n",
       "      <td>0.0</td>\n",
       "      <td>1.0</td>\n",
       "      <td>0</td>\n",
       "      <td>2</td>\n",
       "      <td>0</td>\n",
       "      <td>1</td>\n",
       "      <td>0</td>\n",
       "      <td>0</td>\n",
       "      <td>0</td>\n",
       "    </tr>\n",
       "    <tr>\n",
       "      <th>1</th>\n",
       "      <td>21.0</td>\n",
       "      <td>1.52</td>\n",
       "      <td>56.0</td>\n",
       "      <td>3.0</td>\n",
       "      <td>3.0</td>\n",
       "      <td>1</td>\n",
       "      <td>3.0</td>\n",
       "      <td>3.0</td>\n",
       "      <td>0.0</td>\n",
       "      <td>1</td>\n",
       "      <td>2</td>\n",
       "      <td>0</td>\n",
       "      <td>1</td>\n",
       "      <td>0</td>\n",
       "      <td>1</td>\n",
       "      <td>1</td>\n",
       "    </tr>\n",
       "    <tr>\n",
       "      <th>2</th>\n",
       "      <td>23.0</td>\n",
       "      <td>1.80</td>\n",
       "      <td>77.0</td>\n",
       "      <td>2.0</td>\n",
       "      <td>3.0</td>\n",
       "      <td>1</td>\n",
       "      <td>2.0</td>\n",
       "      <td>2.0</td>\n",
       "      <td>1.0</td>\n",
       "      <td>2</td>\n",
       "      <td>2</td>\n",
       "      <td>1</td>\n",
       "      <td>1</td>\n",
       "      <td>0</td>\n",
       "      <td>0</td>\n",
       "      <td>0</td>\n",
       "    </tr>\n",
       "    <tr>\n",
       "      <th>3</th>\n",
       "      <td>27.0</td>\n",
       "      <td>1.80</td>\n",
       "      <td>87.0</td>\n",
       "      <td>3.0</td>\n",
       "      <td>3.0</td>\n",
       "      <td>1</td>\n",
       "      <td>2.0</td>\n",
       "      <td>2.0</td>\n",
       "      <td>0.0</td>\n",
       "      <td>2</td>\n",
       "      <td>4</td>\n",
       "      <td>1</td>\n",
       "      <td>0</td>\n",
       "      <td>0</td>\n",
       "      <td>0</td>\n",
       "      <td>0</td>\n",
       "    </tr>\n",
       "    <tr>\n",
       "      <th>4</th>\n",
       "      <td>22.0</td>\n",
       "      <td>1.78</td>\n",
       "      <td>89.8</td>\n",
       "      <td>2.0</td>\n",
       "      <td>1.0</td>\n",
       "      <td>1</td>\n",
       "      <td>2.0</td>\n",
       "      <td>0.0</td>\n",
       "      <td>0.0</td>\n",
       "      <td>1</td>\n",
       "      <td>2</td>\n",
       "      <td>1</td>\n",
       "      <td>0</td>\n",
       "      <td>0</td>\n",
       "      <td>0</td>\n",
       "      <td>0</td>\n",
       "    </tr>\n",
       "  </tbody>\n",
       "</table>\n",
       "</div>"
      ],
      "text/plain": [
       "    age  height  weight  fcvc  ncp  caec  ch2o  faf  tue  calc  mtrans  \\\n",
       "0  21.0    1.62    64.0   2.0  3.0     1   2.0  0.0  1.0     0       2   \n",
       "1  21.0    1.52    56.0   3.0  3.0     1   3.0  3.0  0.0     1       2   \n",
       "2  23.0    1.80    77.0   2.0  3.0     1   2.0  2.0  1.0     2       2   \n",
       "3  27.0    1.80    87.0   3.0  3.0     1   2.0  2.0  0.0     2       4   \n",
       "4  22.0    1.78    89.8   2.0  1.0     1   2.0  0.0  0.0     1       2   \n",
       "\n",
       "   gender_Male  family_history_with_overweight_yes  favc_yes  smoke_yes  \\\n",
       "0            0                                   1         0          0   \n",
       "1            0                                   1         0          1   \n",
       "2            1                                   1         0          0   \n",
       "3            1                                   0         0          0   \n",
       "4            1                                   0         0          0   \n",
       "\n",
       "   scc_yes  \n",
       "0        0  \n",
       "1        1  \n",
       "2        0  \n",
       "3        0  \n",
       "4        0  "
      ]
     },
     "execution_count": 73,
     "metadata": {},
     "output_type": "execute_result"
    }
   ],
   "source": [
    "# view few rows after the generating dummies\n",
    "features_with_dummies.head()"
   ]
  },
  {
   "cell_type": "code",
   "execution_count": 74,
   "id": "bb77e00a-df10-45b4-a1e7-c922bbbfd12f",
   "metadata": {},
   "outputs": [],
   "source": [
    "# define categorical and numerical feature names\n",
    "categorical_features = [\"caec\", \"calc\", \"mtrans\", \"gender_Male\", \"family_history_with_overweight_yes\", \"favc_yes\", \"smoke_yes\", \"scc_yes\"]\n",
    "numerical_features = [\"age\", \"weight\", \"height\", \"fcvc\", \"ncp\", \"ch2o\", \"faf\", \"tue\"]"
   ]
  },
  {
   "cell_type": "markdown",
   "id": "2c5ab528-e394-4d98-9155-8cbfa0fe6aa5",
   "metadata": {},
   "source": [
    "<div class=\"alert alert-block alert-info\">\n",
    "<b>Note:</b> As this point it is better to separate the training and test set because we are going to apply feature selection methods. We must fit the feature selection methods on training set and not test set, inorder to prevent data leakage.\n",
    "</div>"
   ]
  },
  {
   "cell_type": "code",
   "execution_count": 75,
   "id": "73d9af1f-1db6-4f22-8621-b873c6acd468",
   "metadata": {},
   "outputs": [],
   "source": [
    "# using sklearn's train_test_split method to split the dataset\n",
    "features_train, features_test, target_train, target_test = train_test_split(\n",
    "    features_with_dummies, target, test_size=0.2, random_state=42\n",
    ")"
   ]
  },
  {
   "cell_type": "markdown",
   "id": "6e8b7cce-7a62-4947-a40e-9514b14d0da9",
   "metadata": {},
   "source": [
    "<div class=\"alert alert-block alert-info\">\n",
    "<b>Note:</b> As this study involves categorical target, we are using $chi-square$ statistic to select the categorical features. Chi-sqaure statistic can be used to determine association or dependence between categorical variables. If there is no significant association or dependence with target then such features will not be informative or important in predicting the target.\n",
    "</div>"
   ]
  },
  {
   "cell_type": "code",
   "execution_count": 76,
   "id": "1abd18b1-28ff-44b1-9f54-ea152b076e2f",
   "metadata": {},
   "outputs": [],
   "source": [
    "# create a chi2 selector to select top 90 percent of feature\n",
    "chi2_selector = SelectPercentile(chi2, percentile=90)"
   ]
  },
  {
   "cell_type": "code",
   "execution_count": 77,
   "id": "681f91a3-bde9-4fcb-95cb-b594de497d33",
   "metadata": {},
   "outputs": [],
   "source": [
    "# generate chi-sqaured selected training and test features\n",
    "chi2_fitted_object = chi2_selector.fit(features_train[categorical_features], target_train)\n",
    "categorical_features_train_chi = chi2_fitted_object.transform(features_train[categorical_features])\n",
    "categorical_features_test_chi = chi2_fitted_object.transform(features_test[categorical_features])"
   ]
  },
  {
   "cell_type": "code",
   "execution_count": 78,
   "id": "9f60e078-e4dc-461b-a99f-4a38e6ecd0b7",
   "metadata": {},
   "outputs": [
    {
     "data": {
      "text/plain": [
       "(1688, 7)"
      ]
     },
     "execution_count": 78,
     "metadata": {},
     "output_type": "execute_result"
    }
   ],
   "source": [
    "# dimensions of the chi-sqaured selected feature matrix\n",
    "categorical_features_train_chi.shape"
   ]
  },
  {
   "cell_type": "code",
   "execution_count": 79,
   "id": "4867a5dc-22e8-4c28-8f87-ae76608cdd64",
   "metadata": {},
   "outputs": [],
   "source": [
    "# Get index of features that were selected using get_support() function\n",
    "best_features_indices = np.where(chi2_selector.get_support() == True)"
   ]
  },
  {
   "cell_type": "code",
   "execution_count": 80,
   "id": "10cbd2a4-18ca-463d-aa1e-0b9f2426863e",
   "metadata": {},
   "outputs": [],
   "source": [
    "# extract feature names using indices\n",
    "selected_categorical_features = features_train[categorical_features].columns[best_features_indices].values.tolist()"
   ]
  },
  {
   "cell_type": "code",
   "execution_count": 81,
   "id": "78163c6e-8da4-4a81-a846-e8d95fc96d2c",
   "metadata": {},
   "outputs": [
    {
     "data": {
      "text/plain": [
       "['caec',\n",
       " 'calc',\n",
       " 'mtrans',\n",
       " 'gender_Male',\n",
       " 'family_history_with_overweight_yes',\n",
       " 'smoke_yes',\n",
       " 'scc_yes']"
      ]
     },
     "execution_count": 81,
     "metadata": {},
     "output_type": "execute_result"
    }
   ],
   "source": [
    "# selected categorical feature names\n",
    "selected_categorical_features"
   ]
  },
  {
   "cell_type": "markdown",
   "id": "4fa8d75c-ba46-40b7-96c7-23d7f3068f63",
   "metadata": {},
   "source": [
    "<div class=\"alert alert-block alert-success\">\n",
    "<b>Note:</b> we notice that out of 8 categorical features, above chi selector selected 7 features and dropped `favc`.\n",
    "</div>"
   ]
  },
  {
   "cell_type": "markdown",
   "id": "f92af570-7cb5-4c5c-9f26-083a21a70dc2",
   "metadata": {},
   "source": [
    "<div class=\"alert alert-block alert-info\">\n",
    "<b>Note:</b> As this study involves categorical target, we are using ANOVA $f-value$ statistic to select the numerical features that have relationship with the target. ANOVA F-test can be used to determine if there is significant difference in variances of the numerical varaible between the groups of the target classes. If there is no significant difference, then such features will not be informative and important in predicting the target.\n",
    "</div>"
   ]
  },
  {
   "cell_type": "code",
   "execution_count": 82,
   "id": "864aed2f-c7fe-40af-a745-9396729e02c3",
   "metadata": {},
   "outputs": [],
   "source": [
    "# create a f-value selector to select top 90 percent of feature\n",
    "f_value_selector = SelectPercentile(f_classif, percentile=90)"
   ]
  },
  {
   "cell_type": "code",
   "execution_count": 83,
   "id": "cddcad34-2694-40f7-a009-00a4e24b1613",
   "metadata": {},
   "outputs": [],
   "source": [
    "# generate f-value selected train and test features\n",
    "f_value_fitted_object = f_value_selector.fit(features_train[numerical_features], target_train)\n",
    "numerical_features_train_fvalue = f_value_selector.transform(features_train[numerical_features])\n",
    "numerical_features_test_fvalue = f_value_selector.transform(features_test[numerical_features])"
   ]
  },
  {
   "cell_type": "code",
   "execution_count": 84,
   "id": "0ff08920-fb66-4a52-82a7-be0743e568fa",
   "metadata": {},
   "outputs": [
    {
     "data": {
      "text/plain": [
       "(1688, 7)"
      ]
     },
     "execution_count": 84,
     "metadata": {},
     "output_type": "execute_result"
    }
   ],
   "source": [
    "# dimensions of the f-value selected feature matrix\n",
    "numerical_features_train_fvalue.shape"
   ]
  },
  {
   "cell_type": "code",
   "execution_count": 85,
   "id": "4fa8e586-125a-4c5b-94c3-3c003ebf54db",
   "metadata": {},
   "outputs": [],
   "source": [
    "# Get index of features that were selected using get_support() function\n",
    "best_numerical_features_indices = np.where(f_value_selector.get_support() == True)"
   ]
  },
  {
   "cell_type": "code",
   "execution_count": 86,
   "id": "4fcdc0db-573c-4170-9433-086dc5953e14",
   "metadata": {},
   "outputs": [],
   "source": [
    "# extract feature names using indices\n",
    "selected_numerical_features = features_train[numerical_features].columns[best_numerical_features_indices].values.tolist()"
   ]
  },
  {
   "cell_type": "code",
   "execution_count": 87,
   "id": "4cc7089e-4282-4d71-b7c7-868890978565",
   "metadata": {},
   "outputs": [
    {
     "data": {
      "text/plain": [
       "['age', 'weight', 'height', 'fcvc', 'ncp', 'ch2o', 'faf']"
      ]
     },
     "execution_count": 87,
     "metadata": {},
     "output_type": "execute_result"
    }
   ],
   "source": [
    "# selected feature names\n",
    "selected_numerical_features"
   ]
  },
  {
   "cell_type": "markdown",
   "id": "338ee1b2-9832-4122-a819-59e9cfe0edf7",
   "metadata": {},
   "source": [
    "<div class=\"alert alert-block alert-success\">\n",
    "<b>Note:</b> we notice that out of 8 numerical features, above f-value selector selected 7 features and dropped `tue`.\n",
    "</div>"
   ]
  },
  {
   "cell_type": "markdown",
   "id": "9748610e-c90a-409b-b44e-e888a9124bd3",
   "metadata": {},
   "source": [
    "So, now $7$ categorical and $7$ numerical features remain after _feature selection_."
   ]
  },
  {
   "cell_type": "code",
   "execution_count": 88,
   "id": "37c8ee18-122a-46f5-b078-3a78ce48dfb7",
   "metadata": {},
   "outputs": [],
   "source": [
    "# create a single feature matrix conisting of selected numerical and categorical features for modeling\n",
    "selected_features_train = np.hstack((categorical_features_train_chi,numerical_features_train_fvalue))\n",
    "selected_features_test = np.hstack((categorical_features_test_chi,numerical_features_test_fvalue))"
   ]
  },
  {
   "cell_type": "code",
   "execution_count": 89,
   "id": "cc1f0b0a-cf31-4cd9-aadc-14cfebda28e4",
   "metadata": {},
   "outputs": [
    {
     "name": "stdout",
     "output_type": "stream",
     "text": [
      "Count of features for model building: 14\n",
      "original number of feature before feature selection: 16\n"
     ]
    }
   ],
   "source": [
    "# check the dimension of the feature matrix with only slected features\n",
    "print(f\"Count of features for model building: {selected_features_train.shape[1]}\")\n",
    "print(f\"original number of feature before feature selection: {features_train.shape[1]}\")"
   ]
  },
  {
   "cell_type": "markdown",
   "id": "ed32cf46-46d0-4802-bcaa-171a56d7ea8a",
   "metadata": {},
   "source": [
    "We will try to fit various models before selecting best performing model for this study. Some model weights are impacted by the scale of the features such as logistic regression, hence it is better to apply scaling so that all the features are in same scale. We are applying Min Max scaler because there are dummy variables in our features set."
   ]
  },
  {
   "cell_type": "code",
   "execution_count": 90,
   "id": "59cc2f10-3b7a-4b64-8ddc-a6d4e84fedb8",
   "metadata": {},
   "outputs": [],
   "source": [
    "# define scaler\n",
    "scaler = MinMaxScaler()"
   ]
  },
  {
   "cell_type": "code",
   "execution_count": 91,
   "id": "8b1c9965-3703-4adc-8ce8-b1c3b6cff64b",
   "metadata": {},
   "outputs": [
    {
     "data": {
      "text/html": [
       "<style>#sk-container-id-2 {\n",
       "  /* Definition of color scheme common for light and dark mode */\n",
       "  --sklearn-color-text: black;\n",
       "  --sklearn-color-line: gray;\n",
       "  /* Definition of color scheme for unfitted estimators */\n",
       "  --sklearn-color-unfitted-level-0: #fff5e6;\n",
       "  --sklearn-color-unfitted-level-1: #f6e4d2;\n",
       "  --sklearn-color-unfitted-level-2: #ffe0b3;\n",
       "  --sklearn-color-unfitted-level-3: chocolate;\n",
       "  /* Definition of color scheme for fitted estimators */\n",
       "  --sklearn-color-fitted-level-0: #f0f8ff;\n",
       "  --sklearn-color-fitted-level-1: #d4ebff;\n",
       "  --sklearn-color-fitted-level-2: #b3dbfd;\n",
       "  --sklearn-color-fitted-level-3: cornflowerblue;\n",
       "\n",
       "  /* Specific color for light theme */\n",
       "  --sklearn-color-text-on-default-background: var(--sg-text-color, var(--theme-code-foreground, var(--jp-content-font-color1, black)));\n",
       "  --sklearn-color-background: var(--sg-background-color, var(--theme-background, var(--jp-layout-color0, white)));\n",
       "  --sklearn-color-border-box: var(--sg-text-color, var(--theme-code-foreground, var(--jp-content-font-color1, black)));\n",
       "  --sklearn-color-icon: #696969;\n",
       "\n",
       "  @media (prefers-color-scheme: dark) {\n",
       "    /* Redefinition of color scheme for dark theme */\n",
       "    --sklearn-color-text-on-default-background: var(--sg-text-color, var(--theme-code-foreground, var(--jp-content-font-color1, white)));\n",
       "    --sklearn-color-background: var(--sg-background-color, var(--theme-background, var(--jp-layout-color0, #111)));\n",
       "    --sklearn-color-border-box: var(--sg-text-color, var(--theme-code-foreground, var(--jp-content-font-color1, white)));\n",
       "    --sklearn-color-icon: #878787;\n",
       "  }\n",
       "}\n",
       "\n",
       "#sk-container-id-2 {\n",
       "  color: var(--sklearn-color-text);\n",
       "}\n",
       "\n",
       "#sk-container-id-2 pre {\n",
       "  padding: 0;\n",
       "}\n",
       "\n",
       "#sk-container-id-2 input.sk-hidden--visually {\n",
       "  border: 0;\n",
       "  clip: rect(1px 1px 1px 1px);\n",
       "  clip: rect(1px, 1px, 1px, 1px);\n",
       "  height: 1px;\n",
       "  margin: -1px;\n",
       "  overflow: hidden;\n",
       "  padding: 0;\n",
       "  position: absolute;\n",
       "  width: 1px;\n",
       "}\n",
       "\n",
       "#sk-container-id-2 div.sk-dashed-wrapped {\n",
       "  border: 1px dashed var(--sklearn-color-line);\n",
       "  margin: 0 0.4em 0.5em 0.4em;\n",
       "  box-sizing: border-box;\n",
       "  padding-bottom: 0.4em;\n",
       "  background-color: var(--sklearn-color-background);\n",
       "}\n",
       "\n",
       "#sk-container-id-2 div.sk-container {\n",
       "  /* jupyter's `normalize.less` sets `[hidden] { display: none; }`\n",
       "     but bootstrap.min.css set `[hidden] { display: none !important; }`\n",
       "     so we also need the `!important` here to be able to override the\n",
       "     default hidden behavior on the sphinx rendered scikit-learn.org.\n",
       "     See: https://github.com/scikit-learn/scikit-learn/issues/21755 */\n",
       "  display: inline-block !important;\n",
       "  position: relative;\n",
       "}\n",
       "\n",
       "#sk-container-id-2 div.sk-text-repr-fallback {\n",
       "  display: none;\n",
       "}\n",
       "\n",
       "div.sk-parallel-item,\n",
       "div.sk-serial,\n",
       "div.sk-item {\n",
       "  /* draw centered vertical line to link estimators */\n",
       "  background-image: linear-gradient(var(--sklearn-color-text-on-default-background), var(--sklearn-color-text-on-default-background));\n",
       "  background-size: 2px 100%;\n",
       "  background-repeat: no-repeat;\n",
       "  background-position: center center;\n",
       "}\n",
       "\n",
       "/* Parallel-specific style estimator block */\n",
       "\n",
       "#sk-container-id-2 div.sk-parallel-item::after {\n",
       "  content: \"\";\n",
       "  width: 100%;\n",
       "  border-bottom: 2px solid var(--sklearn-color-text-on-default-background);\n",
       "  flex-grow: 1;\n",
       "}\n",
       "\n",
       "#sk-container-id-2 div.sk-parallel {\n",
       "  display: flex;\n",
       "  align-items: stretch;\n",
       "  justify-content: center;\n",
       "  background-color: var(--sklearn-color-background);\n",
       "  position: relative;\n",
       "}\n",
       "\n",
       "#sk-container-id-2 div.sk-parallel-item {\n",
       "  display: flex;\n",
       "  flex-direction: column;\n",
       "}\n",
       "\n",
       "#sk-container-id-2 div.sk-parallel-item:first-child::after {\n",
       "  align-self: flex-end;\n",
       "  width: 50%;\n",
       "}\n",
       "\n",
       "#sk-container-id-2 div.sk-parallel-item:last-child::after {\n",
       "  align-self: flex-start;\n",
       "  width: 50%;\n",
       "}\n",
       "\n",
       "#sk-container-id-2 div.sk-parallel-item:only-child::after {\n",
       "  width: 0;\n",
       "}\n",
       "\n",
       "/* Serial-specific style estimator block */\n",
       "\n",
       "#sk-container-id-2 div.sk-serial {\n",
       "  display: flex;\n",
       "  flex-direction: column;\n",
       "  align-items: center;\n",
       "  background-color: var(--sklearn-color-background);\n",
       "  padding-right: 1em;\n",
       "  padding-left: 1em;\n",
       "}\n",
       "\n",
       "\n",
       "/* Toggleable style: style used for estimator/Pipeline/ColumnTransformer box that is\n",
       "clickable and can be expanded/collapsed.\n",
       "- Pipeline and ColumnTransformer use this feature and define the default style\n",
       "- Estimators will overwrite some part of the style using the `sk-estimator` class\n",
       "*/\n",
       "\n",
       "/* Pipeline and ColumnTransformer style (default) */\n",
       "\n",
       "#sk-container-id-2 div.sk-toggleable {\n",
       "  /* Default theme specific background. It is overwritten whether we have a\n",
       "  specific estimator or a Pipeline/ColumnTransformer */\n",
       "  background-color: var(--sklearn-color-background);\n",
       "}\n",
       "\n",
       "/* Toggleable label */\n",
       "#sk-container-id-2 label.sk-toggleable__label {\n",
       "  cursor: pointer;\n",
       "  display: block;\n",
       "  width: 100%;\n",
       "  margin-bottom: 0;\n",
       "  padding: 0.5em;\n",
       "  box-sizing: border-box;\n",
       "  text-align: center;\n",
       "}\n",
       "\n",
       "#sk-container-id-2 label.sk-toggleable__label-arrow:before {\n",
       "  /* Arrow on the left of the label */\n",
       "  content: \"▸\";\n",
       "  float: left;\n",
       "  margin-right: 0.25em;\n",
       "  color: var(--sklearn-color-icon);\n",
       "}\n",
       "\n",
       "#sk-container-id-2 label.sk-toggleable__label-arrow:hover:before {\n",
       "  color: var(--sklearn-color-text);\n",
       "}\n",
       "\n",
       "/* Toggleable content - dropdown */\n",
       "\n",
       "#sk-container-id-2 div.sk-toggleable__content {\n",
       "  max-height: 0;\n",
       "  max-width: 0;\n",
       "  overflow: hidden;\n",
       "  text-align: left;\n",
       "  /* unfitted */\n",
       "  background-color: var(--sklearn-color-unfitted-level-0);\n",
       "}\n",
       "\n",
       "#sk-container-id-2 div.sk-toggleable__content.fitted {\n",
       "  /* fitted */\n",
       "  background-color: var(--sklearn-color-fitted-level-0);\n",
       "}\n",
       "\n",
       "#sk-container-id-2 div.sk-toggleable__content pre {\n",
       "  margin: 0.2em;\n",
       "  border-radius: 0.25em;\n",
       "  color: var(--sklearn-color-text);\n",
       "  /* unfitted */\n",
       "  background-color: var(--sklearn-color-unfitted-level-0);\n",
       "}\n",
       "\n",
       "#sk-container-id-2 div.sk-toggleable__content.fitted pre {\n",
       "  /* unfitted */\n",
       "  background-color: var(--sklearn-color-fitted-level-0);\n",
       "}\n",
       "\n",
       "#sk-container-id-2 input.sk-toggleable__control:checked~div.sk-toggleable__content {\n",
       "  /* Expand drop-down */\n",
       "  max-height: 200px;\n",
       "  max-width: 100%;\n",
       "  overflow: auto;\n",
       "}\n",
       "\n",
       "#sk-container-id-2 input.sk-toggleable__control:checked~label.sk-toggleable__label-arrow:before {\n",
       "  content: \"▾\";\n",
       "}\n",
       "\n",
       "/* Pipeline/ColumnTransformer-specific style */\n",
       "\n",
       "#sk-container-id-2 div.sk-label input.sk-toggleable__control:checked~label.sk-toggleable__label {\n",
       "  color: var(--sklearn-color-text);\n",
       "  background-color: var(--sklearn-color-unfitted-level-2);\n",
       "}\n",
       "\n",
       "#sk-container-id-2 div.sk-label.fitted input.sk-toggleable__control:checked~label.sk-toggleable__label {\n",
       "  background-color: var(--sklearn-color-fitted-level-2);\n",
       "}\n",
       "\n",
       "/* Estimator-specific style */\n",
       "\n",
       "/* Colorize estimator box */\n",
       "#sk-container-id-2 div.sk-estimator input.sk-toggleable__control:checked~label.sk-toggleable__label {\n",
       "  /* unfitted */\n",
       "  background-color: var(--sklearn-color-unfitted-level-2);\n",
       "}\n",
       "\n",
       "#sk-container-id-2 div.sk-estimator.fitted input.sk-toggleable__control:checked~label.sk-toggleable__label {\n",
       "  /* fitted */\n",
       "  background-color: var(--sklearn-color-fitted-level-2);\n",
       "}\n",
       "\n",
       "#sk-container-id-2 div.sk-label label.sk-toggleable__label,\n",
       "#sk-container-id-2 div.sk-label label {\n",
       "  /* The background is the default theme color */\n",
       "  color: var(--sklearn-color-text-on-default-background);\n",
       "}\n",
       "\n",
       "/* On hover, darken the color of the background */\n",
       "#sk-container-id-2 div.sk-label:hover label.sk-toggleable__label {\n",
       "  color: var(--sklearn-color-text);\n",
       "  background-color: var(--sklearn-color-unfitted-level-2);\n",
       "}\n",
       "\n",
       "/* Label box, darken color on hover, fitted */\n",
       "#sk-container-id-2 div.sk-label.fitted:hover label.sk-toggleable__label.fitted {\n",
       "  color: var(--sklearn-color-text);\n",
       "  background-color: var(--sklearn-color-fitted-level-2);\n",
       "}\n",
       "\n",
       "/* Estimator label */\n",
       "\n",
       "#sk-container-id-2 div.sk-label label {\n",
       "  font-family: monospace;\n",
       "  font-weight: bold;\n",
       "  display: inline-block;\n",
       "  line-height: 1.2em;\n",
       "}\n",
       "\n",
       "#sk-container-id-2 div.sk-label-container {\n",
       "  text-align: center;\n",
       "}\n",
       "\n",
       "/* Estimator-specific */\n",
       "#sk-container-id-2 div.sk-estimator {\n",
       "  font-family: monospace;\n",
       "  border: 1px dotted var(--sklearn-color-border-box);\n",
       "  border-radius: 0.25em;\n",
       "  box-sizing: border-box;\n",
       "  margin-bottom: 0.5em;\n",
       "  /* unfitted */\n",
       "  background-color: var(--sklearn-color-unfitted-level-0);\n",
       "}\n",
       "\n",
       "#sk-container-id-2 div.sk-estimator.fitted {\n",
       "  /* fitted */\n",
       "  background-color: var(--sklearn-color-fitted-level-0);\n",
       "}\n",
       "\n",
       "/* on hover */\n",
       "#sk-container-id-2 div.sk-estimator:hover {\n",
       "  /* unfitted */\n",
       "  background-color: var(--sklearn-color-unfitted-level-2);\n",
       "}\n",
       "\n",
       "#sk-container-id-2 div.sk-estimator.fitted:hover {\n",
       "  /* fitted */\n",
       "  background-color: var(--sklearn-color-fitted-level-2);\n",
       "}\n",
       "\n",
       "/* Specification for estimator info (e.g. \"i\" and \"?\") */\n",
       "\n",
       "/* Common style for \"i\" and \"?\" */\n",
       "\n",
       ".sk-estimator-doc-link,\n",
       "a:link.sk-estimator-doc-link,\n",
       "a:visited.sk-estimator-doc-link {\n",
       "  float: right;\n",
       "  font-size: smaller;\n",
       "  line-height: 1em;\n",
       "  font-family: monospace;\n",
       "  background-color: var(--sklearn-color-background);\n",
       "  border-radius: 1em;\n",
       "  height: 1em;\n",
       "  width: 1em;\n",
       "  text-decoration: none !important;\n",
       "  margin-left: 1ex;\n",
       "  /* unfitted */\n",
       "  border: var(--sklearn-color-unfitted-level-1) 1pt solid;\n",
       "  color: var(--sklearn-color-unfitted-level-1);\n",
       "}\n",
       "\n",
       ".sk-estimator-doc-link.fitted,\n",
       "a:link.sk-estimator-doc-link.fitted,\n",
       "a:visited.sk-estimator-doc-link.fitted {\n",
       "  /* fitted */\n",
       "  border: var(--sklearn-color-fitted-level-1) 1pt solid;\n",
       "  color: var(--sklearn-color-fitted-level-1);\n",
       "}\n",
       "\n",
       "/* On hover */\n",
       "div.sk-estimator:hover .sk-estimator-doc-link:hover,\n",
       ".sk-estimator-doc-link:hover,\n",
       "div.sk-label-container:hover .sk-estimator-doc-link:hover,\n",
       ".sk-estimator-doc-link:hover {\n",
       "  /* unfitted */\n",
       "  background-color: var(--sklearn-color-unfitted-level-3);\n",
       "  color: var(--sklearn-color-background);\n",
       "  text-decoration: none;\n",
       "}\n",
       "\n",
       "div.sk-estimator.fitted:hover .sk-estimator-doc-link.fitted:hover,\n",
       ".sk-estimator-doc-link.fitted:hover,\n",
       "div.sk-label-container:hover .sk-estimator-doc-link.fitted:hover,\n",
       ".sk-estimator-doc-link.fitted:hover {\n",
       "  /* fitted */\n",
       "  background-color: var(--sklearn-color-fitted-level-3);\n",
       "  color: var(--sklearn-color-background);\n",
       "  text-decoration: none;\n",
       "}\n",
       "\n",
       "/* Span, style for the box shown on hovering the info icon */\n",
       ".sk-estimator-doc-link span {\n",
       "  display: none;\n",
       "  z-index: 9999;\n",
       "  position: relative;\n",
       "  font-weight: normal;\n",
       "  right: .2ex;\n",
       "  padding: .5ex;\n",
       "  margin: .5ex;\n",
       "  width: min-content;\n",
       "  min-width: 20ex;\n",
       "  max-width: 50ex;\n",
       "  color: var(--sklearn-color-text);\n",
       "  box-shadow: 2pt 2pt 4pt #999;\n",
       "  /* unfitted */\n",
       "  background: var(--sklearn-color-unfitted-level-0);\n",
       "  border: .5pt solid var(--sklearn-color-unfitted-level-3);\n",
       "}\n",
       "\n",
       ".sk-estimator-doc-link.fitted span {\n",
       "  /* fitted */\n",
       "  background: var(--sklearn-color-fitted-level-0);\n",
       "  border: var(--sklearn-color-fitted-level-3);\n",
       "}\n",
       "\n",
       ".sk-estimator-doc-link:hover span {\n",
       "  display: block;\n",
       "}\n",
       "\n",
       "/* \"?\"-specific style due to the `<a>` HTML tag */\n",
       "\n",
       "#sk-container-id-2 a.estimator_doc_link {\n",
       "  float: right;\n",
       "  font-size: 1rem;\n",
       "  line-height: 1em;\n",
       "  font-family: monospace;\n",
       "  background-color: var(--sklearn-color-background);\n",
       "  border-radius: 1rem;\n",
       "  height: 1rem;\n",
       "  width: 1rem;\n",
       "  text-decoration: none;\n",
       "  /* unfitted */\n",
       "  color: var(--sklearn-color-unfitted-level-1);\n",
       "  border: var(--sklearn-color-unfitted-level-1) 1pt solid;\n",
       "}\n",
       "\n",
       "#sk-container-id-2 a.estimator_doc_link.fitted {\n",
       "  /* fitted */\n",
       "  border: var(--sklearn-color-fitted-level-1) 1pt solid;\n",
       "  color: var(--sklearn-color-fitted-level-1);\n",
       "}\n",
       "\n",
       "/* On hover */\n",
       "#sk-container-id-2 a.estimator_doc_link:hover {\n",
       "  /* unfitted */\n",
       "  background-color: var(--sklearn-color-unfitted-level-3);\n",
       "  color: var(--sklearn-color-background);\n",
       "  text-decoration: none;\n",
       "}\n",
       "\n",
       "#sk-container-id-2 a.estimator_doc_link.fitted:hover {\n",
       "  /* fitted */\n",
       "  background-color: var(--sklearn-color-fitted-level-3);\n",
       "}\n",
       "</style><div id=\"sk-container-id-2\" class=\"sk-top-container\"><div class=\"sk-text-repr-fallback\"><pre>MinMaxScaler()</pre><b>In a Jupyter environment, please rerun this cell to show the HTML representation or trust the notebook. <br />On GitHub, the HTML representation is unable to render, please try loading this page with nbviewer.org.</b></div><div class=\"sk-container\" hidden><div class=\"sk-item\"><div class=\"sk-estimator fitted sk-toggleable\"><input class=\"sk-toggleable__control sk-hidden--visually\" id=\"sk-estimator-id-2\" type=\"checkbox\" checked><label for=\"sk-estimator-id-2\" class=\"sk-toggleable__label fitted sk-toggleable__label-arrow fitted\">&nbsp;&nbsp;MinMaxScaler<a class=\"sk-estimator-doc-link fitted\" rel=\"noreferrer\" target=\"_blank\" href=\"https://scikit-learn.org/1.4/modules/generated/sklearn.preprocessing.MinMaxScaler.html\">?<span>Documentation for MinMaxScaler</span></a><span class=\"sk-estimator-doc-link fitted\">i<span>Fitted</span></span></label><div class=\"sk-toggleable__content fitted\"><pre>MinMaxScaler()</pre></div> </div></div></div></div>"
      ],
      "text/plain": [
       "MinMaxScaler()"
      ]
     },
     "execution_count": 91,
     "metadata": {},
     "output_type": "execute_result"
    }
   ],
   "source": [
    "#fit scaler to features\n",
    "scaler.fit(selected_features_train)"
   ]
  },
  {
   "cell_type": "code",
   "execution_count": 92,
   "id": "ead2aede-2af8-44f6-9172-8ceb37c0cd37",
   "metadata": {},
   "outputs": [],
   "source": [
    "# generate scaled features using scaler\n",
    "scaled_features_train = scaler.transform(selected_features_train)\n",
    "scaled_features_test = scaler.transform(selected_features_test)"
   ]
  },
  {
   "cell_type": "markdown",
   "id": "027ef909-54c8-4322-bb1c-bed21d3d78e7",
   "metadata": {},
   "source": [
    "\n",
    "<div class=\"alert alert-block alert-info\">\n",
    "<b></b>At this point we have the train and test set features transformed and scaled to be used in modeling.\n",
    "</div>"
   ]
  },
  {
   "cell_type": "markdown",
   "id": "c66d6c24-3799-4a51-99ca-2f44c2c1b19d",
   "metadata": {},
   "source": [
    "### Term Project Milestone 3"
   ]
  },
  {
   "cell_type": "code",
   "execution_count": 93,
   "id": "ec126635-9d6a-43f3-b580-c762b77de8e2",
   "metadata": {},
   "outputs": [],
   "source": [
    "from sklearn.model_selection import GridSearchCV, cross_val_score, KFold, StratifiedKFold, learning_curve, LearningCurveDisplay, ValidationCurveDisplay\n",
    "from sklearn.linear_model import LogisticRegression\n",
    "from sklearn.tree import DecisionTreeClassifier\n",
    "from sklearn.ensemble import RandomForestClassifier\n",
    "from sklearn.neighbors import KNeighborsClassifier\n",
    "from sklearn.metrics import accuracy_score, f1_score, precision_score, recall_score, ConfusionMatrixDisplay, classification_report\n",
    "from sklearn.dummy import DummyClassifier\n",
    "import numpy as np"
   ]
  },
  {
   "cell_type": "markdown",
   "id": "07c6d353-bd28-493f-bcdc-1f4d81a4064e",
   "metadata": {},
   "source": [
    "As our target variable is **categorical** in nature, we will use below models and then perform _model evaluation_ to check the performance of each model. \n",
    "- Logistic Regression\n",
    "- KNN\n",
    "- Decision Trees\n",
    "- Random Forest\n"
   ]
  },
  {
   "cell_type": "markdown",
   "id": "22c2bee1-5bbf-464a-b61e-50d18ef44388",
   "metadata": {},
   "source": [
    "We are using GridSearch model selection technique to identify best hyperparameters for each of the model. The _model evaluation_ will be performed along with _model selection_ using _Nested Cross Validation_. Nested cross validation allows us to perform both model selection and model evaluation at the same time. Nested cross validation wraps cross validation for the hyperparameter search (selection) within another cross validation for model evaluation. Therefore, the _inner_ cross validation searches for the best model hyperparameters, while the _outer_ cross validation evaluates performance of the model selected from the _inner_ cross validation."
   ]
  },
  {
   "cell_type": "markdown",
   "id": "a168fbf6-91f3-4ead-b1ac-7ebd1ba2a551",
   "metadata": {},
   "source": [
    "We are using **accuracy**, **precision**, **recall**, **F1-score** score to evaluate model performance. Our data does not suffer from significant _class imbalance_ in the target variable, so we are good to use _accuracy_ metric. However,  Accuracy metric does not capture the  model's predictive power to correctly predict the target classes. Hence, we are also evaluating _precision_, _recall_, _F1-score_. Based on the nature of the problem, it is important to correctly identify the target class in an optimistic manner, but also at the same time have good correctness in the target class so that the obesity management efforts and resources are directed to right people. _Precision_ is the proportion of every observation that is predicted positive is actually positive. Models with high precision are pessimistic measure because it predicts a class only when it is very certain. On the other hand models with high recall are optimistic and tries to predict as many true positives as possible out of all the actual positive observations. _F1-score_ is a good measure to check the balance between precision and recall. \n",
    "\n",
    "Additionally, we are also using **Confusion Matrix** to evaluate the overall performance of the selected model. The confusion matrix is a table that shows grid of the number of observations in the actual class against predicted class. Hence, confusion matrix shows number of correct and incorrect predictions."
   ]
  },
  {
   "cell_type": "markdown",
   "id": "10891e2b-8453-4537-994a-c2955a7c53e8",
   "metadata": {},
   "source": [
    "We are creating a `DummyClassifer` to have a baseline model against which we can compare the trained model. It will help us to see the improvement of the performance provided by our trained model and show trained model is better than random guessing."
   ]
  },
  {
   "cell_type": "code",
   "execution_count": 94,
   "id": "fb6d0e4a-2678-4a1f-b047-0dfa945936ea",
   "metadata": {},
   "outputs": [],
   "source": [
    "#create dummy classifier to provide random predictions\n",
    "dummy = DummyClassifier(strategy=\"uniform\", random_state=1)"
   ]
  },
  {
   "cell_type": "code",
   "execution_count": 95,
   "id": "0e4c285b-9e99-474b-97ce-064eaa12aa9e",
   "metadata": {},
   "outputs": [],
   "source": [
    "#fit and get dummy predictions\n",
    "dummy_model = dummy.fit(scaled_features_train, target_train)\n",
    "predicted_test_dummy = dummy_model.predict(scaled_features_test)"
   ]
  },
  {
   "cell_type": "code",
   "execution_count": 96,
   "id": "5a3d5abe-9c5c-4490-9a6b-2ac763601a64",
   "metadata": {},
   "outputs": [],
   "source": [
    "def calculate_and_display_scores(type,actual, pred):\n",
    "    acc = accuracy_score(actual, pred)\n",
    "    f1 = f1_score(actual, pred, average='macro')\n",
    "    precision = precision_score(actual, pred, average='macro')\n",
    "    recall = recall_score(actual, pred, average='macro')\n",
    "    print(f\"Accuracy {type}  : {acc}\")\n",
    "    print(f\"Precision {type} : {precision}\")\n",
    "    print(f\"Recall {type}    : {recall}\")\n",
    "    print(f\"F1-score {type}  : {f1}\")\n",
    "    return acc,precision,recall,f1"
   ]
  },
  {
   "cell_type": "code",
   "execution_count": 141,
   "id": "59e61825-e169-4597-a905-11f9af905e55",
   "metadata": {},
   "outputs": [
    {
     "name": "stdout",
     "output_type": "stream",
     "text": [
      "Accuracy dummy  : 0.15602836879432624\n",
      "Precision dummy : 0.1560382899834198\n",
      "Recall dummy    : 0.16088841081054653\n",
      "F1-score dummy  : 0.15715616552853087\n"
     ]
    }
   ],
   "source": [
    "#print scores\n",
    "acc_dummy,precision_dummy, recall_dummy, f1_score_dummy = calculate_and_display_scores(\"dummy\", target_test, predicted_test_dummy)"
   ]
  },
  {
   "cell_type": "code",
   "execution_count": null,
   "id": "b5157ecc-eb06-4fd3-a71a-081386f45150",
   "metadata": {},
   "outputs": [],
   "source": []
  },
  {
   "cell_type": "code",
   "execution_count": 98,
   "id": "18ba2cb4-c0b4-45f8-8192-1e559aa86fa9",
   "metadata": {},
   "outputs": [],
   "source": [
    "#define Stratified Kfold cross validation object for model evaluationf1-score\n",
    "stratified_cv = StratifiedKFold(\n",
    "    n_splits=10,\n",
    "    shuffle=True,\n",
    "    random_state=1\n",
    ")\n"
   ]
  },
  {
   "cell_type": "markdown",
   "id": "59be529b-23a9-466f-93d2-5bdec047c120",
   "metadata": {},
   "source": [
    "1. Logistic Regression model"
   ]
  },
  {
   "cell_type": "code",
   "execution_count": 99,
   "id": "34c30f04-03c8-4984-aaa2-3f992bbe6ca5",
   "metadata": {},
   "outputs": [],
   "source": [
    "# define hyper parameters\n",
    "hyperparameters_logistic = {\n",
    "    \"C\": np.logspace(0, 4, 20),\n",
    "    \"penalty\": [\"l1\", \"l2\"]\n",
    "}"
   ]
  },
  {
   "cell_type": "code",
   "execution_count": 100,
   "id": "a4939286-e528-4630-a58f-40c2f950bf87",
   "metadata": {},
   "outputs": [],
   "source": [
    "# create gridsearch\n",
    "gcv_logistic = GridSearchCV(\n",
    "    LogisticRegression(max_iter=500, solver=\"liblinear\"),\n",
    "    hyperparameters_logistic,\n",
    "    cv=stratified_cv,\n",
    "    scoring=\"f1_macro\",\n",
    "    n_jobs=-1,\n",
    "    verbose=1\n",
    ")"
   ]
  },
  {
   "cell_type": "code",
   "execution_count": 101,
   "id": "46e93379-a920-4b76-a005-d07b3b23b100",
   "metadata": {},
   "outputs": [
    {
     "name": "stdout",
     "output_type": "stream",
     "text": [
      "Fitting 10 folds for each of 40 candidates, totalling 400 fits\n"
     ]
    }
   ],
   "source": [
    "# perform gridsearch to select best model based on hyperparameters\n",
    "best_model_logistic = gcv_logistic.fit(scaled_features_train, target_train)"
   ]
  },
  {
   "cell_type": "code",
   "execution_count": 102,
   "id": "397f8213-c87d-4989-b480-afa39e72eaaf",
   "metadata": {},
   "outputs": [
    {
     "name": "stdout",
     "output_type": "stream",
     "text": [
      "Fitting 10 folds for each of 40 candidates, totalling 400 fits\n",
      "Fitting 10 folds for each of 40 candidates, totalling 400 fits\n",
      "Fitting 10 folds for each of 40 candidates, totalling 400 fits\n",
      "Fitting 10 folds for each of 40 candidates, totalling 400 fits\n",
      "Fitting 10 folds for each of 40 candidates, totalling 400 fits\n",
      "Fitting 10 folds for each of 40 candidates, totalling 400 fits\n",
      "Fitting 10 folds for each of 40 candidates, totalling 400 fits\n",
      "Fitting 10 folds for each of 40 candidates, totalling 400 fits\n",
      "Fitting 10 folds for each of 40 candidates, totalling 400 fits\n",
      "Fitting 10 folds for each of 40 candidates, totalling 400 fits\n"
     ]
    }
   ],
   "source": [
    "#perform nested cross validation for model evaluation and selection\n",
    "scores_logistic = cross_val_score(gcv_logistic, \n",
    "                                  scaled_features_train, \n",
    "                                  target_train,\n",
    "                                  cv=stratified_cv,\n",
    "                                  scoring=\"f1_macro\",\n",
    "                                  verbose=1\n",
    "                                 )"
   ]
  },
  {
   "cell_type": "code",
   "execution_count": 103,
   "id": "023a6df1-97a9-42bf-88f7-eb79ef038e9e",
   "metadata": {},
   "outputs": [
    {
     "data": {
      "text/plain": [
       "array([0.7578072 , 0.83394875, 0.70283219, 0.71037201, 0.74652769,\n",
       "       0.7686678 , 0.74438068, 0.75237877, 0.77578531, 0.7874828 ])"
      ]
     },
     "execution_count": 103,
     "metadata": {},
     "output_type": "execute_result"
    }
   ],
   "source": [
    "# Show F1-score for all 10 fold validation\n",
    "scores_logistic"
   ]
  },
  {
   "cell_type": "code",
   "execution_count": 104,
   "id": "4cf77ab9-1e74-4462-8ec0-d718b614e75f",
   "metadata": {},
   "outputs": [
    {
     "data": {
      "text/plain": [
       "0.7580183197761217"
      ]
     },
     "execution_count": 104,
     "metadata": {},
     "output_type": "execute_result"
    }
   ],
   "source": [
    "#average score from 5 fold validation\n",
    "scores_logistic.mean()"
   ]
  },
  {
   "cell_type": "code",
   "execution_count": 105,
   "id": "966bb5fc-42fe-40de-93d2-a041edce8310",
   "metadata": {},
   "outputs": [],
   "source": [
    "# print(f\"Best Model params: {best_model_logistic.best_estimator_.get_params()}\")"
   ]
  },
  {
   "cell_type": "markdown",
   "id": "7bc03e3e-22ba-4dda-b813-00b5a002f3c7",
   "metadata": {},
   "source": [
    "Check the select model's performance against test set."
   ]
  },
  {
   "cell_type": "code",
   "execution_count": 106,
   "id": "20cbc8aa-3369-41c3-9818-5267eae22349",
   "metadata": {},
   "outputs": [],
   "source": [
    "# get test set predictions using selected model\n",
    "predicted_test_logistic = best_model_logistic.predict(scaled_features_test)"
   ]
  },
  {
   "cell_type": "code",
   "execution_count": 142,
   "id": "01977cf6-22b1-4ad6-bbe8-b6568ef772c9",
   "metadata": {},
   "outputs": [
    {
     "name": "stdout",
     "output_type": "stream",
     "text": [
      "Accuracy logistic  : 0.7304964539007093\n",
      "Precision logistic : 0.719674786459482\n",
      "Recall logistic    : 0.7218791243715762\n",
      "F1-score logistic  : 0.7161878441319436\n"
     ]
    }
   ],
   "source": [
    "acc_logistic,precision_logistic, recall_logistic, f1_score_logistic = calculate_and_display_scores(\"logistic\", target_test, predicted_test_logistic)"
   ]
  },
  {
   "cell_type": "code",
   "execution_count": null,
   "id": "10de8e5c-23e8-44f4-a66f-38b22e5b6910",
   "metadata": {},
   "outputs": [],
   "source": []
  },
  {
   "cell_type": "markdown",
   "id": "defe0b65-82eb-40ae-97d6-77507fa6789a",
   "metadata": {},
   "source": [
    "2. KNN Model"
   ]
  },
  {
   "cell_type": "code",
   "execution_count": 108,
   "id": "34d55ef4-5bd7-405b-8ae4-0ec3ba8d89ed",
   "metadata": {},
   "outputs": [],
   "source": [
    "# define hyper parameters\n",
    "hyperparameters_knn = {\n",
    "    \"n_neighbors\": np.arange(3,10,1),\n",
    "    \"p\":[1,2,3]\n",
    "}"
   ]
  },
  {
   "cell_type": "code",
   "execution_count": 109,
   "id": "18ac5afe-c4fc-4c43-be7c-7da2f243de7e",
   "metadata": {},
   "outputs": [],
   "source": [
    "# create gridsearch\n",
    "gcv_knn = GridSearchCV(\n",
    "    KNeighborsClassifier(),\n",
    "    hyperparameters_knn,\n",
    "    cv=stratified_cv,\n",
    "    scoring=\"f1_macro\",\n",
    "    n_jobs=-1,\n",
    "    verbose=1\n",
    ")"
   ]
  },
  {
   "cell_type": "code",
   "execution_count": 110,
   "id": "1d2a04c5-4c74-4fcc-a615-e444723763e8",
   "metadata": {},
   "outputs": [
    {
     "name": "stdout",
     "output_type": "stream",
     "text": [
      "Fitting 10 folds for each of 21 candidates, totalling 210 fits\n"
     ]
    }
   ],
   "source": [
    "# perform gridsearch to select best model based on hyperparameters\n",
    "best_model_knn = gcv_knn.fit(scaled_features_train, target_train)"
   ]
  },
  {
   "cell_type": "code",
   "execution_count": 111,
   "id": "ab842231-aff5-4acc-910e-5552d0c8f727",
   "metadata": {},
   "outputs": [
    {
     "name": "stdout",
     "output_type": "stream",
     "text": [
      "Fitting 10 folds for each of 21 candidates, totalling 210 fits\n",
      "Fitting 10 folds for each of 21 candidates, totalling 210 fits\n",
      "Fitting 10 folds for each of 21 candidates, totalling 210 fits\n",
      "Fitting 10 folds for each of 21 candidates, totalling 210 fits\n",
      "Fitting 10 folds for each of 21 candidates, totalling 210 fits\n",
      "Fitting 10 folds for each of 21 candidates, totalling 210 fits\n",
      "Fitting 10 folds for each of 21 candidates, totalling 210 fits\n",
      "Fitting 10 folds for each of 21 candidates, totalling 210 fits\n",
      "Fitting 10 folds for each of 21 candidates, totalling 210 fits\n",
      "Fitting 10 folds for each of 21 candidates, totalling 210 fits\n"
     ]
    }
   ],
   "source": [
    "#perform nested cross validation for model evaluation\n",
    "scores_knn = cross_val_score(gcv_knn, \n",
    "                                  scaled_features_train, \n",
    "                                  target_train,\n",
    "                                  cv=stratified_cv,\n",
    "                                  scoring=\"f1_macro\",\n",
    "                                  verbose=1\n",
    "                                 )"
   ]
  },
  {
   "cell_type": "code",
   "execution_count": 112,
   "id": "6847d86a-4337-46b2-a9d0-6aa0c37d7884",
   "metadata": {},
   "outputs": [
    {
     "data": {
      "text/plain": [
       "array([0.82669855, 0.83027904, 0.83464927, 0.85317716, 0.84887032,\n",
       "       0.8419328 , 0.83218097, 0.9016939 , 0.83493934, 0.84274013])"
      ]
     },
     "execution_count": 112,
     "metadata": {},
     "output_type": "execute_result"
    }
   ],
   "source": [
    "# Show F1-score for all 10 fold validation\n",
    "scores_knn"
   ]
  },
  {
   "cell_type": "code",
   "execution_count": 113,
   "id": "9565c1a1-ce60-4d12-84a5-bebfb6371210",
   "metadata": {},
   "outputs": [
    {
     "data": {
      "text/plain": [
       "0.8447161494290641"
      ]
     },
     "execution_count": 113,
     "metadata": {},
     "output_type": "execute_result"
    }
   ],
   "source": [
    "#average score from 5 fold validation\n",
    "scores_knn.mean()"
   ]
  },
  {
   "cell_type": "markdown",
   "id": "a222aecb-6da5-44a0-8781-eb5d210ed808",
   "metadata": {},
   "source": [
    "Check the select model's performance against test set."
   ]
  },
  {
   "cell_type": "code",
   "execution_count": 114,
   "id": "70648837-03a0-431e-b37f-ec6aaa649dae",
   "metadata": {},
   "outputs": [
    {
     "name": "stdout",
     "output_type": "stream",
     "text": [
      "Best Model params: {'algorithm': 'auto', 'leaf_size': 30, 'metric': 'minkowski', 'metric_params': None, 'n_jobs': None, 'n_neighbors': 3, 'p': 1, 'weights': 'uniform'}\n"
     ]
    }
   ],
   "source": [
    "print(f\"Best Model params: {best_model_knn.best_estimator_.get_params()}\")"
   ]
  },
  {
   "cell_type": "code",
   "execution_count": 115,
   "id": "13abe46a-fd20-4ac2-b0ef-e256173a9ee3",
   "metadata": {},
   "outputs": [],
   "source": [
    "# get test set predictions using selected model\n",
    "predicted_test_knn = best_model_knn.predict(scaled_features_test)"
   ]
  },
  {
   "cell_type": "code",
   "execution_count": 143,
   "id": "e4a07442-b288-4b38-b98a-53e561dba825",
   "metadata": {},
   "outputs": [
    {
     "name": "stdout",
     "output_type": "stream",
     "text": [
      "Accuracy knn  : 0.8297872340425532\n",
      "Precision knn : 0.8211155672769875\n",
      "Recall knn    : 0.824471943650396\n",
      "F1-score knn  : 0.8213426293558824\n"
     ]
    }
   ],
   "source": [
    "acc_knn,precision_knn, recall_knn, f1_score_knn = calculate_and_display_scores(\"knn\", target_test, predicted_test_knn)"
   ]
  },
  {
   "cell_type": "code",
   "execution_count": null,
   "id": "e81d6598-c101-43e5-acaf-c883810dfef7",
   "metadata": {},
   "outputs": [],
   "source": []
  },
  {
   "cell_type": "markdown",
   "id": "e6fda93f-f4de-479a-ad4e-b66562b035dc",
   "metadata": {},
   "source": [
    "3. Decision Tree model"
   ]
  },
  {
   "cell_type": "code",
   "execution_count": 117,
   "id": "9e03474f-bb92-4b82-b85d-f539c23f48c1",
   "metadata": {},
   "outputs": [],
   "source": [
    "# define hyper parameters\n",
    "hyperparameters_dtree = {\n",
    "    \"max_depth\": [100,200, 300, 400],\n",
    "    \"min_impurity_decrease\": [0, 0.05, 0.1, 0.2]\n",
    "}"
   ]
  },
  {
   "cell_type": "code",
   "execution_count": 118,
   "id": "f1628112-b520-4f8d-9e59-e9583fb57260",
   "metadata": {},
   "outputs": [],
   "source": [
    "# create gridsearch\n",
    "gcv_dtree = GridSearchCV(\n",
    "    DecisionTreeClassifier(),\n",
    "    hyperparameters_dtree,\n",
    "    cv=stratified_cv,\n",
    "    scoring=\"f1_macro\",\n",
    "    n_jobs=-1,\n",
    "    verbose=1\n",
    ")"
   ]
  },
  {
   "cell_type": "code",
   "execution_count": 119,
   "id": "465234f4-4e36-41e6-8d18-6ac387a2c50f",
   "metadata": {},
   "outputs": [
    {
     "name": "stdout",
     "output_type": "stream",
     "text": [
      "Fitting 10 folds for each of 16 candidates, totalling 160 fits\n"
     ]
    }
   ],
   "source": [
    "# perform gridsearch to select best model based on hyperparameters\n",
    "best_model_dtree = gcv_dtree.fit(scaled_features_train, target_train)"
   ]
  },
  {
   "cell_type": "code",
   "execution_count": 120,
   "id": "03820127-7b53-4e26-acaf-66d3f4d6f174",
   "metadata": {},
   "outputs": [
    {
     "name": "stdout",
     "output_type": "stream",
     "text": [
      "Fitting 10 folds for each of 16 candidates, totalling 160 fits\n",
      "Fitting 10 folds for each of 16 candidates, totalling 160 fits\n",
      "Fitting 10 folds for each of 16 candidates, totalling 160 fits\n",
      "Fitting 10 folds for each of 16 candidates, totalling 160 fits\n",
      "Fitting 10 folds for each of 16 candidates, totalling 160 fits\n",
      "Fitting 10 folds for each of 16 candidates, totalling 160 fits\n",
      "Fitting 10 folds for each of 16 candidates, totalling 160 fits\n",
      "Fitting 10 folds for each of 16 candidates, totalling 160 fits\n",
      "Fitting 10 folds for each of 16 candidates, totalling 160 fits\n",
      "Fitting 10 folds for each of 16 candidates, totalling 160 fits\n"
     ]
    }
   ],
   "source": [
    "#perform cross validatio for model evaluation\n",
    "scores_dtree = cross_val_score(gcv_dtree, \n",
    "                                  scaled_features_train, \n",
    "                                  target_train,\n",
    "                                  cv=stratified_cv,\n",
    "                                  scoring=\"f1_macro\",\n",
    "                                  verbose=1\n",
    "                                 )"
   ]
  },
  {
   "cell_type": "code",
   "execution_count": 121,
   "id": "0c2c1740-789d-4b37-8536-a6cf516e29a7",
   "metadata": {},
   "outputs": [
    {
     "data": {
      "text/plain": [
       "array([0.94517616, 0.93347862, 0.90360266, 0.90721689, 0.94509457,\n",
       "       0.9515545 , 0.94689771, 0.94725052, 0.93489193, 0.93203179])"
      ]
     },
     "execution_count": 121,
     "metadata": {},
     "output_type": "execute_result"
    }
   ],
   "source": [
    "# Show F1-score for all 5 fold validation\n",
    "scores_dtree"
   ]
  },
  {
   "cell_type": "code",
   "execution_count": 122,
   "id": "63a67bf6-0492-44a0-ab67-118e0896155a",
   "metadata": {},
   "outputs": [
    {
     "data": {
      "text/plain": [
       "0.9347195337710392"
      ]
     },
     "execution_count": 122,
     "metadata": {},
     "output_type": "execute_result"
    }
   ],
   "source": [
    "#average score from 5 fold validation\n",
    "scores_dtree.mean()"
   ]
  },
  {
   "cell_type": "markdown",
   "id": "b6ea4ae0-94af-4aaf-a9a1-7a77c439d385",
   "metadata": {},
   "source": [
    "Check the select model's performance against test set."
   ]
  },
  {
   "cell_type": "code",
   "execution_count": 123,
   "id": "bfa51f9b-39ea-43fd-81ad-bec2d20bb894",
   "metadata": {},
   "outputs": [
    {
     "name": "stdout",
     "output_type": "stream",
     "text": [
      "Best Model params: {'ccp_alpha': 0.0, 'class_weight': None, 'criterion': 'gini', 'max_depth': 200, 'max_features': None, 'max_leaf_nodes': None, 'min_impurity_decrease': 0, 'min_samples_leaf': 1, 'min_samples_split': 2, 'min_weight_fraction_leaf': 0.0, 'monotonic_cst': None, 'random_state': None, 'splitter': 'best'}\n"
     ]
    }
   ],
   "source": [
    "print(f\"Best Model params: {best_model_dtree.best_estimator_.get_params()}\")"
   ]
  },
  {
   "cell_type": "code",
   "execution_count": 124,
   "id": "a139ec2a-6a34-4e81-9238-ddcb6467e08a",
   "metadata": {},
   "outputs": [],
   "source": [
    "# get test set predictions using selected model\n",
    "predicted_test_dtree = best_model_dtree.predict(scaled_features_test)"
   ]
  },
  {
   "cell_type": "code",
   "execution_count": 144,
   "id": "16fe7215-64f5-4d8d-869b-ed580dc51964",
   "metadata": {},
   "outputs": [
    {
     "name": "stdout",
     "output_type": "stream",
     "text": [
      "Accuracy dtree  : 0.9479905437352246\n",
      "Precision dtree : 0.9472155133762099\n",
      "Recall dtree    : 0.9493486541531989\n",
      "F1-score dtree  : 0.9474438772231883\n"
     ]
    }
   ],
   "source": [
    "acc_dtree,precision_dtree, recall_dtree, f1_score_dtree = calculate_and_display_scores(\"dtree\", target_test, predicted_test_dtree)"
   ]
  },
  {
   "cell_type": "code",
   "execution_count": null,
   "id": "e100c76b-2ca5-46e2-ae00-e1b35007a2ac",
   "metadata": {},
   "outputs": [],
   "source": []
  },
  {
   "cell_type": "markdown",
   "id": "107c813e-8882-45ae-826e-060a0c05f9f8",
   "metadata": {},
   "source": [
    "3. Random Forest model"
   ]
  },
  {
   "cell_type": "code",
   "execution_count": 126,
   "id": "c14507d5-c789-45fc-be29-8c28c3d3eb3e",
   "metadata": {},
   "outputs": [],
   "source": [
    "# define hyper parameters\n",
    "hyperparameters_rf = {\n",
    "    \"n_estimators\": [50, 100, 200],\n",
    "    \"max_depth\": [100,200, 300, 400]\n",
    "}"
   ]
  },
  {
   "cell_type": "code",
   "execution_count": 127,
   "id": "387ad551-43cf-425f-a50c-32d7badf61cb",
   "metadata": {},
   "outputs": [],
   "source": [
    "# create gridsearch\n",
    "gcv_rf = GridSearchCV(\n",
    "    RandomForestClassifier(),\n",
    "    hyperparameters_rf,\n",
    "    cv=stratified_cv,\n",
    "    scoring=\"f1_macro\",\n",
    "    n_jobs=-1,\n",
    "    verbose=1\n",
    ")"
   ]
  },
  {
   "cell_type": "code",
   "execution_count": 128,
   "id": "56781004-2213-4401-97a2-e10dd4800757",
   "metadata": {},
   "outputs": [
    {
     "name": "stdout",
     "output_type": "stream",
     "text": [
      "Fitting 10 folds for each of 12 candidates, totalling 120 fits\n"
     ]
    }
   ],
   "source": [
    "# perform gridsearch to select best model based on hyperparameters\n",
    "best_model_rf = gcv_rf.fit(scaled_features_train, target_train)"
   ]
  },
  {
   "cell_type": "code",
   "execution_count": 129,
   "id": "e027e137-01e2-4bce-bfc8-afa8dec45b5c",
   "metadata": {},
   "outputs": [
    {
     "name": "stdout",
     "output_type": "stream",
     "text": [
      "Fitting 10 folds for each of 12 candidates, totalling 120 fits\n",
      "Fitting 10 folds for each of 12 candidates, totalling 120 fits\n",
      "Fitting 10 folds for each of 12 candidates, totalling 120 fits\n",
      "Fitting 10 folds for each of 12 candidates, totalling 120 fits\n",
      "Fitting 10 folds for each of 12 candidates, totalling 120 fits\n",
      "Fitting 10 folds for each of 12 candidates, totalling 120 fits\n",
      "Fitting 10 folds for each of 12 candidates, totalling 120 fits\n",
      "Fitting 10 folds for each of 12 candidates, totalling 120 fits\n",
      "Fitting 10 folds for each of 12 candidates, totalling 120 fits\n",
      "Fitting 10 folds for each of 12 candidates, totalling 120 fits\n"
     ]
    }
   ],
   "source": [
    "#perform cross validatio for model evaluation\n",
    "scores_rf = cross_val_score(gcv_rf, \n",
    "                                  scaled_features_train, \n",
    "                                  target_train,\n",
    "                                  cv=stratified_cv,\n",
    "                                  scoring=\"f1_macro\",\n",
    "                                  verbose=1\n",
    "                                 )"
   ]
  },
  {
   "cell_type": "code",
   "execution_count": 130,
   "id": "a7d6b4c7-a03b-4e55-a86a-944609920502",
   "metadata": {},
   "outputs": [
    {
     "data": {
      "text/plain": [
       "array([0.96424173, 0.95206343, 0.93937148, 0.9572797 , 0.96449454,\n",
       "       0.95109426, 0.95204998, 0.94543705, 0.9457541 , 0.9506091 ])"
      ]
     },
     "execution_count": 130,
     "metadata": {},
     "output_type": "execute_result"
    }
   ],
   "source": [
    "# Show F1-score for all 10 fold validation\n",
    "scores_rf"
   ]
  },
  {
   "cell_type": "code",
   "execution_count": 131,
   "id": "7e70c27f-5f3e-4c42-b3f2-9b54ee987325",
   "metadata": {},
   "outputs": [
    {
     "data": {
      "text/plain": [
       "0.9522395377519972"
      ]
     },
     "execution_count": 131,
     "metadata": {},
     "output_type": "execute_result"
    }
   ],
   "source": [
    "#average score from 10 fold validation\n",
    "scores_rf.mean()"
   ]
  },
  {
   "cell_type": "markdown",
   "id": "74e74935-ba19-4332-80e8-434a03ae8f87",
   "metadata": {},
   "source": [
    "Check the select model's performance against test set."
   ]
  },
  {
   "cell_type": "code",
   "execution_count": 132,
   "id": "83690860-fc1c-4f59-bacf-ba6084ec4e02",
   "metadata": {},
   "outputs": [
    {
     "name": "stdout",
     "output_type": "stream",
     "text": [
      "Best Model params: {'bootstrap': True, 'ccp_alpha': 0.0, 'class_weight': None, 'criterion': 'gini', 'max_depth': 400, 'max_features': 'sqrt', 'max_leaf_nodes': None, 'max_samples': None, 'min_impurity_decrease': 0.0, 'min_samples_leaf': 1, 'min_samples_split': 2, 'min_weight_fraction_leaf': 0.0, 'monotonic_cst': None, 'n_estimators': 200, 'n_jobs': None, 'oob_score': False, 'random_state': None, 'verbose': 0, 'warm_start': False}\n"
     ]
    }
   ],
   "source": [
    "print(f\"Best Model params: {best_model_rf.best_estimator_.get_params()}\")"
   ]
  },
  {
   "cell_type": "code",
   "execution_count": 133,
   "id": "e773a5af-2cf7-4f7b-98de-fa3b3fd56501",
   "metadata": {},
   "outputs": [],
   "source": [
    "# get test set predictions using selected model\n",
    "predicted_test_rf = best_model_rf.predict(scaled_features_test)"
   ]
  },
  {
   "cell_type": "code",
   "execution_count": 146,
   "id": "2b50fc4b-7942-47b4-9526-de96fcc20db2",
   "metadata": {},
   "outputs": [
    {
     "name": "stdout",
     "output_type": "stream",
     "text": [
      "Accuracy rf  : 0.9550827423167849\n",
      "Precision rf : 0.9545086116765814\n",
      "Recall rf    : 0.9547053764605012\n",
      "F1-score rf  : 0.954431548294939\n"
     ]
    }
   ],
   "source": [
    "acc_rf,precision_rf, recall_rf, f1_score_rf = calculate_and_display_scores(\"rf\", target_test, predicted_test_rf)"
   ]
  },
  {
   "cell_type": "code",
   "execution_count": null,
   "id": "99ed3ffe-1439-476e-955d-1f2a15b7d9c1",
   "metadata": {},
   "outputs": [],
   "source": []
  },
  {
   "cell_type": "markdown",
   "id": "10686a76-b5dd-41ac-8a8c-c2b3f6b606ef",
   "metadata": {},
   "source": [
    "Lets plot the _ test scores_ of Logistic regression, KNN, Decision Tree and Random Forest classifiers"
   ]
  },
  {
   "cell_type": "code",
   "execution_count": 148,
   "id": "18536463-6a3c-49e9-b9c2-b321bcffe5a7",
   "metadata": {},
   "outputs": [
    {
     "data": {
      "text/html": [
       "<div>\n",
       "<style scoped>\n",
       "    .dataframe tbody tr th:only-of-type {\n",
       "        vertical-align: middle;\n",
       "    }\n",
       "\n",
       "    .dataframe tbody tr th {\n",
       "        vertical-align: top;\n",
       "    }\n",
       "\n",
       "    .dataframe thead th {\n",
       "        text-align: right;\n",
       "    }\n",
       "</style>\n",
       "<table border=\"1\" class=\"dataframe\">\n",
       "  <thead>\n",
       "    <tr style=\"text-align: right;\">\n",
       "      <th></th>\n",
       "      <th>accuracy</th>\n",
       "      <th>precision</th>\n",
       "      <th>recall</th>\n",
       "      <th>f1_score</th>\n",
       "    </tr>\n",
       "  </thead>\n",
       "  <tbody>\n",
       "    <tr>\n",
       "      <th>dummy model</th>\n",
       "      <td>0.156028</td>\n",
       "      <td>0.156038</td>\n",
       "      <td>0.160888</td>\n",
       "      <td>0.157156</td>\n",
       "    </tr>\n",
       "    <tr>\n",
       "      <th>logistic_regression</th>\n",
       "      <td>0.730496</td>\n",
       "      <td>0.719675</td>\n",
       "      <td>0.721879</td>\n",
       "      <td>0.730496</td>\n",
       "    </tr>\n",
       "    <tr>\n",
       "      <th>knn</th>\n",
       "      <td>0.829787</td>\n",
       "      <td>0.821116</td>\n",
       "      <td>0.824472</td>\n",
       "      <td>0.829787</td>\n",
       "    </tr>\n",
       "    <tr>\n",
       "      <th>decision_tree</th>\n",
       "      <td>0.947991</td>\n",
       "      <td>0.947216</td>\n",
       "      <td>0.949349</td>\n",
       "      <td>0.947991</td>\n",
       "    </tr>\n",
       "    <tr>\n",
       "      <th>random_forest</th>\n",
       "      <td>0.955083</td>\n",
       "      <td>0.954509</td>\n",
       "      <td>0.954705</td>\n",
       "      <td>0.955083</td>\n",
       "    </tr>\n",
       "  </tbody>\n",
       "</table>\n",
       "</div>"
      ],
      "text/plain": [
       "                     accuracy  precision    recall  f1_score\n",
       "dummy model          0.156028   0.156038  0.160888  0.157156\n",
       "logistic_regression  0.730496   0.719675  0.721879  0.730496\n",
       "knn                  0.829787   0.821116  0.824472  0.829787\n",
       "decision_tree        0.947991   0.947216  0.949349  0.947991\n",
       "random_forest        0.955083   0.954509  0.954705  0.955083"
      ]
     },
     "execution_count": 148,
     "metadata": {},
     "output_type": "execute_result"
    }
   ],
   "source": [
    "scores_df = pd.DataFrame(data=[\n",
    "    [acc_dummy,precision_dummy, recall_dummy, f1_score_dummy],\n",
    "    [acc_logistic, precision_logistic , recall_logistic, f1_logistic],\n",
    "    [acc_knn,precision_knn, recall_knn, f1_knn],\n",
    "    [acc_dtree, precision_dtree, recall_dtree, f1_dtree],\n",
    "    [acc_rf, precision_rf, recall_rf, f1_rf]], \n",
    "columns=[\"accuracy\", \"precision\", \"recall\", \"f1_score\"],\n",
    "index=[\"dummy model\", \"logistic_regression\",\"knn\",\"decision_tree\", \"random_forest\"])\n",
    "scores_df"
   ]
  },
  {
   "cell_type": "code",
   "execution_count": 205,
   "id": "f1356fbe-60a7-4bf8-844d-e2f284ff5986",
   "metadata": {},
   "outputs": [
    {
     "data": {
      "image/png": "[encoded data removed]",
      "text/plain": [
       "<Figure size 800x800 with 4 Axes>"
      ]
     },
     "metadata": {},
     "output_type": "display_data"
    }
   ],
   "source": [
    "# plot the model scores\n",
    "fig,ax = plt.subplots(nrows=2,ncols=2,figsize = (8,8))\n",
    "sns.barplot(ax=ax[0,0],data=scores_df, x=scores_df.index, y=\"accuracy\", hue=scores_df.index)\n",
    "ax[0,0].set_xlabel(\"Models\")\n",
    "ax[0,0].set_xticks(scores_df.index)\n",
    "ax[0,0].set_xticklabels(scores_df.index, rotation=60)\n",
    "\n",
    "sns.barplot(ax=ax[0,1],data=scores_df, x=scores_df.index, y=\"precision\",hue=scores_df.index)\n",
    "ax[0,1].set_xlabel(\"Models\")\n",
    "ax[0,1].set_xticks(scores_df.index)\n",
    "ax[0,1].set_xticklabels(scores_df.index, rotation=60)\n",
    "# plt.tight_layout()\n",
    "# plt.show()\n",
    "\n",
    "sns.barplot(ax=ax[1,0],data=scores_df, x=scores_df.index, y=\"recall\",hue=scores_df.index)\n",
    "ax[1,0].set_xlabel(\"Models\")\n",
    "ax[1,0].set_xticks(scores_df.index)\n",
    "ax[1,0].set_xticklabels(scores_df.index, rotation=60)\n",
    "# plt.tight_layout()\n",
    "# plt.show()\n",
    "\n",
    "sns.barplot(ax=ax[1,1],data=scores_df, x=scores_df.index, y=\"f1_score\",hue=scores_df.index)\n",
    "ax[1,1].set_xlabel(\"Models\")\n",
    "ax[1,1].set_xticks(scores_df.index)\n",
    "ax[1,1].set_xticklabels(scores_df.index, rotation=60)\n",
    "plt.tight_layout()\n",
    "plt.show()"
   ]
  },
  {
   "cell_type": "code",
   "execution_count": null,
   "id": "5e184e25-13d6-4885-b3e6-9253d6df98cd",
   "metadata": {},
   "outputs": [],
   "source": []
  },
  {
   "cell_type": "markdown",
   "id": "43d62d8d-232d-4948-a307-4fde1ebefc1f",
   "metadata": {},
   "source": [
    "Confusion matrix display"
   ]
  },
  {
   "cell_type": "code",
   "execution_count": null,
   "id": "9ec9f1bc-e3ee-471b-8fd9-40cfbe901c29",
   "metadata": {},
   "outputs": [],
   "source": [
    "# plot confusion matrix using sklearn's ConfusionMatrixDisplay module\n",
    "ConfusionMatrixDisplay.from_predictions(target_test, predicted_test_rf, \n",
    "                                        display_labels=best_model_rf.classes_,\n",
    "                                        colorbar=False, \n",
    "                                        cmap=\"Blues\")\n",
    "plt.title(\"Confusion Matrix\")\n",
    "plt.xticks(rotation=90)\n",
    "plt.show()"
   ]
  },
  {
   "cell_type": "markdown",
   "id": "c81e2774-7e4a-4db3-8e8e-2bf6177faf6a",
   "metadata": {},
   "source": [
    "Normal weight and overweight-i confused model"
   ]
  },
  {
   "cell_type": "markdown",
   "id": "cd2c54ae-ba30-4882-8d66-7866d660f8fb",
   "metadata": {},
   "source": [
    "Classification report"
   ]
  },
  {
   "cell_type": "code",
   "execution_count": null,
   "id": "9fecfff6-a58e-4e42-964c-9f4d14f3be87",
   "metadata": {},
   "outputs": [],
   "source": [
    "# report = classification_report(\n",
    "#     target_test, \n",
    "#     predicted_test_rf, \n",
    "#     target_names=best_model_rf.classes_,\n",
    "# )\n",
    "# print(report)"
   ]
  },
  {
   "cell_type": "markdown",
   "id": "10b20c87-9f0a-4af5-9a3d-327927f4d3c2",
   "metadata": {},
   "source": [
    "Lets use the _learning Curve_ to check if the model would benefit from adding more training data. It also helps to check if model suffers from _variance error_ or _bias error_ "
   ]
  },
  {
   "cell_type": "code",
   "execution_count": null,
   "id": "0245f828-6487-4245-8318-e69de9a102a9",
   "metadata": {},
   "outputs": [],
   "source": [
    "# train_sizes, train_scores, test_scores = learning_curve(\n",
    "#     best_model_rf.best_estimator_,\n",
    "#     scaled_features_train,\n",
    "#     target_train,\n",
    "#     train_sizes=np.linspace(0.1,1.0,100),\n",
    "#     cv=stratified_cv,\n",
    "#     scoring=\"f1_macro\"\n",
    "# )"
   ]
  },
  {
   "cell_type": "code",
   "execution_count": null,
   "id": "f717ed30-5ce9-4e48-8468-b0db5c099a35",
   "metadata": {},
   "outputs": [],
   "source": [
    "# display = LearningCurveDisplay(train_sizes=train_sizes,\n",
    "#                                train_scores=train_scores, \n",
    "#                                test_scores=test_scores, \n",
    "#                                score_name=\"accuracy\")\n",
    "# display.plot()\n",
    "# plt.show()"
   ]
  },
  {
   "cell_type": "code",
   "execution_count": null,
   "id": "3924e01e-68b9-4953-a280-d6be016ebbd3",
   "metadata": {},
   "outputs": [],
   "source": [
    "LearningCurveDisplay.from_estimator(best_model_rf.best_estimator_, \n",
    "                                              scaled_features_train, \n",
    "                                              target_train,\n",
    "                                              score_name=\"f1_macro\")\n",
    "# display.plot()\n",
    "plt.show()"
   ]
  },
  {
   "cell_type": "markdown",
   "id": "607b343f-c91c-4f23-ba34-646b924c2f04",
   "metadata": {},
   "source": [
    "Train scores remains high, but test scores increases as the number as the training size increase. We see that the test scores starting to pleateau out but still there is some room for increasing score by adding more observation but not to great extent."
   ]
  },
  {
   "cell_type": "code",
   "execution_count": null,
   "id": "3d5cde19-cc27-413d-be1e-4b129d4eb590",
   "metadata": {},
   "outputs": [],
   "source": []
  },
  {
   "cell_type": "markdown",
   "id": "e1e813e2-9572-411f-a144-fb2bdb5d3612",
   "metadata": {},
   "source": [
    "### Summary"
   ]
  },
  {
   "cell_type": "markdown",
   "id": "640dbcd8-c200-4872-9026-3220cd4aca6f",
   "metadata": {},
   "source": [
    "The target variable in this study has multiple categories, therefore this study is a _multiple classification_ problem. We are evaluating the performance of four different model; Logistic Regression, K Nearest Neigbor (KNN), Decision Trees and Random Forest,  to predict the target. Nested cross validation technique was used to evaluate each model performance and gridsearch was used to select hyperparameters for each of the models. \n",
    "\n",
    "Model performace for each model was measured using accuracy, precision, recall and F1-score on the test set. From the table and Fig 8, we observe that _Random Forest_ was the best performing modle across all the metrics. Confusion matrix for the Random Forest shows that overall the model is performing very well on the test set. However we notice that some observations are incorrectly predicted such as over_weightI and Overweight II.  \n",
    "A validation curve was used to check if addding more data observation will help in further increasing the performance of the model. It shows that the test score increases as the number of test instances increases and then starting to plateau at the end, which means that there will not be huge benefit of adding more data observations but there is some scope to increase performance by using more data."
   ]
  },
  {
   "cell_type": "code",
   "execution_count": null,
   "id": "856c9685-4eb6-42a4-8eb0-47ef6b1111ea",
   "metadata": {},
   "outputs": [],
   "source": []
  },
  {
   "cell_type": "code",
   "execution_count": null,
   "id": "05dba05d-9a98-407d-a49b-0bffa79ee5a8",
   "metadata": {},
   "outputs": [],
   "source": []
  },
  {
   "cell_type": "code",
   "execution_count": null,
   "id": "7354e7e3-429c-40da-ab0b-12600ccdb217",
   "metadata": {},
   "outputs": [],
   "source": []
  },
  {
   "cell_type": "markdown",
   "id": "22a96429-9ae9-453c-86f6-dbe6a3db641f",
   "metadata": {
    "jp-MarkdownHeadingCollapsed": true
   },
   "source": [
    "#### References\n",
    "\n",
    "Estimation of obesity levels based on eating habits and physical condition. (2019). UCI Machine Learning Repository. https://doi.org/10.24432/C5H31Z.\n",
    "\n",
    "Gozukara Bag, H.G., Yagin, F.H., Gormez, Y., González, P.P., Colak, C., Gülü, M., Badicu, G., Ardigò, L.P. 2023. Estimation of Obesity Levels through the Proposed Predictive Approach Based on Physical Activity and Nutritional Habits. Diagnostics. 13(18), 2949. https://doi.org/10.3390/diagnostics13182949\n",
    "\n",
    "Palechor, F.M., de la Hoz Manotas, A. (2019). Dataset for estimation of obesity levels based on eating habits and physical condition in individuals from Colombia, Peru and Mexico. Data Brief. 25, 104344. https://doi.org/10.1016/j.dib.2019.104344"
   ]
  }
 ],
 "metadata": {
  "kernelspec": {
   "display_name": "Python 3 (ipykernel)",
   "language": "python",
   "name": "python3"
  },
  "language_info": {
   "codemirror_mode": {
    "name": "ipython",
    "version": 3
   },
   "file_extension": ".py",
   "mimetype": "text/x-python",
   "name": "python",
   "nbconvert_exporter": "python",
   "pygments_lexer": "ipython3",
   "version": "3.11.4"
  }
 },
 "nbformat": 4,
 "nbformat_minor": 5
}
