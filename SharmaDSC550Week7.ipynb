{
 "cells": [
  {
   "cell_type": "markdown",
   "id": "d636973d-c27d-493e-8a27-d532bff1d90c",
   "metadata": {},
   "source": [
    "## Assignment Week 7 - Biswajit Sharma"
   ]
  },
  {
   "cell_type": "markdown",
   "id": "542f075d-ec05-45ed-bd92-c9132025e2a6",
   "metadata": {},
   "source": [
    "#### Part 1: PCA and Variance Threshold in a Linear Regression"
   ]
  },
  {
   "cell_type": "markdown",
   "id": "20d4b374-45a0-4676-a8c9-db16b182c84f",
   "metadata": {},
   "source": [
    "Import the housing data as a data frame and ensure that the data is loaded properly."
   ]
  },
  {
   "cell_type": "code",
   "execution_count": 1,
   "id": "192ad05b-9f6a-487c-936c-11cd2c15be0d",
   "metadata": {},
   "outputs": [],
   "source": [
    "# import modules\n",
    "\n",
    "import pandas as pd\n",
    "import unicodedata\n",
    "import sys\n",
    "import numpy as np\n",
    "from sklearn.model_selection import train_test_split\n",
    "from sklearn.feature_extraction.text import TfidfVectorizer\n",
    "from sklearn.linear_model import LinearRegression\n",
    "from sklearn.tree import DecisionTreeClassifier\n",
    "from sklearn.preprocessing import MinMaxScaler\n",
    "from sklearn.model_selection import GridSearchCV\n",
    "from sklearn.metrics import accuracy_score,r2_score, root_mean_squared_error, confusion_matrix, precision_score, recall_score, f1_score, roc_curve, roc_auc_score, ConfusionMatrixDisplay\n",
    "from sklearn.feature_selection import VarianceThreshold\n",
    "from sklearn.decomposition import PCA\n",
    "import seaborn as sns\n",
    "from matplotlib import pyplot as plt"
   ]
  },
  {
   "cell_type": "code",
   "execution_count": null,
   "id": "5bfc13b9-5231-4b0d-ba43-fa2b82d7a985",
   "metadata": {},
   "outputs": [],
   "source": [
    "# Set up display options\n",
    "pd.options.display.max_columns=80\n",
    "pd.options.display.max_rows=50\n",
    "pd.options.display.max_colwidth=80"
   ]
  },
  {
   "cell_type": "code",
   "execution_count": null,
   "id": "a5e3bef1-2537-4e4b-8134-fbdc9c612224",
   "metadata": {},
   "outputs": [],
   "source": [
    "# read the dataset into a dataframe\n",
    "train_df = pd.read_csv(\"./datasets/train.csv\")\n",
    "test_df = pd.read_csv(\"./datasets/test.csv\")"
   ]
  },
  {
   "cell_type": "code",
   "execution_count": null,
   "id": "0e51e637-7e5d-477d-9b94-596675559880",
   "metadata": {},
   "outputs": [],
   "source": [
    "# view train rows\n",
    "train_df.head()"
   ]
  },
  {
   "cell_type": "code",
   "execution_count": null,
   "id": "b06154b3-24a2-4fdc-b300-48eb9d3331b9",
   "metadata": {},
   "outputs": [],
   "source": [
    "# view test rows\n",
    "test_df.head()"
   ]
  },
  {
   "cell_type": "markdown",
   "id": "95bb02e7-1b70-4786-8677-147125779ccb",
   "metadata": {},
   "source": [
    "Drop the \"Id\" column and any features that are missing more than 40% of their values."
   ]
  },
  {
   "cell_type": "code",
   "execution_count": null,
   "id": "9cdff1db-df87-4187-93ab-22ba0db6ee6f",
   "metadata": {},
   "outputs": [],
   "source": [
    "df = train_df"
   ]
  },
  {
   "cell_type": "code",
   "execution_count": null,
   "id": "d460f1a5-c558-44a3-913f-20a26e8dc0ea",
   "metadata": {},
   "outputs": [],
   "source": [
    "#drop the Id column\n",
    "df = df.drop(columns=\"Id\")"
   ]
  },
  {
   "cell_type": "code",
   "execution_count": null,
   "id": "58368662-8443-4d0b-9649-0679d90c5479",
   "metadata": {},
   "outputs": [],
   "source": [
    "# number of rows in dataframe\n",
    "print(df.shape)\n",
    "num_rows = df.shape[0]\n",
    "# create a list of columns with > 40% missing values\n",
    "column_with_high_number_missing_values = [row[0] for row in (df.isna().sum()).items() if row[1]/num_rows > 0.4]\n",
    "#drop such columns\n",
    "df = df.drop(columns=column_with_high_number_missing_values)"
   ]
  },
  {
   "cell_type": "code",
   "execution_count": null,
   "id": "f2967efd-0ebc-4bad-9c8b-aa66283ff277",
   "metadata": {},
   "outputs": [],
   "source": [
    "# view few rows\n",
    "df.shape"
   ]
  },
  {
   "cell_type": "markdown",
   "id": "64f180cc-9c41-4857-b29c-776da5bf2fed",
   "metadata": {},
   "source": [
    "For numerical columns, fill in any missing data with the median value."
   ]
  },
  {
   "cell_type": "code",
   "execution_count": null,
   "id": "1b366f18-36f0-4644-ac64-41549967592d",
   "metadata": {},
   "outputs": [],
   "source": [
    "#view few rows\n",
    "df.head()"
   ]
  },
  {
   "cell_type": "code",
   "execution_count": null,
   "id": "cc238a77-8d60-4d35-82f6-55301d31a541",
   "metadata": {},
   "outputs": [],
   "source": [
    "# check datatype\n",
    "df.info()"
   ]
  },
  {
   "cell_type": "markdown",
   "id": "3c7c801c-db7e-4a5b-b89e-c03c872d791a",
   "metadata": {},
   "source": [
    "we see only integer and object datatype"
   ]
  },
  {
   "cell_type": "code",
   "execution_count": null,
   "id": "a78705b0-9cea-452e-8896-db8d859e71d7",
   "metadata": {},
   "outputs": [],
   "source": [
    "# select numerical datatypes using pandas select_dtypes function\n",
    "numerical_columns = df.iloc[0:,0:-1].select_dtypes(include=\"number\").columns.to_list()"
   ]
  },
  {
   "cell_type": "code",
   "execution_count": null,
   "id": "4212e4c5-d2b4-416b-81c1-a088ef42a262",
   "metadata": {},
   "outputs": [],
   "source": [
    "#check if any col has naN anymore\n",
    "s = df.isna().sum() > 0\n",
    "s[s != False]"
   ]
  },
  {
   "cell_type": "code",
   "execution_count": null,
   "id": "70befa8d-fc61-4534-a65e-a35852214ed1",
   "metadata": {},
   "outputs": [],
   "source": [
    "#replace missing values in numerical columns with median value\n",
    "for col_name in numerical_columns:\n",
    "    median = df[col_name].median()\n",
    "    df[col_name] = df[col_name].fillna(median)"
   ]
  },
  {
   "cell_type": "markdown",
   "id": "b101acdb-1ff3-492f-b921-c3187031d960",
   "metadata": {},
   "source": [
    "For categorical columns, fill in any missing data with the most common value (mode)."
   ]
  },
  {
   "cell_type": "code",
   "execution_count": null,
   "id": "3e943eba-40cf-4a83-bb04-987254df10a4",
   "metadata": {},
   "outputs": [],
   "source": [
    "#check if any col has naN anymore\n",
    "s = df.isna().sum() > 0\n",
    "s[s != False]"
   ]
  },
  {
   "cell_type": "code",
   "execution_count": null,
   "id": "1245af35-e5e1-4ba7-be8b-beda66aab585",
   "metadata": {},
   "outputs": [],
   "source": [
    "# select categorical columns using pandas select_dtypes function\n",
    "categorical_columns = df.select_dtypes(include=\"object\").columns.to_list()"
   ]
  },
  {
   "cell_type": "code",
   "execution_count": null,
   "id": "f0795d11-7e86-435c-afc6-6270e0659cb1",
   "metadata": {},
   "outputs": [],
   "source": [
    "#replace missing values in categorical columns with mode i.e. most frequent value\n",
    "for col_name in categorical_columns:\n",
    "    mode = df[col_name].mode()\n",
    "    df[col_name] = df[col_name].fillna(mode[0])"
   ]
  },
  {
   "cell_type": "code",
   "execution_count": null,
   "id": "98d47349-e003-4617-b60c-22c25517017b",
   "metadata": {},
   "outputs": [],
   "source": [
    "#check if any col has naN anymore\n",
    "s = df.isna().sum() > 0\n",
    "s[s != False]"
   ]
  },
  {
   "cell_type": "markdown",
   "id": "051623ff-26d2-4876-aa90-33c41af3bdab",
   "metadata": {},
   "source": [
    "Convert the categorical columns to dummy variables."
   ]
  },
  {
   "cell_type": "code",
   "execution_count": null,
   "id": "7f52315a-1d3b-4e65-9a04-18372c7f1b73",
   "metadata": {},
   "outputs": [],
   "source": [
    "df_with_dummies = pd.get_dummies(df, columns=categorical_columns, drop_first=True, dtype=\"int\")"
   ]
  },
  {
   "cell_type": "code",
   "execution_count": null,
   "id": "09435945-ece6-472a-a518-231f55a35828",
   "metadata": {},
   "outputs": [],
   "source": [
    "# view few rows\n",
    "df_with_dummies.head()"
   ]
  },
  {
   "cell_type": "markdown",
   "id": "4676d29c-a324-47d4-989c-447cfc1a56f5",
   "metadata": {},
   "source": [
    "Split the data into a training and test set, where the SalePrice column is the target."
   ]
  },
  {
   "cell_type": "code",
   "execution_count": null,
   "id": "0c60d5a9-9990-4655-8c06-94e3762cfaa5",
   "metadata": {},
   "outputs": [],
   "source": [
    "target = \"SalePrice\"\n",
    "features = [cols for cols in df_with_dummies.columns if cols != \"SalePrice\"]"
   ]
  },
  {
   "cell_type": "code",
   "execution_count": null,
   "id": "b4f79a66-6c43-428e-8e97-e17a98d30170",
   "metadata": {},
   "outputs": [],
   "source": [
    "# using sklearn's train_test_split method to split the dataset\n",
    "features_train, features_test, target_train, target_test = train_test_split(\n",
    "    df_with_dummies[features], df_with_dummies[target], test_size=0.2, random_state=1\n",
    ")"
   ]
  },
  {
   "cell_type": "markdown",
   "id": "5648be57-e277-4e6a-b1b2-98da3cb9f76d",
   "metadata": {},
   "source": [
    "Run a linear regression and report the R2-value and RMSE on the test set."
   ]
  },
  {
   "cell_type": "code",
   "execution_count": null,
   "id": "cc7f7e51-0142-4821-9567-b441d5c11aaf",
   "metadata": {},
   "outputs": [],
   "source": [
    "features_train"
   ]
  },
  {
   "cell_type": "code",
   "execution_count": null,
   "id": "761ac714-e04f-4450-8185-3a2e9fbe7a7a",
   "metadata": {},
   "outputs": [],
   "source": [
    "# create a standardscaler as linear regression coefficients may depends on scale of the features\n",
    "stdscaler = StandardScaler()"
   ]
  },
  {
   "cell_type": "code",
   "execution_count": null,
   "id": "354ed7ee-c1ac-40ad-8d97-842062d4e93f",
   "metadata": {},
   "outputs": [],
   "source": [
    "#create linear regression object\n",
    "linear_reg = LinearRegression()"
   ]
  },
  {
   "cell_type": "code",
   "execution_count": null,
   "id": "e4f63895-4d3e-4833-97c1-360c4db10a4e",
   "metadata": {},
   "outputs": [],
   "source": [
    "#fit training data\n",
    "model1 = linear_reg.fit(features_train, target_train)"
   ]
  },
  {
   "cell_type": "code",
   "execution_count": null,
   "id": "74a78549-ad7c-473c-b080-d591f17d97f2",
   "metadata": {},
   "outputs": [],
   "source": [
    "# get predicted values for test set\n",
    "predicted_target_test = model1.predict(features_test)"
   ]
  },
  {
   "cell_type": "code",
   "execution_count": null,
   "id": "a13b559c-9aca-4686-b7b9-50f58d949374",
   "metadata": {},
   "outputs": [],
   "source": [
    "# calculate R squared\n",
    "print(f\"Test R2: {r2_score(target_test, predicted_target_test)}\")"
   ]
  },
  {
   "cell_type": "code",
   "execution_count": null,
   "id": "0a6bb186-1cd1-48cb-986e-7b20ba474b2d",
   "metadata": {},
   "outputs": [],
   "source": [
    "# claulate RMSE \n",
    "print(f\"Test RMSE: {root_mean_squared_error(target_test, predicted_target_test)}\")"
   ]
  },
  {
   "cell_type": "markdown",
   "id": "076a1eec-1e29-4a4c-8704-85b3c05603bf",
   "metadata": {},
   "source": [
    "Fit and transform the training features with a PCA so that 90% of the variance is retained."
   ]
  },
  {
   "cell_type": "code",
   "execution_count": null,
   "id": "6787809e-62fb-4b59-ba64-79335d1d7458",
   "metadata": {},
   "outputs": [],
   "source": [
    "pca = PCA(n_components=0.90, whiten=True)"
   ]
  },
  {
   "cell_type": "code",
   "execution_count": null,
   "id": "48f21d61-56c2-4779-bf10-3eeb269db753",
   "metadata": {},
   "outputs": [],
   "source": [
    "pca.fit(features_train)"
   ]
  },
  {
   "cell_type": "code",
   "execution_count": null,
   "id": "7022224a-8fe0-4501-b727-54519d603633",
   "metadata": {},
   "outputs": [],
   "source": [
    "features_train_pca = pca.transform(features_train)"
   ]
  },
  {
   "cell_type": "markdown",
   "id": "2a101cf4-0ae4-426e-8d1e-55837297b8a9",
   "metadata": {},
   "source": [
    "How many features are in the PCA-transformed matrix?"
   ]
  },
  {
   "cell_type": "code",
   "execution_count": null,
   "id": "1c61ed5d-cafb-415b-a19c-f87808edd890",
   "metadata": {},
   "outputs": [],
   "source": [
    "print(f\"Number of Features in transformed matrix: {features_train_pca.shape[1]}\")"
   ]
  },
  {
   "cell_type": "markdown",
   "id": "f7c93d98-6820-45a4-9878-42cd082bf56e",
   "metadata": {},
   "source": [
    "Transform but DO NOT fit the test features with the same PCA."
   ]
  },
  {
   "cell_type": "code",
   "execution_count": null,
   "id": "bea1d285-429c-4afb-b8cd-eeb68da18b9a",
   "metadata": {},
   "outputs": [],
   "source": [
    "features_test_pca = pca.transform(features_test)"
   ]
  },
  {
   "cell_type": "markdown",
   "id": "20c8c5b3-37b2-47c1-aab2-2ee939cb976a",
   "metadata": {},
   "source": [
    "Repeat step 7 with your PCA transformed data."
   ]
  },
  {
   "cell_type": "code",
   "execution_count": null,
   "id": "07b0557d-ad0e-450d-94f7-47566cc308ec",
   "metadata": {},
   "outputs": [],
   "source": [
    "model2 = linear_reg.fit(features_train_pca, target_train)"
   ]
  },
  {
   "cell_type": "code",
   "execution_count": null,
   "id": "bf2b2c67-96d0-4d26-acd3-5eb34d16165e",
   "metadata": {},
   "outputs": [],
   "source": [
    "target_test_pca = model2.predict(features_test_pca)"
   ]
  },
  {
   "cell_type": "code",
   "execution_count": null,
   "id": "f6bf26b0-cd0d-497d-a649-f697e55e17e2",
   "metadata": {},
   "outputs": [],
   "source": [
    "# calculate R squared\n",
    "print(f\"Test R2: {r2_score(target_test, target_test_pca)}\")"
   ]
  },
  {
   "cell_type": "code",
   "execution_count": null,
   "id": "03808eb4-dc34-4b4d-97cf-17ddedd5dfd9",
   "metadata": {},
   "outputs": [],
   "source": [
    "# claulate RMSE \n",
    "print(f\"Test RMSE: {root_mean_squared_error(target_test, target_test_pca)}\")"
   ]
  },
  {
   "cell_type": "markdown",
   "id": "b6112fff-127a-4be3-bea0-ff0d64de7aa6",
   "metadata": {},
   "source": [
    "Take your original training features (from step 6) and apply a min-max scaler to them."
   ]
  },
  {
   "cell_type": "code",
   "execution_count": null,
   "id": "b7825100-c0ac-48f8-90c0-dd8c621cbec1",
   "metadata": {},
   "outputs": [],
   "source": [
    "min_max_scaler = MinMaxScaler()"
   ]
  },
  {
   "cell_type": "code",
   "execution_count": null,
   "id": "c70ff5bd-8a71-4b64-8f6b-dedba5dc33f1",
   "metadata": {},
   "outputs": [],
   "source": [
    "min_max_scaler.fit(features_train)"
   ]
  },
  {
   "cell_type": "code",
   "execution_count": null,
   "id": "48ba61cf-5ccb-4fde-9398-81e5f97cfd3b",
   "metadata": {},
   "outputs": [],
   "source": [
    "features_train_scaled = min_max_scaler.transform(features_train)"
   ]
  },
  {
   "cell_type": "markdown",
   "id": "e362bd7a-6244-4eb3-849e-509e8d9221fa",
   "metadata": {},
   "source": [
    "Find the min-max scaled features in your training set that have a variance above 0.1 (see Section 10.1 in the Machine Learning with Python Cookbook)."
   ]
  },
  {
   "cell_type": "code",
   "execution_count": null,
   "id": "a43988fc-687e-4f19-b7d4-777ecc0dc1ca",
   "metadata": {},
   "outputs": [],
   "source": [
    "variance_threshold = VarianceThreshold(threshold=0.1)"
   ]
  },
  {
   "cell_type": "code",
   "execution_count": null,
   "id": "a80a5359-c0e2-4fa8-9b8c-e43e9fe36a52",
   "metadata": {},
   "outputs": [],
   "source": [
    "variance_threshold.fit(features_train_scaled)"
   ]
  },
  {
   "cell_type": "code",
   "execution_count": null,
   "id": "5a3b4e9b-0b84-4f3f-8324-6ea1094f96c2",
   "metadata": {},
   "outputs": [],
   "source": [
    "features_train_vt = variance_threshold.transform(features_train_scaled)"
   ]
  },
  {
   "cell_type": "markdown",
   "id": "669179c2-ae37-4aec-9135-d00bbda6be8e",
   "metadata": {},
   "source": [
    "Transform but DO NOT fit the test features with the same steps applied in steps 11 and 12."
   ]
  },
  {
   "cell_type": "code",
   "execution_count": null,
   "id": "63408c37-075c-4150-9fef-cb474993295b",
   "metadata": {},
   "outputs": [],
   "source": [
    "features_test_scaled = min_max_scaler.transform(features_test)"
   ]
  },
  {
   "cell_type": "code",
   "execution_count": null,
   "id": "be0c4b2b-7aa7-4707-b866-bd483a2c82e6",
   "metadata": {},
   "outputs": [],
   "source": [
    "features_test_vt = variance_threshold.transform(features_test_scaled)"
   ]
  },
  {
   "cell_type": "markdown",
   "id": "23f0b3b1-a4f3-4f43-8e39-1bfda97c8874",
   "metadata": {},
   "source": [
    "Repeat step 7 with the high variance data."
   ]
  },
  {
   "cell_type": "code",
   "execution_count": null,
   "id": "6d7f4b59-55cc-4e8c-98ea-0c0a7533c23b",
   "metadata": {},
   "outputs": [],
   "source": [
    "model3 = linear_reg.fit(features_train_vt, target_train)"
   ]
  },
  {
   "cell_type": "code",
   "execution_count": null,
   "id": "f41bf86e-7b2d-44d6-ae26-3a6084c95e8e",
   "metadata": {},
   "outputs": [],
   "source": [
    "target_test_vt = model3.predict(features_test_vt)"
   ]
  },
  {
   "cell_type": "code",
   "execution_count": null,
   "id": "46b90dc5-168a-461d-b130-18c22a594c69",
   "metadata": {},
   "outputs": [],
   "source": [
    "# calculate R squared\n",
    "print(f\"Test R2: {r2_score(target_test, target_test_vt)}\")"
   ]
  },
  {
   "cell_type": "code",
   "execution_count": null,
   "id": "106cf9cd-6228-4c0a-ace9-0db26f352f34",
   "metadata": {},
   "outputs": [],
   "source": [
    "# claulate RMSE \n",
    "print(f\"Test RMSE: {root_mean_squared_error(target_test, target_test_vt)}\")"
   ]
  },
  {
   "cell_type": "markdown",
   "id": "4a73e618-86b7-43ee-b943-686ce89e5f7d",
   "metadata": {},
   "source": [
    "### Summary\n",
    "\n",
    "RMSE and R2"
   ]
  },
  {
   "cell_type": "markdown",
   "id": "c7d3ef75-eba7-491a-b9d4-b7b23f9a052a",
   "metadata": {},
   "source": [
    "#### Part 2: Categorical Feature Selection"
   ]
  },
  {
   "cell_type": "markdown",
   "id": "d2672aec-9bd7-4a1a-a68e-7549eba24a31",
   "metadata": {},
   "source": [
    "Import the data as a data frame and ensure it is loaded correctly."
   ]
  },
  {
   "cell_type": "code",
   "execution_count": 2,
   "id": "8d96e3a8-0844-4da3-8c73-d296b9982f4b",
   "metadata": {},
   "outputs": [],
   "source": [
    "# read the dataset into a dataframe\n",
    "df = pd.read_csv(\"./datasets/mushrooms.csv\")"
   ]
  },
  {
   "cell_type": "code",
   "execution_count": 3,
   "id": "9c9eaad3-04a6-43fe-8beb-2ce38d1d344c",
   "metadata": {},
   "outputs": [
    {
     "data": {
      "text/html": [
       "<div>\n",
       "<style scoped>\n",
       "    .dataframe tbody tr th:only-of-type {\n",
       "        vertical-align: middle;\n",
       "    }\n",
       "\n",
       "    .dataframe tbody tr th {\n",
       "        vertical-align: top;\n",
       "    }\n",
       "\n",
       "    .dataframe thead th {\n",
       "        text-align: right;\n",
       "    }\n",
       "</style>\n",
       "<table border=\"1\" class=\"dataframe\">\n",
       "  <thead>\n",
       "    <tr style=\"text-align: right;\">\n",
       "      <th></th>\n",
       "      <th>class</th>\n",
       "      <th>cap-shape</th>\n",
       "      <th>cap-surface</th>\n",
       "      <th>cap-color</th>\n",
       "      <th>bruises</th>\n",
       "      <th>odor</th>\n",
       "      <th>gill-attachment</th>\n",
       "      <th>gill-spacing</th>\n",
       "      <th>gill-size</th>\n",
       "      <th>gill-color</th>\n",
       "      <th>...</th>\n",
       "      <th>stalk-surface-below-ring</th>\n",
       "      <th>stalk-color-above-ring</th>\n",
       "      <th>stalk-color-below-ring</th>\n",
       "      <th>veil-type</th>\n",
       "      <th>veil-color</th>\n",
       "      <th>ring-number</th>\n",
       "      <th>ring-type</th>\n",
       "      <th>spore-print-color</th>\n",
       "      <th>population</th>\n",
       "      <th>habitat</th>\n",
       "    </tr>\n",
       "  </thead>\n",
       "  <tbody>\n",
       "    <tr>\n",
       "      <th>0</th>\n",
       "      <td>p</td>\n",
       "      <td>x</td>\n",
       "      <td>s</td>\n",
       "      <td>n</td>\n",
       "      <td>t</td>\n",
       "      <td>p</td>\n",
       "      <td>f</td>\n",
       "      <td>c</td>\n",
       "      <td>n</td>\n",
       "      <td>k</td>\n",
       "      <td>...</td>\n",
       "      <td>s</td>\n",
       "      <td>w</td>\n",
       "      <td>w</td>\n",
       "      <td>p</td>\n",
       "      <td>w</td>\n",
       "      <td>o</td>\n",
       "      <td>p</td>\n",
       "      <td>k</td>\n",
       "      <td>s</td>\n",
       "      <td>u</td>\n",
       "    </tr>\n",
       "    <tr>\n",
       "      <th>1</th>\n",
       "      <td>e</td>\n",
       "      <td>x</td>\n",
       "      <td>s</td>\n",
       "      <td>y</td>\n",
       "      <td>t</td>\n",
       "      <td>a</td>\n",
       "      <td>f</td>\n",
       "      <td>c</td>\n",
       "      <td>b</td>\n",
       "      <td>k</td>\n",
       "      <td>...</td>\n",
       "      <td>s</td>\n",
       "      <td>w</td>\n",
       "      <td>w</td>\n",
       "      <td>p</td>\n",
       "      <td>w</td>\n",
       "      <td>o</td>\n",
       "      <td>p</td>\n",
       "      <td>n</td>\n",
       "      <td>n</td>\n",
       "      <td>g</td>\n",
       "    </tr>\n",
       "    <tr>\n",
       "      <th>2</th>\n",
       "      <td>e</td>\n",
       "      <td>b</td>\n",
       "      <td>s</td>\n",
       "      <td>w</td>\n",
       "      <td>t</td>\n",
       "      <td>l</td>\n",
       "      <td>f</td>\n",
       "      <td>c</td>\n",
       "      <td>b</td>\n",
       "      <td>n</td>\n",
       "      <td>...</td>\n",
       "      <td>s</td>\n",
       "      <td>w</td>\n",
       "      <td>w</td>\n",
       "      <td>p</td>\n",
       "      <td>w</td>\n",
       "      <td>o</td>\n",
       "      <td>p</td>\n",
       "      <td>n</td>\n",
       "      <td>n</td>\n",
       "      <td>m</td>\n",
       "    </tr>\n",
       "    <tr>\n",
       "      <th>3</th>\n",
       "      <td>p</td>\n",
       "      <td>x</td>\n",
       "      <td>y</td>\n",
       "      <td>w</td>\n",
       "      <td>t</td>\n",
       "      <td>p</td>\n",
       "      <td>f</td>\n",
       "      <td>c</td>\n",
       "      <td>n</td>\n",
       "      <td>n</td>\n",
       "      <td>...</td>\n",
       "      <td>s</td>\n",
       "      <td>w</td>\n",
       "      <td>w</td>\n",
       "      <td>p</td>\n",
       "      <td>w</td>\n",
       "      <td>o</td>\n",
       "      <td>p</td>\n",
       "      <td>k</td>\n",
       "      <td>s</td>\n",
       "      <td>u</td>\n",
       "    </tr>\n",
       "    <tr>\n",
       "      <th>4</th>\n",
       "      <td>e</td>\n",
       "      <td>x</td>\n",
       "      <td>s</td>\n",
       "      <td>g</td>\n",
       "      <td>f</td>\n",
       "      <td>n</td>\n",
       "      <td>f</td>\n",
       "      <td>w</td>\n",
       "      <td>b</td>\n",
       "      <td>k</td>\n",
       "      <td>...</td>\n",
       "      <td>s</td>\n",
       "      <td>w</td>\n",
       "      <td>w</td>\n",
       "      <td>p</td>\n",
       "      <td>w</td>\n",
       "      <td>o</td>\n",
       "      <td>e</td>\n",
       "      <td>n</td>\n",
       "      <td>a</td>\n",
       "      <td>g</td>\n",
       "    </tr>\n",
       "  </tbody>\n",
       "</table>\n",
       "<p>5 rows × 23 columns</p>\n",
       "</div>"
      ],
      "text/plain": [
       "  class cap-shape cap-surface cap-color bruises odor gill-attachment  \\\n",
       "0     p         x           s         n       t    p               f   \n",
       "1     e         x           s         y       t    a               f   \n",
       "2     e         b           s         w       t    l               f   \n",
       "3     p         x           y         w       t    p               f   \n",
       "4     e         x           s         g       f    n               f   \n",
       "\n",
       "  gill-spacing gill-size gill-color  ... stalk-surface-below-ring  \\\n",
       "0            c         n          k  ...                        s   \n",
       "1            c         b          k  ...                        s   \n",
       "2            c         b          n  ...                        s   \n",
       "3            c         n          n  ...                        s   \n",
       "4            w         b          k  ...                        s   \n",
       "\n",
       "  stalk-color-above-ring stalk-color-below-ring veil-type veil-color  \\\n",
       "0                      w                      w         p          w   \n",
       "1                      w                      w         p          w   \n",
       "2                      w                      w         p          w   \n",
       "3                      w                      w         p          w   \n",
       "4                      w                      w         p          w   \n",
       "\n",
       "  ring-number ring-type spore-print-color population habitat  \n",
       "0           o         p                 k          s       u  \n",
       "1           o         p                 n          n       g  \n",
       "2           o         p                 n          n       m  \n",
       "3           o         p                 k          s       u  \n",
       "4           o         e                 n          a       g  \n",
       "\n",
       "[5 rows x 23 columns]"
      ]
     },
     "execution_count": 3,
     "metadata": {},
     "output_type": "execute_result"
    }
   ],
   "source": [
    "# view few rows\n",
    "df.head()"
   ]
  },
  {
   "cell_type": "markdown",
   "id": "03b58cdd-1053-4f2c-9446-a7c02297f35f",
   "metadata": {},
   "source": [
    "Convert the categorical features (all of them) to dummy variables."
   ]
  },
  {
   "cell_type": "code",
   "execution_count": 4,
   "id": "75dc421d-9fc3-45bc-a860-0c4e562b6908",
   "metadata": {},
   "outputs": [],
   "source": [
    "df_dummies = pd.get_dummies(df.iloc[0:, 1:], drop_first=True)"
   ]
  },
  {
   "cell_type": "code",
   "execution_count": 5,
   "id": "09246289-3498-417d-91a4-a3e755992f5f",
   "metadata": {},
   "outputs": [],
   "source": [
    "df_target = df[\"class\"]"
   ]
  },
  {
   "cell_type": "markdown",
   "id": "5f3f77d6-bdd5-4912-92ff-329e8d1c059b",
   "metadata": {},
   "source": [
    "Split the data into a training and test set."
   ]
  },
  {
   "cell_type": "code",
   "execution_count": 6,
   "id": "77a0f522-d533-49c7-aa94-ca6d947b1b34",
   "metadata": {},
   "outputs": [],
   "source": [
    "# using sklearn's train_test_split method to split the dataset\n",
    "features_train, features_test, target_train, target_test = train_test_split(\n",
    "    df_dummies, df_target, test_size=0.2, random_state=42\n",
    ")"
   ]
  },
  {
   "cell_type": "markdown",
   "id": "a6119554-84d5-4a61-9cc9-3c285cbdca9d",
   "metadata": {},
   "source": [
    "Fit a decision tree classifier on the training set."
   ]
  },
  {
   "cell_type": "code",
   "execution_count": null,
   "id": "c22e0418-86af-4396-baae-7ed2050c48e5",
   "metadata": {},
   "outputs": [],
   "source": []
  },
  {
   "cell_type": "code",
   "execution_count": 7,
   "id": "5087ca27-051e-4617-8ce8-dabe23d36a1b",
   "metadata": {},
   "outputs": [],
   "source": [
    "decision_tree = DecisionTreeClassifier(max_depth=5)"
   ]
  },
  {
   "cell_type": "code",
   "execution_count": 8,
   "id": "09811a02-43f9-4e36-a726-bf0c81900fd7",
   "metadata": {},
   "outputs": [],
   "source": [
    "# gcv = GridSearchCV(decision_tree,\n",
    "#                   hyperparameters,\n",
    "#                   cv=5,\n",
    "#                   verbose=1)"
   ]
  },
  {
   "cell_type": "code",
   "execution_count": 9,
   "id": "a4531645-e85b-421e-9a5b-3c6b7bbe45d9",
   "metadata": {},
   "outputs": [],
   "source": [
    "best_model = decision_tree.fit(features_train, target_train)"
   ]
  },
  {
   "cell_type": "code",
   "execution_count": 10,
   "id": "ff226745-4ccc-4cfd-8d72-658854eb4801",
   "metadata": {},
   "outputs": [],
   "source": [
    "# best_model.best_estimator_.get_params()"
   ]
  },
  {
   "cell_type": "markdown",
   "id": "84f9b47c-35c2-45eb-96ad-49d904deaa17",
   "metadata": {},
   "source": [
    "Report the accuracy and create a confusion matrix for the model prediction on the test set."
   ]
  },
  {
   "cell_type": "code",
   "execution_count": 11,
   "id": "f52145f0-ea53-4f19-9dce-fcf553e4d649",
   "metadata": {},
   "outputs": [],
   "source": [
    "target_predicted = best_model.predict(features_test)"
   ]
  },
  {
   "cell_type": "code",
   "execution_count": 12,
   "id": "9458a0a8-326c-4c18-a17a-4f8bf820f6d2",
   "metadata": {},
   "outputs": [
    {
     "data": {
      "text/plain": [
       "0.9963076923076923"
      ]
     },
     "execution_count": 12,
     "metadata": {},
     "output_type": "execute_result"
    }
   ],
   "source": [
    "accuracy_score(target_test, target_predicted)"
   ]
  },
  {
   "cell_type": "code",
   "execution_count": 13,
   "id": "28f63931-da7c-4972-ab93-90177f613d1d",
   "metadata": {},
   "outputs": [
    {
     "data": {
      "image/png": "[encoded data removed]",
      "text/plain": [
       "<Figure size 640x480 with 1 Axes>"
      ]
     },
     "metadata": {},
     "output_type": "display_data"
    }
   ],
   "source": [
    "# plot confusion matrix using sklearn's ConfusionMatrixDisplay module\n",
    "ConfusionMatrixDisplay.from_predictions(target_test, target_predicted, \n",
    "                                        display_labels=best_model.classes_,\n",
    "                                        colorbar=False, \n",
    "                                        cmap=\"Blues\")\n",
    "plt.show()"
   ]
  },
  {
   "cell_type": "code",
   "execution_count": null,
   "id": "0ec2ee8b-8d18-4774-acaa-e44b0bc3e353",
   "metadata": {},
   "outputs": [],
   "source": []
  }
 ],
 "metadata": {
  "kernelspec": {
   "display_name": "Python 3 (ipykernel)",
   "language": "python",
   "name": "python3"
  },
  "language_info": {
   "codemirror_mode": {
    "name": "ipython",
    "version": 3
   },
   "file_extension": ".py",
   "mimetype": "text/x-python",
   "name": "python",
   "nbconvert_exporter": "python",
   "pygments_lexer": "ipython3",
   "version": "3.11.4"
  }
 },
 "nbformat": 4,
 "nbformat_minor": 5
}
