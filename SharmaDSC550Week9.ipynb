{
 "cells": [
  {
   "cell_type": "markdown",
   "id": "d636973d-c27d-493e-8a27-d532bff1d90c",
   "metadata": {},
   "source": [
    "## Assignment Week 9 - Biswajit Sharma"
   ]
  },
  {
   "cell_type": "markdown",
   "id": "20d4b374-45a0-4676-a8c9-db16b182c84f",
   "metadata": {},
   "source": [
    "Import the dataset and ensure that it loaded properly."
   ]
  },
  {
   "cell_type": "code",
   "execution_count": 1,
   "id": "192ad05b-9f6a-487c-936c-11cd2c15be0d",
   "metadata": {},
   "outputs": [],
   "source": [
    "# import modules\n",
    "\n",
    "import pandas as pd\n",
    "import numpy as np\n",
    "from sklearn.model_selection import train_test_split\n",
    "from sklearn.pipeline import Pipeline\n",
    "from sklearn.neighbors import KNeighborsClassifier\n",
    "from sklearn.model_selection import GridSearchCV\n",
    "from sklearn.ensemble import RandomForestClassifier\n",
    "from sklearn.linear_model import LogisticRegression\n",
    "from sklearn.preprocessing import MinMaxScaler\n",
    "from sklearn.metrics import accuracy_score\n",
    "from sklearn.preprocessing import OneHotEncoder"
   ]
  },
  {
   "cell_type": "code",
   "execution_count": 2,
   "id": "5bfc13b9-5231-4b0d-ba43-fa2b82d7a985",
   "metadata": {},
   "outputs": [],
   "source": [
    "# Set up display options\n",
    "pd.options.display.max_columns=80\n",
    "pd.options.display.max_rows=50\n",
    "pd.options.display.max_colwidth=80"
   ]
  },
  {
   "cell_type": "code",
   "execution_count": 3,
   "id": "a5e3bef1-2537-4e4b-8134-fbdc9c612224",
   "metadata": {},
   "outputs": [],
   "source": [
    "# read the dataset into a dataframe\n",
    "df = pd.read_csv(\"./datasets/Loan_Train.csv\")"
   ]
  },
  {
   "cell_type": "code",
   "execution_count": 4,
   "id": "0e51e637-7e5d-477d-9b94-596675559880",
   "metadata": {},
   "outputs": [
    {
     "data": {
      "text/html": [
       "<div>\n",
       "<style scoped>\n",
       "    .dataframe tbody tr th:only-of-type {\n",
       "        vertical-align: middle;\n",
       "    }\n",
       "\n",
       "    .dataframe tbody tr th {\n",
       "        vertical-align: top;\n",
       "    }\n",
       "\n",
       "    .dataframe thead th {\n",
       "        text-align: right;\n",
       "    }\n",
       "</style>\n",
       "<table border=\"1\" class=\"dataframe\">\n",
       "  <thead>\n",
       "    <tr style=\"text-align: right;\">\n",
       "      <th></th>\n",
       "      <th>Loan_ID</th>\n",
       "      <th>Gender</th>\n",
       "      <th>Married</th>\n",
       "      <th>Dependents</th>\n",
       "      <th>Education</th>\n",
       "      <th>Self_Employed</th>\n",
       "      <th>ApplicantIncome</th>\n",
       "      <th>CoapplicantIncome</th>\n",
       "      <th>LoanAmount</th>\n",
       "      <th>Loan_Amount_Term</th>\n",
       "      <th>Credit_History</th>\n",
       "      <th>Property_Area</th>\n",
       "      <th>Loan_Status</th>\n",
       "    </tr>\n",
       "  </thead>\n",
       "  <tbody>\n",
       "    <tr>\n",
       "      <th>0</th>\n",
       "      <td>LP001002</td>\n",
       "      <td>Male</td>\n",
       "      <td>No</td>\n",
       "      <td>0</td>\n",
       "      <td>Graduate</td>\n",
       "      <td>No</td>\n",
       "      <td>5849</td>\n",
       "      <td>0.0</td>\n",
       "      <td>NaN</td>\n",
       "      <td>360.0</td>\n",
       "      <td>1.0</td>\n",
       "      <td>Urban</td>\n",
       "      <td>Y</td>\n",
       "    </tr>\n",
       "    <tr>\n",
       "      <th>1</th>\n",
       "      <td>LP001003</td>\n",
       "      <td>Male</td>\n",
       "      <td>Yes</td>\n",
       "      <td>1</td>\n",
       "      <td>Graduate</td>\n",
       "      <td>No</td>\n",
       "      <td>4583</td>\n",
       "      <td>1508.0</td>\n",
       "      <td>128.0</td>\n",
       "      <td>360.0</td>\n",
       "      <td>1.0</td>\n",
       "      <td>Rural</td>\n",
       "      <td>N</td>\n",
       "    </tr>\n",
       "    <tr>\n",
       "      <th>2</th>\n",
       "      <td>LP001005</td>\n",
       "      <td>Male</td>\n",
       "      <td>Yes</td>\n",
       "      <td>0</td>\n",
       "      <td>Graduate</td>\n",
       "      <td>Yes</td>\n",
       "      <td>3000</td>\n",
       "      <td>0.0</td>\n",
       "      <td>66.0</td>\n",
       "      <td>360.0</td>\n",
       "      <td>1.0</td>\n",
       "      <td>Urban</td>\n",
       "      <td>Y</td>\n",
       "    </tr>\n",
       "    <tr>\n",
       "      <th>3</th>\n",
       "      <td>LP001006</td>\n",
       "      <td>Male</td>\n",
       "      <td>Yes</td>\n",
       "      <td>0</td>\n",
       "      <td>Not Graduate</td>\n",
       "      <td>No</td>\n",
       "      <td>2583</td>\n",
       "      <td>2358.0</td>\n",
       "      <td>120.0</td>\n",
       "      <td>360.0</td>\n",
       "      <td>1.0</td>\n",
       "      <td>Urban</td>\n",
       "      <td>Y</td>\n",
       "    </tr>\n",
       "    <tr>\n",
       "      <th>4</th>\n",
       "      <td>LP001008</td>\n",
       "      <td>Male</td>\n",
       "      <td>No</td>\n",
       "      <td>0</td>\n",
       "      <td>Graduate</td>\n",
       "      <td>No</td>\n",
       "      <td>6000</td>\n",
       "      <td>0.0</td>\n",
       "      <td>141.0</td>\n",
       "      <td>360.0</td>\n",
       "      <td>1.0</td>\n",
       "      <td>Urban</td>\n",
       "      <td>Y</td>\n",
       "    </tr>\n",
       "  </tbody>\n",
       "</table>\n",
       "</div>"
      ],
      "text/plain": [
       "    Loan_ID Gender Married Dependents     Education Self_Employed  \\\n",
       "0  LP001002   Male      No          0      Graduate            No   \n",
       "1  LP001003   Male     Yes          1      Graduate            No   \n",
       "2  LP001005   Male     Yes          0      Graduate           Yes   \n",
       "3  LP001006   Male     Yes          0  Not Graduate            No   \n",
       "4  LP001008   Male      No          0      Graduate            No   \n",
       "\n",
       "   ApplicantIncome  CoapplicantIncome  LoanAmount  Loan_Amount_Term  \\\n",
       "0             5849                0.0         NaN             360.0   \n",
       "1             4583             1508.0       128.0             360.0   \n",
       "2             3000                0.0        66.0             360.0   \n",
       "3             2583             2358.0       120.0             360.0   \n",
       "4             6000                0.0       141.0             360.0   \n",
       "\n",
       "   Credit_History Property_Area Loan_Status  \n",
       "0             1.0         Urban           Y  \n",
       "1             1.0         Rural           N  \n",
       "2             1.0         Urban           Y  \n",
       "3             1.0         Urban           Y  \n",
       "4             1.0         Urban           Y  "
      ]
     },
     "execution_count": 4,
     "metadata": {},
     "output_type": "execute_result"
    }
   ],
   "source": [
    "# view few rows\n",
    "df.head()"
   ]
  },
  {
   "cell_type": "markdown",
   "id": "95bb02e7-1b70-4786-8677-147125779ccb",
   "metadata": {},
   "source": [
    "Drop the column “Loan_ID.”"
   ]
  },
  {
   "cell_type": "code",
   "execution_count": 5,
   "id": "d460f1a5-c558-44a3-913f-20a26e8dc0ea",
   "metadata": {},
   "outputs": [],
   "source": [
    "#drop the Id column\n",
    "df = df.drop(columns=\"Loan_ID\")"
   ]
  },
  {
   "cell_type": "code",
   "execution_count": 6,
   "id": "35c01c4b-92b4-4f26-97f9-d07c86368126",
   "metadata": {},
   "outputs": [
    {
     "data": {
      "text/html": [
       "<div>\n",
       "<style scoped>\n",
       "    .dataframe tbody tr th:only-of-type {\n",
       "        vertical-align: middle;\n",
       "    }\n",
       "\n",
       "    .dataframe tbody tr th {\n",
       "        vertical-align: top;\n",
       "    }\n",
       "\n",
       "    .dataframe thead th {\n",
       "        text-align: right;\n",
       "    }\n",
       "</style>\n",
       "<table border=\"1\" class=\"dataframe\">\n",
       "  <thead>\n",
       "    <tr style=\"text-align: right;\">\n",
       "      <th></th>\n",
       "      <th>Gender</th>\n",
       "      <th>Married</th>\n",
       "      <th>Dependents</th>\n",
       "      <th>Education</th>\n",
       "      <th>Self_Employed</th>\n",
       "      <th>ApplicantIncome</th>\n",
       "      <th>CoapplicantIncome</th>\n",
       "      <th>LoanAmount</th>\n",
       "      <th>Loan_Amount_Term</th>\n",
       "      <th>Credit_History</th>\n",
       "      <th>Property_Area</th>\n",
       "      <th>Loan_Status</th>\n",
       "    </tr>\n",
       "  </thead>\n",
       "  <tbody>\n",
       "    <tr>\n",
       "      <th>0</th>\n",
       "      <td>Male</td>\n",
       "      <td>No</td>\n",
       "      <td>0</td>\n",
       "      <td>Graduate</td>\n",
       "      <td>No</td>\n",
       "      <td>5849</td>\n",
       "      <td>0.0</td>\n",
       "      <td>NaN</td>\n",
       "      <td>360.0</td>\n",
       "      <td>1.0</td>\n",
       "      <td>Urban</td>\n",
       "      <td>Y</td>\n",
       "    </tr>\n",
       "    <tr>\n",
       "      <th>1</th>\n",
       "      <td>Male</td>\n",
       "      <td>Yes</td>\n",
       "      <td>1</td>\n",
       "      <td>Graduate</td>\n",
       "      <td>No</td>\n",
       "      <td>4583</td>\n",
       "      <td>1508.0</td>\n",
       "      <td>128.0</td>\n",
       "      <td>360.0</td>\n",
       "      <td>1.0</td>\n",
       "      <td>Rural</td>\n",
       "      <td>N</td>\n",
       "    </tr>\n",
       "    <tr>\n",
       "      <th>2</th>\n",
       "      <td>Male</td>\n",
       "      <td>Yes</td>\n",
       "      <td>0</td>\n",
       "      <td>Graduate</td>\n",
       "      <td>Yes</td>\n",
       "      <td>3000</td>\n",
       "      <td>0.0</td>\n",
       "      <td>66.0</td>\n",
       "      <td>360.0</td>\n",
       "      <td>1.0</td>\n",
       "      <td>Urban</td>\n",
       "      <td>Y</td>\n",
       "    </tr>\n",
       "    <tr>\n",
       "      <th>3</th>\n",
       "      <td>Male</td>\n",
       "      <td>Yes</td>\n",
       "      <td>0</td>\n",
       "      <td>Not Graduate</td>\n",
       "      <td>No</td>\n",
       "      <td>2583</td>\n",
       "      <td>2358.0</td>\n",
       "      <td>120.0</td>\n",
       "      <td>360.0</td>\n",
       "      <td>1.0</td>\n",
       "      <td>Urban</td>\n",
       "      <td>Y</td>\n",
       "    </tr>\n",
       "    <tr>\n",
       "      <th>4</th>\n",
       "      <td>Male</td>\n",
       "      <td>No</td>\n",
       "      <td>0</td>\n",
       "      <td>Graduate</td>\n",
       "      <td>No</td>\n",
       "      <td>6000</td>\n",
       "      <td>0.0</td>\n",
       "      <td>141.0</td>\n",
       "      <td>360.0</td>\n",
       "      <td>1.0</td>\n",
       "      <td>Urban</td>\n",
       "      <td>Y</td>\n",
       "    </tr>\n",
       "  </tbody>\n",
       "</table>\n",
       "</div>"
      ],
      "text/plain": [
       "  Gender Married Dependents     Education Self_Employed  ApplicantIncome  \\\n",
       "0   Male      No          0      Graduate            No             5849   \n",
       "1   Male     Yes          1      Graduate            No             4583   \n",
       "2   Male     Yes          0      Graduate           Yes             3000   \n",
       "3   Male     Yes          0  Not Graduate            No             2583   \n",
       "4   Male      No          0      Graduate            No             6000   \n",
       "\n",
       "   CoapplicantIncome  LoanAmount  Loan_Amount_Term  Credit_History  \\\n",
       "0                0.0         NaN             360.0             1.0   \n",
       "1             1508.0       128.0             360.0             1.0   \n",
       "2                0.0        66.0             360.0             1.0   \n",
       "3             2358.0       120.0             360.0             1.0   \n",
       "4                0.0       141.0             360.0             1.0   \n",
       "\n",
       "  Property_Area Loan_Status  \n",
       "0         Urban           Y  \n",
       "1         Rural           N  \n",
       "2         Urban           Y  \n",
       "3         Urban           Y  \n",
       "4         Urban           Y  "
      ]
     },
     "execution_count": 6,
     "metadata": {},
     "output_type": "execute_result"
    }
   ],
   "source": [
    "# view few rows\n",
    "df.head()"
   ]
  },
  {
   "cell_type": "markdown",
   "id": "64f180cc-9c41-4857-b29c-776da5bf2fed",
   "metadata": {},
   "source": [
    "Drop any rows with missing data."
   ]
  },
  {
   "cell_type": "code",
   "execution_count": 7,
   "id": "78154578-f685-483f-beb5-ccc05a155cbc",
   "metadata": {},
   "outputs": [
    {
     "data": {
      "text/plain": [
       "(614, 12)"
      ]
     },
     "execution_count": 7,
     "metadata": {},
     "output_type": "execute_result"
    }
   ],
   "source": [
    "# check dimension of dataframe\n",
    "df.shape"
   ]
  },
  {
   "cell_type": "code",
   "execution_count": 8,
   "id": "ace5db57-480f-4193-b3b2-e8f232f79f85",
   "metadata": {
    "scrolled": true
   },
   "outputs": [
    {
     "data": {
      "text/plain": [
       "Gender               13\n",
       "Married               3\n",
       "Dependents           15\n",
       "Education             0\n",
       "Self_Employed        32\n",
       "ApplicantIncome       0\n",
       "CoapplicantIncome     0\n",
       "LoanAmount           22\n",
       "Loan_Amount_Term     14\n",
       "Credit_History       50\n",
       "Property_Area         0\n",
       "Loan_Status           0\n",
       "dtype: int64"
      ]
     },
     "execution_count": 8,
     "metadata": {},
     "output_type": "execute_result"
    }
   ],
   "source": [
    "#identify columns that have missing values\n",
    "df.isna().sum()"
   ]
  },
  {
   "cell_type": "code",
   "execution_count": 9,
   "id": "cc238a77-8d60-4d35-82f6-55301d31a541",
   "metadata": {},
   "outputs": [],
   "source": [
    "# drop rows if any field in a row has NaN\n",
    "df = df.dropna(how=\"any\", axis=0)"
   ]
  },
  {
   "cell_type": "code",
   "execution_count": 10,
   "id": "f1a42ab0-f213-4371-8015-38d8401a6185",
   "metadata": {},
   "outputs": [
    {
     "data": {
      "text/plain": [
       "(480, 12)"
      ]
     },
     "execution_count": 10,
     "metadata": {},
     "output_type": "execute_result"
    }
   ],
   "source": [
    "# check dimension after drop\n",
    "df.shape"
   ]
  },
  {
   "cell_type": "code",
   "execution_count": 11,
   "id": "173cb6b0-cfce-427c-b12b-3dc5c2cfe8b2",
   "metadata": {},
   "outputs": [
    {
     "data": {
      "text/plain": [
       "Gender               0\n",
       "Married              0\n",
       "Dependents           0\n",
       "Education            0\n",
       "Self_Employed        0\n",
       "ApplicantIncome      0\n",
       "CoapplicantIncome    0\n",
       "LoanAmount           0\n",
       "Loan_Amount_Term     0\n",
       "Credit_History       0\n",
       "Property_Area        0\n",
       "Loan_Status          0\n",
       "dtype: int64"
      ]
     },
     "execution_count": 11,
     "metadata": {},
     "output_type": "execute_result"
    }
   ],
   "source": [
    "# check no missing values remain\n",
    "df.isna().sum()"
   ]
  },
  {
   "cell_type": "markdown",
   "id": "90299be3-0abc-49b0-b3a1-4d18905a0493",
   "metadata": {},
   "source": [
    "We notice that 134 rows have been dropped due presence of missing values."
   ]
  },
  {
   "cell_type": "markdown",
   "id": "3c7c801c-db7e-4a5b-b89e-c03c872d791a",
   "metadata": {},
   "source": [
    "Convert the categorical features into dummy variables."
   ]
  },
  {
   "cell_type": "code",
   "execution_count": 12,
   "id": "2a8f5293-9f45-4a8d-bc6f-ea7cbbf66116",
   "metadata": {},
   "outputs": [
    {
     "data": {
      "text/plain": [
       "Gender                object\n",
       "Married               object\n",
       "Dependents            object\n",
       "Education             object\n",
       "Self_Employed         object\n",
       "ApplicantIncome        int64\n",
       "CoapplicantIncome    float64\n",
       "LoanAmount           float64\n",
       "Loan_Amount_Term     float64\n",
       "Credit_History       float64\n",
       "Property_Area         object\n",
       "Loan_Status           object\n",
       "dtype: object"
      ]
     },
     "execution_count": 12,
     "metadata": {},
     "output_type": "execute_result"
    }
   ],
   "source": [
    "# check column datatypes\n",
    "df.dtypes"
   ]
  },
  {
   "cell_type": "code",
   "execution_count": 13,
   "id": "7f52315a-1d3b-4e65-9a04-18372c7f1b73",
   "metadata": {},
   "outputs": [],
   "source": [
    "#using pandas get_dummies to encode categorical variables\n",
    "categorical_feature_names = [cols for cols in df.columns if (df[cols].dtype == \"object\" and cols != \"Loan_Status\")]\n",
    "df_with_dummies = pd.get_dummies(df, columns=categorical_feature_names, drop_first=True, dtype=\"int\")"
   ]
  },
  {
   "cell_type": "code",
   "execution_count": 14,
   "id": "09435945-ece6-472a-a518-231f55a35828",
   "metadata": {},
   "outputs": [
    {
     "data": {
      "text/html": [
       "<div>\n",
       "<style scoped>\n",
       "    .dataframe tbody tr th:only-of-type {\n",
       "        vertical-align: middle;\n",
       "    }\n",
       "\n",
       "    .dataframe tbody tr th {\n",
       "        vertical-align: top;\n",
       "    }\n",
       "\n",
       "    .dataframe thead th {\n",
       "        text-align: right;\n",
       "    }\n",
       "</style>\n",
       "<table border=\"1\" class=\"dataframe\">\n",
       "  <thead>\n",
       "    <tr style=\"text-align: right;\">\n",
       "      <th></th>\n",
       "      <th>ApplicantIncome</th>\n",
       "      <th>CoapplicantIncome</th>\n",
       "      <th>LoanAmount</th>\n",
       "      <th>Loan_Amount_Term</th>\n",
       "      <th>Credit_History</th>\n",
       "      <th>Loan_Status</th>\n",
       "      <th>Gender_Male</th>\n",
       "      <th>Married_Yes</th>\n",
       "      <th>Dependents_1</th>\n",
       "      <th>Dependents_2</th>\n",
       "      <th>Dependents_3+</th>\n",
       "      <th>Education_Not Graduate</th>\n",
       "      <th>Self_Employed_Yes</th>\n",
       "      <th>Property_Area_Semiurban</th>\n",
       "      <th>Property_Area_Urban</th>\n",
       "    </tr>\n",
       "  </thead>\n",
       "  <tbody>\n",
       "    <tr>\n",
       "      <th>1</th>\n",
       "      <td>4583</td>\n",
       "      <td>1508.0</td>\n",
       "      <td>128.0</td>\n",
       "      <td>360.0</td>\n",
       "      <td>1.0</td>\n",
       "      <td>N</td>\n",
       "      <td>1</td>\n",
       "      <td>1</td>\n",
       "      <td>1</td>\n",
       "      <td>0</td>\n",
       "      <td>0</td>\n",
       "      <td>0</td>\n",
       "      <td>0</td>\n",
       "      <td>0</td>\n",
       "      <td>0</td>\n",
       "    </tr>\n",
       "    <tr>\n",
       "      <th>2</th>\n",
       "      <td>3000</td>\n",
       "      <td>0.0</td>\n",
       "      <td>66.0</td>\n",
       "      <td>360.0</td>\n",
       "      <td>1.0</td>\n",
       "      <td>Y</td>\n",
       "      <td>1</td>\n",
       "      <td>1</td>\n",
       "      <td>0</td>\n",
       "      <td>0</td>\n",
       "      <td>0</td>\n",
       "      <td>0</td>\n",
       "      <td>1</td>\n",
       "      <td>0</td>\n",
       "      <td>1</td>\n",
       "    </tr>\n",
       "    <tr>\n",
       "      <th>3</th>\n",
       "      <td>2583</td>\n",
       "      <td>2358.0</td>\n",
       "      <td>120.0</td>\n",
       "      <td>360.0</td>\n",
       "      <td>1.0</td>\n",
       "      <td>Y</td>\n",
       "      <td>1</td>\n",
       "      <td>1</td>\n",
       "      <td>0</td>\n",
       "      <td>0</td>\n",
       "      <td>0</td>\n",
       "      <td>1</td>\n",
       "      <td>0</td>\n",
       "      <td>0</td>\n",
       "      <td>1</td>\n",
       "    </tr>\n",
       "    <tr>\n",
       "      <th>4</th>\n",
       "      <td>6000</td>\n",
       "      <td>0.0</td>\n",
       "      <td>141.0</td>\n",
       "      <td>360.0</td>\n",
       "      <td>1.0</td>\n",
       "      <td>Y</td>\n",
       "      <td>1</td>\n",
       "      <td>0</td>\n",
       "      <td>0</td>\n",
       "      <td>0</td>\n",
       "      <td>0</td>\n",
       "      <td>0</td>\n",
       "      <td>0</td>\n",
       "      <td>0</td>\n",
       "      <td>1</td>\n",
       "    </tr>\n",
       "    <tr>\n",
       "      <th>5</th>\n",
       "      <td>5417</td>\n",
       "      <td>4196.0</td>\n",
       "      <td>267.0</td>\n",
       "      <td>360.0</td>\n",
       "      <td>1.0</td>\n",
       "      <td>Y</td>\n",
       "      <td>1</td>\n",
       "      <td>1</td>\n",
       "      <td>0</td>\n",
       "      <td>1</td>\n",
       "      <td>0</td>\n",
       "      <td>0</td>\n",
       "      <td>1</td>\n",
       "      <td>0</td>\n",
       "      <td>1</td>\n",
       "    </tr>\n",
       "  </tbody>\n",
       "</table>\n",
       "</div>"
      ],
      "text/plain": [
       "   ApplicantIncome  CoapplicantIncome  LoanAmount  Loan_Amount_Term  \\\n",
       "1             4583             1508.0       128.0             360.0   \n",
       "2             3000                0.0        66.0             360.0   \n",
       "3             2583             2358.0       120.0             360.0   \n",
       "4             6000                0.0       141.0             360.0   \n",
       "5             5417             4196.0       267.0             360.0   \n",
       "\n",
       "   Credit_History Loan_Status  Gender_Male  Married_Yes  Dependents_1  \\\n",
       "1             1.0           N            1            1             1   \n",
       "2             1.0           Y            1            1             0   \n",
       "3             1.0           Y            1            1             0   \n",
       "4             1.0           Y            1            0             0   \n",
       "5             1.0           Y            1            1             0   \n",
       "\n",
       "   Dependents_2  Dependents_3+  Education_Not Graduate  Self_Employed_Yes  \\\n",
       "1             0              0                       0                  0   \n",
       "2             0              0                       0                  1   \n",
       "3             0              0                       1                  0   \n",
       "4             0              0                       0                  0   \n",
       "5             1              0                       0                  1   \n",
       "\n",
       "   Property_Area_Semiurban  Property_Area_Urban  \n",
       "1                        0                    0  \n",
       "2                        0                    1  \n",
       "3                        0                    1  \n",
       "4                        0                    1  \n",
       "5                        0                    1  "
      ]
     },
     "execution_count": 14,
     "metadata": {},
     "output_type": "execute_result"
    }
   ],
   "source": [
    "# view few rows after applying dummies\n",
    "df_with_dummies.head()"
   ]
  },
  {
   "cell_type": "markdown",
   "id": "4676d29c-a324-47d4-989c-447cfc1a56f5",
   "metadata": {},
   "source": [
    "Split the data into a training and test set, where the “Loan_Status” column is the target."
   ]
  },
  {
   "cell_type": "code",
   "execution_count": 15,
   "id": "0c60d5a9-9990-4655-8c06-94e3762cfaa5",
   "metadata": {},
   "outputs": [],
   "source": [
    "# define feature and target names\n",
    "target = \"Loan_Status\"\n",
    "features = [cols for cols in df_with_dummies.columns if cols != \"Loan_Status\"]"
   ]
  },
  {
   "cell_type": "code",
   "execution_count": 16,
   "id": "b4f79a66-6c43-428e-8e97-e17a98d30170",
   "metadata": {},
   "outputs": [],
   "source": [
    "# using sklearn's train_test_split method to split the dataset\n",
    "features_train, features_test, target_train, target_test = train_test_split(\n",
    "    df_with_dummies[features], df_with_dummies[target], test_size=0.2, random_state=1\n",
    ")"
   ]
  },
  {
   "cell_type": "markdown",
   "id": "5648be57-e277-4e6a-b1b2-98da3cb9f76d",
   "metadata": {},
   "source": [
    "Create a pipeline with a min-max scaler and a KNN classifier."
   ]
  },
  {
   "cell_type": "code",
   "execution_count": 17,
   "id": "dd5c22ef-a170-4f35-80c9-32fed8f32054",
   "metadata": {},
   "outputs": [],
   "source": [
    "# create a min-max scaler \n",
    "scaler = MinMaxScaler()"
   ]
  },
  {
   "cell_type": "code",
   "execution_count": 18,
   "id": "0f0e8fef-d319-4dc1-85bf-bf5ebfb75ad7",
   "metadata": {},
   "outputs": [],
   "source": [
    "# create a default KNN classifier\n",
    "default_knn = KNeighborsClassifier()"
   ]
  },
  {
   "cell_type": "code",
   "execution_count": 19,
   "id": "60602c13-cb1a-4b62-9895-7935edb829a2",
   "metadata": {},
   "outputs": [],
   "source": [
    "# define pipeline\n",
    "pipe = Pipeline(\n",
    "    [\n",
    "        (\"scaler\",scaler),\n",
    "        (\"knn\", default_knn)\n",
    "    ]\n",
    ")"
   ]
  },
  {
   "cell_type": "markdown",
   "id": "5c22e052-fd36-43f5-b78a-814be299e745",
   "metadata": {},
   "source": [
    "Fit a default KNN classifier to the data with this pipeline. Report the model accuracy on the test set. "
   ]
  },
  {
   "cell_type": "code",
   "execution_count": 20,
   "id": "454d3402-f907-4b9b-9896-a4e909f2ad33",
   "metadata": {},
   "outputs": [],
   "source": [
    "# fit the pipeline with training set\n",
    "default_knn_model = pipe.fit(features_train, target_train)"
   ]
  },
  {
   "cell_type": "code",
   "execution_count": 21,
   "id": "9ea096df-f43d-44be-8e59-2088a6133a5a",
   "metadata": {},
   "outputs": [],
   "source": [
    "#predict loan status for test set using default KNN classifier\n",
    "predicted_target_test = default_knn_model.predict(features_test)"
   ]
  },
  {
   "cell_type": "code",
   "execution_count": 22,
   "id": "3a4ac5ee-9d63-4754-98ba-c2a40d866aac",
   "metadata": {},
   "outputs": [
    {
     "name": "stdout",
     "output_type": "stream",
     "text": [
      "Accuracy: 0.7291666666666666\n"
     ]
    }
   ],
   "source": [
    "# calculate accuracy for test set using a default KNN classifier\n",
    "print(f\"Accuracy: {accuracy_score(target_test, predicted_target_test)}\")"
   ]
  },
  {
   "cell_type": "markdown",
   "id": "5c57d33b-23b4-46a0-bf23-3a6b8d159ea2",
   "metadata": {},
   "source": [
    "We see that model accuracy of the _default KNN Classifier_ is $0.73$."
   ]
  },
  {
   "cell_type": "markdown",
   "id": "312097d1-1125-4a8a-87a7-88be7e14d2c9",
   "metadata": {},
   "source": [
    "Create a search space for your KNN classifier where your “n_neighbors” parameter varies from 1 to 10."
   ]
  },
  {
   "cell_type": "code",
   "execution_count": 23,
   "id": "1dfe48fe-3947-4b47-8f2e-efe4dc023713",
   "metadata": {},
   "outputs": [],
   "source": [
    "#create search space \n",
    "grid_search_space = [\n",
    "    {\"knn__n_neighbors\": [i for i in range(1,11)]}\n",
    "] "
   ]
  },
  {
   "cell_type": "markdown",
   "id": "e7d7aa7e-2bf8-4042-a397-d3769a5bd0fa",
   "metadata": {},
   "source": [
    "Fit a grid search with your pipeline, search space, and 5-fold cross-validation to find the best value for the “n_neighbors” parameter."
   ]
  },
  {
   "cell_type": "code",
   "execution_count": 24,
   "id": "2aa3714e-eb95-47ae-a6a4-369b6ffa2214",
   "metadata": {},
   "outputs": [],
   "source": [
    "# create grid search\n",
    "gcv = GridSearchCV(\n",
    "    pipe,\n",
    "    grid_search_space,\n",
    "    cv=5,\n",
    "    verbose=1\n",
    ")"
   ]
  },
  {
   "cell_type": "code",
   "execution_count": 25,
   "id": "13f37f34-3ef2-4559-ae2e-71cc9ed8b6cb",
   "metadata": {},
   "outputs": [
    {
     "name": "stdout",
     "output_type": "stream",
     "text": [
      "Fitting 5 folds for each of 10 candidates, totalling 50 fits\n"
     ]
    }
   ],
   "source": [
    "#fit the grid search\n",
    "best_model = gcv.fit(features_train, target_train)"
   ]
  },
  {
   "cell_type": "code",
   "execution_count": 26,
   "id": "3f25a0dd-3cb2-4ba9-9a95-cde23dc53cf9",
   "metadata": {},
   "outputs": [
    {
     "data": {
      "text/plain": [
       "{'memory': None,\n",
       " 'steps': [('scaler', MinMaxScaler()), ('knn', KNeighborsClassifier())],\n",
       " 'verbose': False,\n",
       " 'scaler': MinMaxScaler(),\n",
       " 'knn': KNeighborsClassifier(),\n",
       " 'scaler__clip': False,\n",
       " 'scaler__copy': True,\n",
       " 'scaler__feature_range': (0, 1),\n",
       " 'knn__algorithm': 'auto',\n",
       " 'knn__leaf_size': 30,\n",
       " 'knn__metric': 'minkowski',\n",
       " 'knn__metric_params': None,\n",
       " 'knn__n_jobs': None,\n",
       " 'knn__n_neighbors': 5,\n",
       " 'knn__p': 2,\n",
       " 'knn__weights': 'uniform'}"
      ]
     },
     "execution_count": 26,
     "metadata": {},
     "output_type": "execute_result"
    }
   ],
   "source": [
    "# show best model parameters\n",
    "best_model.best_estimator_.get_params()"
   ]
  },
  {
   "cell_type": "code",
   "execution_count": 27,
   "id": "bf4ddc17-9fa5-467d-bd55-8b5067ea1891",
   "metadata": {},
   "outputs": [
    {
     "name": "stdout",
     "output_type": "stream",
     "text": [
      "Best value for n_neighbors is 5\n"
     ]
    }
   ],
   "source": [
    "print(f\"Best value for n_neighbors is {best_model.best_estimator_.get_params()['knn__n_neighbors']}\")"
   ]
  },
  {
   "cell_type": "markdown",
   "id": "5aad941c-8013-4638-8764-417596db4a8b",
   "metadata": {},
   "source": [
    "We see that best model has $5$ neighbors"
   ]
  },
  {
   "cell_type": "markdown",
   "id": "3285216b-8479-48b0-8439-668535a8d176",
   "metadata": {},
   "source": [
    "Find the accuracy of the grid search best model on the test set. Note: It is possible that this will not be an improvement over the default model, but likely it will be."
   ]
  },
  {
   "cell_type": "code",
   "execution_count": 28,
   "id": "c0ffd75f-f84e-4a7c-b36b-ab8149407d54",
   "metadata": {},
   "outputs": [],
   "source": [
    "#predict loan status for test set using the best KNN classifier\n",
    "predicted_best_model_target_test = best_model.predict(features_test)"
   ]
  },
  {
   "cell_type": "code",
   "execution_count": 29,
   "id": "df5bbcb1-8baf-4305-bcba-279fe7ff7c2b",
   "metadata": {},
   "outputs": [
    {
     "name": "stdout",
     "output_type": "stream",
     "text": [
      "Accuracy: 0.7291666666666666\n"
     ]
    }
   ],
   "source": [
    "# calculate accuracy for test set using best KNN classifier\n",
    "print(f\"Accuracy: {accuracy_score(target_test, predicted_best_model_target_test)}\")"
   ]
  },
  {
   "cell_type": "markdown",
   "id": "ea9fe3ea-0340-44d6-8375-5631caf57adf",
   "metadata": {},
   "source": [
    "The accuracy is still $0.73$. So, there is no improvement in accuracy over the default model.  "
   ]
  },
  {
   "cell_type": "markdown",
   "id": "c7e1c721-b506-4f30-bffc-4ac9b5ef76a9",
   "metadata": {},
   "source": [
    "Now, repeat steps 6 and 7 with the same pipeline, but expand your search space to include logistic regression and random forest models with the hyperparameter values in section 12.3 of the Machine Learning with Python Cookbook."
   ]
  },
  {
   "cell_type": "code",
   "execution_count": 30,
   "id": "924a4d4c-d22c-43ea-a975-08a7cdf06372",
   "metadata": {},
   "outputs": [],
   "source": [
    "# define model objects\n",
    "logistic = LogisticRegression(max_iter=500, solver=\"liblinear\")\n",
    "random_forest = RandomForestClassifier()\n",
    "knn = KNeighborsClassifier()"
   ]
  },
  {
   "cell_type": "code",
   "execution_count": 31,
   "id": "95630357-5274-43e4-b048-a4fc9e839950",
   "metadata": {},
   "outputs": [],
   "source": [
    "# define pipeline\n",
    "pipe_multiple = Pipeline(\n",
    "    steps=[\n",
    "        (\"scaler\", scaler),\n",
    "        (\"classifier\", knn)\n",
    "    ]\n",
    ")   "
   ]
  },
  {
   "cell_type": "code",
   "execution_count": 32,
   "id": "1e121cf0-99f4-479d-90b0-8aa2931ffb98",
   "metadata": {},
   "outputs": [],
   "source": [
    "# set hyperparameters search space for all the classifiers\n",
    "hyperparameters_search_space = [\n",
    "    {\n",
    "        \"classifier\": [knn],\n",
    "        \"classifier__n_neighbors\": [i for i in range(1,11)]\n",
    "    },\n",
    "    {\n",
    "        \"classifier\": [logistic],\n",
    "        \"classifier__penalty\": [\"l1\", \"l2\"],\n",
    "        \"classifier__C\": np.logspace(0,4,10)\n",
    "    },\n",
    "    {\n",
    "        \"classifier\": [random_forest],\n",
    "        \"classifier__n_estimators\": [10,100,1000],\n",
    "        \"classifier__max_features\": [1,2,3]\n",
    "    }\n",
    "]\n"
   ]
  },
  {
   "cell_type": "code",
   "execution_count": 33,
   "id": "76c016c4-4dce-426f-99ed-3434f91fa353",
   "metadata": {},
   "outputs": [],
   "source": [
    "# set up grid search for above hyperparameters\n",
    "gcv_multiple = GridSearchCV(\n",
    "    pipe_multiple,\n",
    "    hyperparameters_search_space,\n",
    "    cv=5,\n",
    "    verbose=1,\n",
    "    n_jobs=-1\n",
    ")"
   ]
  },
  {
   "cell_type": "code",
   "execution_count": 34,
   "id": "da68d844-bf1d-4cad-8e27-af9c8c2225ff",
   "metadata": {},
   "outputs": [
    {
     "name": "stdout",
     "output_type": "stream",
     "text": [
      "Fitting 5 folds for each of 39 candidates, totalling 195 fits\n"
     ]
    }
   ],
   "source": [
    "# fit the grid search\n",
    "best_model_multiple = gcv_multiple.fit(features_train, target_train)"
   ]
  },
  {
   "cell_type": "markdown",
   "id": "1ef4e597-25a3-4ec8-b755-1dd4458c6421",
   "metadata": {},
   "source": [
    "What are the best model and hyperparameters found in the grid search? Find the accuracy of this model on the test set."
   ]
  },
  {
   "cell_type": "code",
   "execution_count": 35,
   "id": "708e0abb-705e-4a13-811c-f654a54ae651",
   "metadata": {},
   "outputs": [
    {
     "name": "stdout",
     "output_type": "stream",
     "text": [
      "{'classifier': LogisticRegression(max_iter=500, solver='liblinear'), 'classifier__C': 1.0, 'classifier__penalty': 'l1'}\n"
     ]
    },
    {
     "data": {
      "text/plain": [
       "{'memory': None,\n",
       " 'steps': [('scaler', MinMaxScaler()),\n",
       "  ('classifier',\n",
       "   LogisticRegression(max_iter=500, penalty='l1', solver='liblinear'))],\n",
       " 'verbose': False,\n",
       " 'scaler': MinMaxScaler(),\n",
       " 'classifier': LogisticRegression(max_iter=500, penalty='l1', solver='liblinear'),\n",
       " 'scaler__clip': False,\n",
       " 'scaler__copy': True,\n",
       " 'scaler__feature_range': (0, 1),\n",
       " 'classifier__C': 1.0,\n",
       " 'classifier__class_weight': None,\n",
       " 'classifier__dual': False,\n",
       " 'classifier__fit_intercept': True,\n",
       " 'classifier__intercept_scaling': 1,\n",
       " 'classifier__l1_ratio': None,\n",
       " 'classifier__max_iter': 500,\n",
       " 'classifier__multi_class': 'auto',\n",
       " 'classifier__n_jobs': None,\n",
       " 'classifier__penalty': 'l1',\n",
       " 'classifier__random_state': None,\n",
       " 'classifier__solver': 'liblinear',\n",
       " 'classifier__tol': 0.0001,\n",
       " 'classifier__verbose': 0,\n",
       " 'classifier__warm_start': False}"
      ]
     },
     "execution_count": 35,
     "metadata": {},
     "output_type": "execute_result"
    }
   ],
   "source": [
    "#show best model parameters\n",
    "print(best_model_multiple.best_params_)\n",
    "best_model_multiple.best_estimator_.get_params()"
   ]
  },
  {
   "cell_type": "code",
   "execution_count": 36,
   "id": "6099e74a-f9a8-4ccd-ba8b-98178c4add4d",
   "metadata": {},
   "outputs": [],
   "source": [
    "#predict loan status for test set using best model \n",
    "predicted_logistic_target_test = best_model_multiple.predict(features_test)"
   ]
  },
  {
   "cell_type": "code",
   "execution_count": 37,
   "id": "d699f340-ebae-4a9b-9d5f-01641715aac6",
   "metadata": {},
   "outputs": [
    {
     "name": "stdout",
     "output_type": "stream",
     "text": [
      "Accuracy: 0.7395833333333334\n"
     ]
    }
   ],
   "source": [
    "# calculate accuracy for test set a default KNN classifier\n",
    "print(f\"Accuracy: {accuracy_score(target_test, predicted_logistic_target_test)}\")"
   ]
  },
  {
   "cell_type": "markdown",
   "id": "44ece157-3be4-4634-951a-69e250b6edc1",
   "metadata": {},
   "source": [
    "Best model found is _Logistic Regression_ which yeilded an accuracy of $0.74$"
   ]
  },
  {
   "cell_type": "markdown",
   "id": "a0397502-6416-4a7a-a41e-fc413972a023",
   "metadata": {},
   "source": [
    "### Summary"
   ]
  },
  {
   "cell_type": "markdown",
   "id": "681ffab9-c28d-47f8-8bb7-7c761896b298",
   "metadata": {},
   "source": [
    "We observed that the accuracy of the _default_ KNN classifier is $0.73$. We used grid search approach to identify the best `n_neighbors` value to use with KNN classifier on this loan approval dataset. The grid search yeilded that $5$ neighbors generates best performce of the KNN classifier.  KNN classifier using $5$ neighbors achieved an accuracy of  $0.73$. Therefore, _no improvement_ in _accuracy_ was achieved when using _$5$ neighbors in KNN classifier over the default KNN classifier_.\n",
    "\n",
    "Grid search was expanded to include Logistic Regression and Random Forest classifier along with KNN classifier to identify the best performing model along with its hyperparameters. The results showed that Logistic Regression classifier was identified as the best model, yeilding an accuracy of $0.74$ with hyper parameter `penalty=l1` and `C=1.0`. There is _no significant increase_ in _accuracy_ (just $1$%) for the selected Logistic Regression classifier over the default and $5$ neighbors KNN classifer models."
   ]
  },
  {
   "cell_type": "code",
   "execution_count": null,
   "id": "6a344781-e487-4baf-aa96-50ed861a5232",
   "metadata": {},
   "outputs": [],
   "source": []
  }
 ],
 "metadata": {
  "kernelspec": {
   "display_name": "Python 3 (ipykernel)",
   "language": "python",
   "name": "python3"
  },
  "language_info": {
   "codemirror_mode": {
    "name": "ipython",
    "version": 3
   },
   "file_extension": ".py",
   "mimetype": "text/x-python",
   "name": "python",
   "nbconvert_exporter": "python",
   "pygments_lexer": "ipython3",
   "version": "3.11.4"
  }
 },
 "nbformat": 4,
 "nbformat_minor": 5
}
