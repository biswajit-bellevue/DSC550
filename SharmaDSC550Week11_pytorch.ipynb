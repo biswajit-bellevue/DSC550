{
 "cells": [
  {
   "cell_type": "markdown",
   "id": "d636973d-c27d-493e-8a27-d532bff1d90c",
   "metadata": {},
   "source": [
    "## Assignment Week 11 - Biswajit Sharma"
   ]
  },
  {
   "cell_type": "markdown",
   "id": "20d4b374-45a0-4676-a8c9-db16b182c84f",
   "metadata": {},
   "source": [
    "Load the MNIST data set."
   ]
  },
  {
   "cell_type": "code",
   "execution_count": 1,
   "id": "192ad05b-9f6a-487c-936c-11cd2c15be0d",
   "metadata": {},
   "outputs": [],
   "source": [
    "# import modules\n",
    "\n",
    "import numpy as np\n",
    "import torch\n",
    "import torch.optim as optim\n",
    "from torchvision import datasets, transforms"
   ]
  },
  {
   "cell_type": "code",
   "execution_count": 2,
   "id": "5bfc13b9-5231-4b0d-ba43-fa2b82d7a985",
   "metadata": {},
   "outputs": [],
   "source": [
    "import torch._dynamo\n",
    "torch._dynamo.config.suppress_errors = True"
   ]
  },
  {
   "cell_type": "code",
   "execution_count": 3,
   "id": "a5e3bef1-2537-4e4b-8134-fbdc9c612224",
   "metadata": {},
   "outputs": [],
   "source": [
    "# set device\n",
    "device = torch.device(\"cuda\" if torch.cuda.is_available() else \"cpu\")"
   ]
  },
  {
   "cell_type": "code",
   "execution_count": 4,
   "id": "0e51e637-7e5d-477d-9b94-596675559880",
   "metadata": {},
   "outputs": [],
   "source": [
    "# data precossing steps\n",
    "transform = transforms.Compose(\n",
    "    [transforms.ToTensor(),\n",
    "    transforms.Normalize((0.1307,), (0.3081,))]\n",
    ")"
   ]
  },
  {
   "cell_type": "markdown",
   "id": "95bb02e7-1b70-4786-8677-147125779ccb",
   "metadata": {},
   "source": [
    "Display the first five images in the training data set (see section 8.1 in the Machine Learning with Python Cookbook). Compare these to the first five training labels."
   ]
  },
  {
   "cell_type": "code",
   "execution_count": 5,
   "id": "d460f1a5-c558-44a3-913f-20a26e8dc0ea",
   "metadata": {},
   "outputs": [],
   "source": [
    "# Load the MNIST dataset\n",
    "train_dataset = datasets.MNIST(\"./data\", train=True, download=True, transform=transform)\n",
    "test_dataset = datasets.MNIST(\"./data\", train=False, download=True, transform=transform)"
   ]
  },
  {
   "cell_type": "markdown",
   "id": "d73ff916-28f7-42e2-ac92-0d7c3eb15c33",
   "metadata": {},
   "source": [
    "Build and train a Keras CNN classifier on the MNIST training set."
   ]
  },
  {
   "cell_type": "code",
   "execution_count": 6,
   "id": "b404d62e-86fd-46eb-9e95-d08a2f4c5ed3",
   "metadata": {},
   "outputs": [],
   "source": [
    "##The book refers to Pytorch CNN classifier but assignment refers to keras, ask professor"
   ]
  },
  {
   "cell_type": "code",
   "execution_count": 7,
   "id": "fb8be993-a43b-44c4-9edc-cd435ee00e1f",
   "metadata": {},
   "outputs": [],
   "source": [
    "# define CNN layeers\n",
    "class ConvNet(torch.nn.Module):\n",
    "    def __init__(self):\n",
    "        super(ConvNet, self).__init__()\n",
    "        self.conv1 = torch.nn.Conv2d(1, 32, kernel_size=3, padding=1)\n",
    "        self.conv2 = torch.nn.Conv2d(32, 64, kernel_size=3, padding=1)\n",
    "        self.dropout1 = torch.nn.Dropout(0.25)\n",
    "        self.dropout2 = torch.nn.Dropout(0.5)\n",
    "        self.fc1 = torch.nn.Linear(64 * 14 * 14, 128)\n",
    "        self.fc2 = torch.nn.Linear(128, 10)\n",
    "    def forward(self, x):\n",
    "        x = torch.nn.functional.relu(self.conv1(x))\n",
    "        x = torch.nn.functional.relu(self.conv2(x))\n",
    "        x = torch.nn.functional.max_pool2d(self.dropout1(x), 2)\n",
    "        x = torch.flatten(x, 1)\n",
    "        x = torch.nn.functional.relu(self.fc1(self.dropout2(x)))\n",
    "        x = self.fc2(x)\n",
    "        return torch.nn.functional.log_softmax(x, dim=1)"
   ]
  },
  {
   "cell_type": "code",
   "execution_count": 8,
   "id": "06a75234-7540-48c3-9107-66dbf3dbc5c0",
   "metadata": {},
   "outputs": [],
   "source": [
    "#create data loaders\n",
    "BATCH_SIZE = 64\n",
    "train_loader = torch.utils.data.DataLoader(train_dataset, batch_size=BATCH_SIZE, shuffle=True)\n",
    "test_loader = torch.utils.data.DataLoader(test_dataset, batch_size=BATCH_SIZE, shuffle=True)"
   ]
  },
  {
   "cell_type": "code",
   "execution_count": 9,
   "id": "9c36343e-dadc-4d67-97fb-526b46bb9f12",
   "metadata": {},
   "outputs": [],
   "source": [
    "#initialize model\n",
    "model = ConvNet().to(device)"
   ]
  },
  {
   "cell_type": "code",
   "execution_count": 10,
   "id": "6fd812b1-003a-49dd-9e92-0bb52fbb00fe",
   "metadata": {},
   "outputs": [],
   "source": [
    "#initialize the optimizer\n",
    "optimizer = optim.Adam(model.parameters())"
   ]
  },
  {
   "cell_type": "code",
   "execution_count": 11,
   "id": "19815b92-215c-4b92-9a57-8b60e16d2d42",
   "metadata": {},
   "outputs": [],
   "source": [
    "#compile the model\n",
    "model = torch.compile(model)"
   ]
  },
  {
   "cell_type": "code",
   "execution_count": 12,
   "id": "da36a1da-2a43-4211-8b1a-c38511b016ed",
   "metadata": {},
   "outputs": [
    {
     "name": "stderr",
     "output_type": "stream",
     "text": [
      "W0515 13:43:11.490000 28088 torch\\_dynamo\\convert_frame.py:824] WON'T CONVERT forward C:\\Users\\babub\\AppData\\Local\\Temp\\ipykernel_15376\\707421746.py line 11 \n",
      "W0515 13:43:11.490000 28088 torch\\_dynamo\\convert_frame.py:824] due to: \n",
      "W0515 13:43:11.490000 28088 torch\\_dynamo\\convert_frame.py:824] Traceback (most recent call last):\n",
      "W0515 13:43:11.490000 28088 torch\\_dynamo\\convert_frame.py:824]   File \"C:\\Users\\babub\\Documents\\python\\pydata-book\\Lib\\site-packages\\torch\\_dynamo\\convert_frame.py\", line 786, in _convert_frame\n",
      "W0515 13:43:11.490000 28088 torch\\_dynamo\\convert_frame.py:824]     result = inner_convert(\n",
      "W0515 13:43:11.490000 28088 torch\\_dynamo\\convert_frame.py:824]              ^^^^^^^^^^^^^^\n",
      "W0515 13:43:11.490000 28088 torch\\_dynamo\\convert_frame.py:824]   File \"C:\\Users\\babub\\Documents\\python\\pydata-book\\Lib\\site-packages\\torch\\_dynamo\\convert_frame.py\", line 400, in _convert_frame_assert\n",
      "W0515 13:43:11.490000 28088 torch\\_dynamo\\convert_frame.py:824]     return _compile(\n",
      "W0515 13:43:11.490000 28088 torch\\_dynamo\\convert_frame.py:824]            ^^^^^^^^^\n",
      "W0515 13:43:11.490000 28088 torch\\_dynamo\\convert_frame.py:824]   File \"C:\\Users\\babub\\AppData\\Local\\Programs\\Python\\Python311\\Lib\\contextlib.py\", line 81, in inner\n",
      "W0515 13:43:11.490000 28088 torch\\_dynamo\\convert_frame.py:824]     return func(*args, **kwds)\n",
      "W0515 13:43:11.490000 28088 torch\\_dynamo\\convert_frame.py:824]            ^^^^^^^^^^^^^^^^^^^\n",
      "W0515 13:43:11.490000 28088 torch\\_dynamo\\convert_frame.py:824]   File \"C:\\Users\\babub\\Documents\\python\\pydata-book\\Lib\\site-packages\\torch\\_dynamo\\convert_frame.py\", line 676, in _compile\n",
      "W0515 13:43:11.490000 28088 torch\\_dynamo\\convert_frame.py:824]     guarded_code = compile_inner(code, one_graph, hooks, transform)\n",
      "W0515 13:43:11.490000 28088 torch\\_dynamo\\convert_frame.py:824]                    ^^^^^^^^^^^^^^^^^^^^^^^^^^^^^^^^^^^^^^^^^^^^^^^^\n",
      "W0515 13:43:11.490000 28088 torch\\_dynamo\\convert_frame.py:824]   File \"C:\\Users\\babub\\Documents\\python\\pydata-book\\Lib\\site-packages\\torch\\_dynamo\\utils.py\", line 262, in time_wrapper\n",
      "W0515 13:43:11.490000 28088 torch\\_dynamo\\convert_frame.py:824]     r = func(*args, **kwargs)\n",
      "W0515 13:43:11.490000 28088 torch\\_dynamo\\convert_frame.py:824]         ^^^^^^^^^^^^^^^^^^^^^\n",
      "W0515 13:43:11.490000 28088 torch\\_dynamo\\convert_frame.py:824]   File \"C:\\Users\\babub\\Documents\\python\\pydata-book\\Lib\\site-packages\\torch\\_dynamo\\convert_frame.py\", line 535, in compile_inner\n",
      "W0515 13:43:11.490000 28088 torch\\_dynamo\\convert_frame.py:824]     out_code = transform_code_object(code, transform)\n",
      "W0515 13:43:11.490000 28088 torch\\_dynamo\\convert_frame.py:824]                ^^^^^^^^^^^^^^^^^^^^^^^^^^^^^^^^^^^^^^\n",
      "W0515 13:43:11.490000 28088 torch\\_dynamo\\convert_frame.py:824]   File \"C:\\Users\\babub\\Documents\\python\\pydata-book\\Lib\\site-packages\\torch\\_dynamo\\bytecode_transformation.py\", line 1036, in transform_code_object\n",
      "W0515 13:43:11.490000 28088 torch\\_dynamo\\convert_frame.py:824]     transformations(instructions, code_options)\n",
      "W0515 13:43:11.490000 28088 torch\\_dynamo\\convert_frame.py:824]   File \"C:\\Users\\babub\\Documents\\python\\pydata-book\\Lib\\site-packages\\torch\\_dynamo\\convert_frame.py\", line 165, in _fn\n",
      "W0515 13:43:11.490000 28088 torch\\_dynamo\\convert_frame.py:824]     return fn(*args, **kwargs)\n",
      "W0515 13:43:11.490000 28088 torch\\_dynamo\\convert_frame.py:824]            ^^^^^^^^^^^^^^^^^^^\n",
      "W0515 13:43:11.490000 28088 torch\\_dynamo\\convert_frame.py:824]   File \"C:\\Users\\babub\\Documents\\python\\pydata-book\\Lib\\site-packages\\torch\\_dynamo\\convert_frame.py\", line 500, in transform\n",
      "W0515 13:43:11.490000 28088 torch\\_dynamo\\convert_frame.py:824]     tracer.run()\n",
      "W0515 13:43:11.490000 28088 torch\\_dynamo\\convert_frame.py:824]   File \"C:\\Users\\babub\\Documents\\python\\pydata-book\\Lib\\site-packages\\torch\\_dynamo\\symbolic_convert.py\", line 2149, in run\n",
      "W0515 13:43:11.490000 28088 torch\\_dynamo\\convert_frame.py:824]     super().run()\n",
      "W0515 13:43:11.490000 28088 torch\\_dynamo\\convert_frame.py:824]   File \"C:\\Users\\babub\\Documents\\python\\pydata-book\\Lib\\site-packages\\torch\\_dynamo\\symbolic_convert.py\", line 810, in run\n",
      "W0515 13:43:11.490000 28088 torch\\_dynamo\\convert_frame.py:824]     and self.step()\n",
      "W0515 13:43:11.490000 28088 torch\\_dynamo\\convert_frame.py:824]         ^^^^^^^^^^^\n",
      "W0515 13:43:11.490000 28088 torch\\_dynamo\\convert_frame.py:824]   File \"C:\\Users\\babub\\Documents\\python\\pydata-book\\Lib\\site-packages\\torch\\_dynamo\\symbolic_convert.py\", line 773, in step\n",
      "W0515 13:43:11.490000 28088 torch\\_dynamo\\convert_frame.py:824]     getattr(self, inst.opname)(inst)\n",
      "W0515 13:43:11.490000 28088 torch\\_dynamo\\convert_frame.py:824]   File \"C:\\Users\\babub\\Documents\\python\\pydata-book\\Lib\\site-packages\\torch\\_dynamo\\symbolic_convert.py\", line 2268, in RETURN_VALUE\n",
      "W0515 13:43:11.490000 28088 torch\\_dynamo\\convert_frame.py:824]     self.output.compile_subgraph(\n",
      "W0515 13:43:11.490000 28088 torch\\_dynamo\\convert_frame.py:824]   File \"C:\\Users\\babub\\Documents\\python\\pydata-book\\Lib\\site-packages\\torch\\_dynamo\\output_graph.py\", line 971, in compile_subgraph\n",
      "W0515 13:43:11.490000 28088 torch\\_dynamo\\convert_frame.py:824]     self.compile_and_call_fx_graph(tx, list(reversed(stack_values)), root)\n",
      "W0515 13:43:11.490000 28088 torch\\_dynamo\\convert_frame.py:824]   File \"C:\\Users\\babub\\AppData\\Local\\Programs\\Python\\Python311\\Lib\\contextlib.py\", line 81, in inner\n",
      "W0515 13:43:11.490000 28088 torch\\_dynamo\\convert_frame.py:824]     return func(*args, **kwds)\n",
      "W0515 13:43:11.490000 28088 torch\\_dynamo\\convert_frame.py:824]            ^^^^^^^^^^^^^^^^^^^\n",
      "W0515 13:43:11.490000 28088 torch\\_dynamo\\convert_frame.py:824]   File \"C:\\Users\\babub\\Documents\\python\\pydata-book\\Lib\\site-packages\\torch\\_dynamo\\output_graph.py\", line 1168, in compile_and_call_fx_graph\n",
      "W0515 13:43:11.490000 28088 torch\\_dynamo\\convert_frame.py:824]     compiled_fn = self.call_user_compiler(gm)\n",
      "W0515 13:43:11.490000 28088 torch\\_dynamo\\convert_frame.py:824]                   ^^^^^^^^^^^^^^^^^^^^^^^^^^^\n",
      "W0515 13:43:11.490000 28088 torch\\_dynamo\\convert_frame.py:824]   File \"C:\\Users\\babub\\Documents\\python\\pydata-book\\Lib\\site-packages\\torch\\_dynamo\\utils.py\", line 262, in time_wrapper\n",
      "W0515 13:43:11.490000 28088 torch\\_dynamo\\convert_frame.py:824]     r = func(*args, **kwargs)\n",
      "W0515 13:43:11.490000 28088 torch\\_dynamo\\convert_frame.py:824]         ^^^^^^^^^^^^^^^^^^^^^\n",
      "W0515 13:43:11.490000 28088 torch\\_dynamo\\convert_frame.py:824]   File \"C:\\Users\\babub\\Documents\\python\\pydata-book\\Lib\\site-packages\\torch\\_dynamo\\output_graph.py\", line 1241, in call_user_compiler\n",
      "W0515 13:43:11.490000 28088 torch\\_dynamo\\convert_frame.py:824]     raise BackendCompilerFailed(self.compiler_fn, e).with_traceback(\n",
      "W0515 13:43:11.490000 28088 torch\\_dynamo\\convert_frame.py:824]   File \"C:\\Users\\babub\\Documents\\python\\pydata-book\\Lib\\site-packages\\torch\\_dynamo\\output_graph.py\", line 1222, in call_user_compiler\n",
      "W0515 13:43:11.490000 28088 torch\\_dynamo\\convert_frame.py:824]     compiled_fn = compiler_fn(gm, self.example_inputs())\n",
      "W0515 13:43:11.490000 28088 torch\\_dynamo\\convert_frame.py:824]                   ^^^^^^^^^^^^^^^^^^^^^^^^^^^^^^^^^^^^^^\n",
      "W0515 13:43:11.490000 28088 torch\\_dynamo\\convert_frame.py:824]   File \"C:\\Users\\babub\\Documents\\python\\pydata-book\\Lib\\site-packages\\torch\\_dynamo\\repro\\after_dynamo.py\", line 117, in debug_wrapper\n",
      "W0515 13:43:11.490000 28088 torch\\_dynamo\\convert_frame.py:824]     compiled_gm = compiler_fn(gm, example_inputs)\n",
      "W0515 13:43:11.490000 28088 torch\\_dynamo\\convert_frame.py:824]                   ^^^^^^^^^^^^^^^^^^^^^^^^^^^^^^^\n",
      "W0515 13:43:11.490000 28088 torch\\_dynamo\\convert_frame.py:824]   File \"C:\\Users\\babub\\Documents\\python\\pydata-book\\Lib\\site-packages\\torch\\__init__.py\", line 1729, in __call__\n",
      "W0515 13:43:11.490000 28088 torch\\_dynamo\\convert_frame.py:824]     return compile_fx(model_, inputs_, config_patches=self.config)\n",
      "W0515 13:43:11.490000 28088 torch\\_dynamo\\convert_frame.py:824]            ^^^^^^^^^^^^^^^^^^^^^^^^^^^^^^^^^^^^^^^^^^^^^^^^^^^^^^^\n",
      "W0515 13:43:11.490000 28088 torch\\_dynamo\\convert_frame.py:824]   File \"C:\\Users\\babub\\AppData\\Local\\Programs\\Python\\Python311\\Lib\\contextlib.py\", line 81, in inner\n",
      "W0515 13:43:11.490000 28088 torch\\_dynamo\\convert_frame.py:824]     return func(*args, **kwds)\n",
      "W0515 13:43:11.490000 28088 torch\\_dynamo\\convert_frame.py:824]            ^^^^^^^^^^^^^^^^^^^\n",
      "W0515 13:43:11.490000 28088 torch\\_dynamo\\convert_frame.py:824]   File \"C:\\Users\\babub\\Documents\\python\\pydata-book\\Lib\\site-packages\\torch\\_inductor\\compile_fx.py\", line 1330, in compile_fx\n",
      "W0515 13:43:11.490000 28088 torch\\_dynamo\\convert_frame.py:824]     return aot_autograd(\n",
      "W0515 13:43:11.490000 28088 torch\\_dynamo\\convert_frame.py:824]            ^^^^^^^^^^^^^\n",
      "W0515 13:43:11.490000 28088 torch\\_dynamo\\convert_frame.py:824]   File \"C:\\Users\\babub\\Documents\\python\\pydata-book\\Lib\\site-packages\\torch\\_dynamo\\backends\\common.py\", line 58, in compiler_fn\n",
      "W0515 13:43:11.490000 28088 torch\\_dynamo\\convert_frame.py:824]     cg = aot_module_simplified(gm, example_inputs, **kwargs)\n",
      "W0515 13:43:11.490000 28088 torch\\_dynamo\\convert_frame.py:824]          ^^^^^^^^^^^^^^^^^^^^^^^^^^^^^^^^^^^^^^^^^^^^^^^^^^^\n",
      "W0515 13:43:11.490000 28088 torch\\_dynamo\\convert_frame.py:824]   File \"C:\\Users\\babub\\Documents\\python\\pydata-book\\Lib\\site-packages\\torch\\_functorch\\aot_autograd.py\", line 903, in aot_module_simplified\n",
      "W0515 13:43:11.490000 28088 torch\\_dynamo\\convert_frame.py:824]     compiled_fn = create_aot_dispatcher_function(\n",
      "W0515 13:43:11.490000 28088 torch\\_dynamo\\convert_frame.py:824]                   ^^^^^^^^^^^^^^^^^^^^^^^^^^^^^^^\n",
      "W0515 13:43:11.490000 28088 torch\\_dynamo\\convert_frame.py:824]   File \"C:\\Users\\babub\\Documents\\python\\pydata-book\\Lib\\site-packages\\torch\\_dynamo\\utils.py\", line 262, in time_wrapper\n",
      "W0515 13:43:11.490000 28088 torch\\_dynamo\\convert_frame.py:824]     r = func(*args, **kwargs)\n",
      "W0515 13:43:11.490000 28088 torch\\_dynamo\\convert_frame.py:824]         ^^^^^^^^^^^^^^^^^^^^^\n",
      "W0515 13:43:11.490000 28088 torch\\_dynamo\\convert_frame.py:824]   File \"C:\\Users\\babub\\Documents\\python\\pydata-book\\Lib\\site-packages\\torch\\_functorch\\aot_autograd.py\", line 628, in create_aot_dispatcher_function\n",
      "W0515 13:43:11.490000 28088 torch\\_dynamo\\convert_frame.py:824]     compiled_fn = compiler_fn(flat_fn, fake_flat_args, aot_config, fw_metadata=fw_metadata)\n",
      "W0515 13:43:11.490000 28088 torch\\_dynamo\\convert_frame.py:824]                   ^^^^^^^^^^^^^^^^^^^^^^^^^^^^^^^^^^^^^^^^^^^^^^^^^^^^^^^^^^^^^^^^^^^^^^^^^\n",
      "W0515 13:43:11.490000 28088 torch\\_dynamo\\convert_frame.py:824]   File \"C:\\Users\\babub\\Documents\\python\\pydata-book\\Lib\\site-packages\\torch\\_functorch\\_aot_autograd\\runtime_wrappers.py\", line 443, in aot_wrapper_dedupe\n",
      "W0515 13:43:11.490000 28088 torch\\_dynamo\\convert_frame.py:824]     return compiler_fn(flat_fn, leaf_flat_args, aot_config, fw_metadata=fw_metadata)\n",
      "W0515 13:43:11.490000 28088 torch\\_dynamo\\convert_frame.py:824]            ^^^^^^^^^^^^^^^^^^^^^^^^^^^^^^^^^^^^^^^^^^^^^^^^^^^^^^^^^^^^^^^^^^^^^^^^^\n",
      "W0515 13:43:11.490000 28088 torch\\_dynamo\\convert_frame.py:824]   File \"C:\\Users\\babub\\Documents\\python\\pydata-book\\Lib\\site-packages\\torch\\_functorch\\_aot_autograd\\runtime_wrappers.py\", line 648, in aot_wrapper_synthetic_base\n",
      "W0515 13:43:11.490000 28088 torch\\_dynamo\\convert_frame.py:824]     return compiler_fn(flat_fn, flat_args, aot_config, fw_metadata=fw_metadata)\n",
      "W0515 13:43:11.490000 28088 torch\\_dynamo\\convert_frame.py:824]            ^^^^^^^^^^^^^^^^^^^^^^^^^^^^^^^^^^^^^^^^^^^^^^^^^^^^^^^^^^^^^^^^^^^^\n",
      "W0515 13:43:11.490000 28088 torch\\_dynamo\\convert_frame.py:824]   File \"C:\\Users\\babub\\Documents\\python\\pydata-book\\Lib\\site-packages\\torch\\_functorch\\_aot_autograd\\jit_compile_runtime_wrappers.py\", line 352, in aot_dispatch_autograd\n",
      "W0515 13:43:11.490000 28088 torch\\_dynamo\\convert_frame.py:824]     compiled_fw_func = aot_config.fw_compiler(fw_module, adjusted_flat_args)\n",
      "W0515 13:43:11.490000 28088 torch\\_dynamo\\convert_frame.py:824]                        ^^^^^^^^^^^^^^^^^^^^^^^^^^^^^^^^^^^^^^^^^^^^^^^^^^^^^\n",
      "W0515 13:43:11.490000 28088 torch\\_dynamo\\convert_frame.py:824]   File \"C:\\Users\\babub\\Documents\\python\\pydata-book\\Lib\\site-packages\\torch\\_dynamo\\utils.py\", line 262, in time_wrapper\n",
      "W0515 13:43:11.490000 28088 torch\\_dynamo\\convert_frame.py:824]     r = func(*args, **kwargs)\n",
      "W0515 13:43:11.490000 28088 torch\\_dynamo\\convert_frame.py:824]         ^^^^^^^^^^^^^^^^^^^^^\n",
      "W0515 13:43:11.490000 28088 torch\\_dynamo\\convert_frame.py:824]   File \"C:\\Users\\babub\\Documents\\python\\pydata-book\\Lib\\site-packages\\torch\\_inductor\\compile_fx.py\", line 1257, in fw_compiler_base\n",
      "W0515 13:43:11.490000 28088 torch\\_dynamo\\convert_frame.py:824]     return inner_compile(\n",
      "W0515 13:43:11.490000 28088 torch\\_dynamo\\convert_frame.py:824]            ^^^^^^^^^^^^^^\n",
      "W0515 13:43:11.490000 28088 torch\\_dynamo\\convert_frame.py:824]   File \"C:\\Users\\babub\\Documents\\python\\pydata-book\\Lib\\site-packages\\torch\\_dynamo\\repro\\after_aot.py\", line 83, in debug_wrapper\n",
      "W0515 13:43:11.490000 28088 torch\\_dynamo\\convert_frame.py:824]     inner_compiled_fn = compiler_fn(gm, example_inputs)\n",
      "W0515 13:43:11.490000 28088 torch\\_dynamo\\convert_frame.py:824]                         ^^^^^^^^^^^^^^^^^^^^^^^^^^^^^^^\n",
      "W0515 13:43:11.490000 28088 torch\\_dynamo\\convert_frame.py:824]   File \"C:\\Users\\babub\\Documents\\python\\pydata-book\\Lib\\site-packages\\torch\\_inductor\\debug.py\", line 304, in inner\n",
      "W0515 13:43:11.490000 28088 torch\\_dynamo\\convert_frame.py:824]     return fn(*args, **kwargs)\n",
      "W0515 13:43:11.490000 28088 torch\\_dynamo\\convert_frame.py:824]            ^^^^^^^^^^^^^^^^^^^\n",
      "W0515 13:43:11.490000 28088 torch\\_dynamo\\convert_frame.py:824]   File \"C:\\Users\\babub\\AppData\\Local\\Programs\\Python\\Python311\\Lib\\contextlib.py\", line 81, in inner\n",
      "W0515 13:43:11.490000 28088 torch\\_dynamo\\convert_frame.py:824]     return func(*args, **kwds)\n",
      "W0515 13:43:11.490000 28088 torch\\_dynamo\\convert_frame.py:824]            ^^^^^^^^^^^^^^^^^^^\n",
      "W0515 13:43:11.490000 28088 torch\\_dynamo\\convert_frame.py:824]   File \"C:\\Users\\babub\\AppData\\Local\\Programs\\Python\\Python311\\Lib\\contextlib.py\", line 81, in inner\n",
      "W0515 13:43:11.490000 28088 torch\\_dynamo\\convert_frame.py:824]     return func(*args, **kwds)\n",
      "W0515 13:43:11.490000 28088 torch\\_dynamo\\convert_frame.py:824]            ^^^^^^^^^^^^^^^^^^^\n",
      "W0515 13:43:11.490000 28088 torch\\_dynamo\\convert_frame.py:824]   File \"C:\\Users\\babub\\Documents\\python\\pydata-book\\Lib\\site-packages\\torch\\_dynamo\\utils.py\", line 262, in time_wrapper\n",
      "W0515 13:43:11.490000 28088 torch\\_dynamo\\convert_frame.py:824]     r = func(*args, **kwargs)\n",
      "W0515 13:43:11.490000 28088 torch\\_dynamo\\convert_frame.py:824]         ^^^^^^^^^^^^^^^^^^^^^\n",
      "W0515 13:43:11.490000 28088 torch\\_dynamo\\convert_frame.py:824]   File \"C:\\Users\\babub\\Documents\\python\\pydata-book\\Lib\\site-packages\\torch\\_inductor\\compile_fx.py\", line 438, in compile_fx_inner\n",
      "W0515 13:43:11.490000 28088 torch\\_dynamo\\convert_frame.py:824]     compiled_graph = fx_codegen_and_compile(\n",
      "W0515 13:43:11.490000 28088 torch\\_dynamo\\convert_frame.py:824]                      ^^^^^^^^^^^^^^^^^^^^^^^\n",
      "W0515 13:43:11.490000 28088 torch\\_dynamo\\convert_frame.py:824]   File \"C:\\Users\\babub\\Documents\\python\\pydata-book\\Lib\\site-packages\\torch\\_inductor\\compile_fx.py\", line 714, in fx_codegen_and_compile\n",
      "W0515 13:43:11.490000 28088 torch\\_dynamo\\convert_frame.py:824]     compiled_fn = graph.compile_to_fn()\n",
      "W0515 13:43:11.490000 28088 torch\\_dynamo\\convert_frame.py:824]                   ^^^^^^^^^^^^^^^^^^^^^\n",
      "W0515 13:43:11.490000 28088 torch\\_dynamo\\convert_frame.py:824]   File \"C:\\Users\\babub\\Documents\\python\\pydata-book\\Lib\\site-packages\\torch\\_inductor\\graph.py\", line 1307, in compile_to_fn\n",
      "W0515 13:43:11.490000 28088 torch\\_dynamo\\convert_frame.py:824]     return self.compile_to_module().call\n",
      "W0515 13:43:11.490000 28088 torch\\_dynamo\\convert_frame.py:824]            ^^^^^^^^^^^^^^^^^^^^^^^^\n",
      "W0515 13:43:11.490000 28088 torch\\_dynamo\\convert_frame.py:824]   File \"C:\\Users\\babub\\Documents\\python\\pydata-book\\Lib\\site-packages\\torch\\_dynamo\\utils.py\", line 262, in time_wrapper\n",
      "W0515 13:43:11.490000 28088 torch\\_dynamo\\convert_frame.py:824]     r = func(*args, **kwargs)\n",
      "W0515 13:43:11.490000 28088 torch\\_dynamo\\convert_frame.py:824]         ^^^^^^^^^^^^^^^^^^^^^\n",
      "W0515 13:43:11.490000 28088 torch\\_dynamo\\convert_frame.py:824]   File \"C:\\Users\\babub\\Documents\\python\\pydata-book\\Lib\\site-packages\\torch\\_inductor\\graph.py\", line 1250, in compile_to_module\n",
      "W0515 13:43:11.490000 28088 torch\\_dynamo\\convert_frame.py:824]     self.codegen_with_cpp_wrapper() if self.cpp_wrapper else self.codegen()\n",
      "W0515 13:43:11.490000 28088 torch\\_dynamo\\convert_frame.py:824]                                                              ^^^^^^^^^^^^^^\n",
      "W0515 13:43:11.490000 28088 torch\\_dynamo\\convert_frame.py:824]   File \"C:\\Users\\babub\\Documents\\python\\pydata-book\\Lib\\site-packages\\torch\\_inductor\\graph.py\", line 1208, in codegen\n",
      "W0515 13:43:11.490000 28088 torch\\_dynamo\\convert_frame.py:824]     self.scheduler.codegen()\n",
      "W0515 13:43:11.490000 28088 torch\\_dynamo\\convert_frame.py:824]   File \"C:\\Users\\babub\\Documents\\python\\pydata-book\\Lib\\site-packages\\torch\\_dynamo\\utils.py\", line 262, in time_wrapper\n",
      "W0515 13:43:11.490000 28088 torch\\_dynamo\\convert_frame.py:824]     r = func(*args, **kwargs)\n",
      "W0515 13:43:11.490000 28088 torch\\_dynamo\\convert_frame.py:824]         ^^^^^^^^^^^^^^^^^^^^^\n",
      "W0515 13:43:11.490000 28088 torch\\_dynamo\\convert_frame.py:824]   File \"C:\\Users\\babub\\Documents\\python\\pydata-book\\Lib\\site-packages\\torch\\_inductor\\scheduler.py\", line 2339, in codegen\n",
      "W0515 13:43:11.490000 28088 torch\\_dynamo\\convert_frame.py:824]     self.get_backend(device).codegen_nodes(node.get_nodes())  # type: ignore[possibly-undefined]\n",
      "W0515 13:43:11.490000 28088 torch\\_dynamo\\convert_frame.py:824]     ^^^^^^^^^^^^^^^^^^^^^^^^^^^^^^^^^^^^^^^^^^^^^^^^^^^^^^^^\n",
      "W0515 13:43:11.490000 28088 torch\\_dynamo\\convert_frame.py:824]   File \"C:\\Users\\babub\\Documents\\python\\pydata-book\\Lib\\site-packages\\torch\\_inductor\\codegen\\cpp.py\", line 3623, in codegen_nodes\n",
      "W0515 13:43:11.490000 28088 torch\\_dynamo\\convert_frame.py:824]     kernel_group.finalize_kernel(cpp_kernel_proxy, nodes)\n",
      "W0515 13:43:11.490000 28088 torch\\_dynamo\\convert_frame.py:824]   File \"C:\\Users\\babub\\Documents\\python\\pydata-book\\Lib\\site-packages\\torch\\_inductor\\codegen\\cpp.py\", line 3661, in finalize_kernel\n",
      "W0515 13:43:11.490000 28088 torch\\_dynamo\\convert_frame.py:824]     new_kernel.codegen_loops(code, ws)\n",
      "W0515 13:43:11.490000 28088 torch\\_dynamo\\convert_frame.py:824]   File \"C:\\Users\\babub\\Documents\\python\\pydata-book\\Lib\\site-packages\\torch\\_inductor\\codegen\\cpp.py\", line 3458, in codegen_loops\n",
      "W0515 13:43:11.490000 28088 torch\\_dynamo\\convert_frame.py:824]     self.codegen_loops_impl(self.loop_nest, code, worksharing)\n",
      "W0515 13:43:11.490000 28088 torch\\_dynamo\\convert_frame.py:824]   File \"C:\\Users\\babub\\Documents\\python\\pydata-book\\Lib\\site-packages\\torch\\_inductor\\codegen\\cpp.py\", line 1832, in codegen_loops_impl\n",
      "W0515 13:43:11.490000 28088 torch\\_dynamo\\convert_frame.py:824]     gen_loops(loop_nest.root)\n",
      "W0515 13:43:11.490000 28088 torch\\_dynamo\\convert_frame.py:824]   File \"C:\\Users\\babub\\Documents\\python\\pydata-book\\Lib\\site-packages\\torch\\_inductor\\codegen\\cpp.py\", line 1804, in gen_loops\n",
      "W0515 13:43:11.490000 28088 torch\\_dynamo\\convert_frame.py:824]     gen_loop(loop, in_reduction)\n",
      "W0515 13:43:11.490000 28088 torch\\_dynamo\\convert_frame.py:824]   File \"C:\\Users\\babub\\Documents\\python\\pydata-book\\Lib\\site-packages\\torch\\_inductor\\codegen\\cpp.py\", line 1824, in gen_loop\n",
      "W0515 13:43:11.490000 28088 torch\\_dynamo\\convert_frame.py:824]     gen_loops(loop.inner, loop.is_reduction())\n",
      "W0515 13:43:11.490000 28088 torch\\_dynamo\\convert_frame.py:824]   File \"C:\\Users\\babub\\Documents\\python\\pydata-book\\Lib\\site-packages\\torch\\_inductor\\codegen\\cpp.py\", line 1804, in gen_loops\n",
      "W0515 13:43:11.490000 28088 torch\\_dynamo\\convert_frame.py:824]     gen_loop(loop, in_reduction)\n",
      "W0515 13:43:11.490000 28088 torch\\_dynamo\\convert_frame.py:824]   File \"C:\\Users\\babub\\Documents\\python\\pydata-book\\Lib\\site-packages\\torch\\_inductor\\codegen\\cpp.py\", line 1817, in gen_loop\n",
      "W0515 13:43:11.490000 28088 torch\\_dynamo\\convert_frame.py:824]     loop_lines = loop.lines()\n",
      "W0515 13:43:11.490000 28088 torch\\_dynamo\\convert_frame.py:824]                  ^^^^^^^^^^^^\n",
      "W0515 13:43:11.490000 28088 torch\\_dynamo\\convert_frame.py:824]   File \"C:\\Users\\babub\\Documents\\python\\pydata-book\\Lib\\site-packages\\torch\\_inductor\\codegen\\cpp.py\", line 3922, in lines\n",
      "W0515 13:43:11.490000 28088 torch\\_dynamo\\convert_frame.py:824]     elif not self.reduction_var_map and codecache.is_gcc():\n",
      "W0515 13:43:11.490000 28088 torch\\_dynamo\\convert_frame.py:824]                                         ^^^^^^^^^^^^^^^^^^\n",
      "W0515 13:43:11.490000 28088 torch\\_dynamo\\convert_frame.py:824]   File \"C:\\Users\\babub\\Documents\\python\\pydata-book\\Lib\\site-packages\\torch\\_inductor\\codecache.py\", line 1001, in is_gcc\n",
      "W0515 13:43:11.490000 28088 torch\\_dynamo\\convert_frame.py:824]     return bool(re.search(r\"(gcc|g\\+\\+)\", cpp_compiler()))\n",
      "W0515 13:43:11.490000 28088 torch\\_dynamo\\convert_frame.py:824]                                           ^^^^^^^^^^^^^^\n",
      "W0515 13:43:11.490000 28088 torch\\_dynamo\\convert_frame.py:824]   File \"C:\\Users\\babub\\Documents\\python\\pydata-book\\Lib\\site-packages\\torch\\_inductor\\codecache.py\", line 944, in cpp_compiler\n",
      "W0515 13:43:11.490000 28088 torch\\_dynamo\\convert_frame.py:824]     return cpp_compiler_search(search)\n",
      "W0515 13:43:11.490000 28088 torch\\_dynamo\\convert_frame.py:824]            ^^^^^^^^^^^^^^^^^^^^^^^^^^^\n",
      "W0515 13:43:11.490000 28088 torch\\_dynamo\\convert_frame.py:824]   File \"C:\\Users\\babub\\Documents\\python\\pydata-book\\Lib\\site-packages\\torch\\_inductor\\codecache.py\", line 971, in cpp_compiler_search\n",
      "W0515 13:43:11.490000 28088 torch\\_dynamo\\convert_frame.py:824]     raise exc.InvalidCxxCompiler()\n",
      "W0515 13:43:11.490000 28088 torch\\_dynamo\\convert_frame.py:824] torch._dynamo.exc.BackendCompilerFailed: backend='inductor' raised:\n",
      "W0515 13:43:11.490000 28088 torch\\_dynamo\\convert_frame.py:824] InvalidCxxCompiler: No working C++ compiler found in torch._inductor.config.cpp.cxx: (None, 'g++')\n",
      "W0515 13:43:11.490000 28088 torch\\_dynamo\\convert_frame.py:824] \n",
      "W0515 13:43:11.490000 28088 torch\\_dynamo\\convert_frame.py:824] Set TORCH_LOGS=\"+dynamo\" and TORCHDYNAMO_VERBOSE=1 for more information\n",
      "W0515 13:43:11.490000 28088 torch\\_dynamo\\convert_frame.py:824] \n",
      "W0515 13:43:11.490000 28088 torch\\_dynamo\\convert_frame.py:824] Traceback (most recent call last):\n",
      "W0515 13:43:11.490000 28088 torch\\_dynamo\\convert_frame.py:824]   File \"C:\\Users\\babub\\Documents\\python\\pydata-book\\Lib\\site-packages\\torch\\_dynamo\\convert_frame.py\", line 786, in _convert_frame\n",
      "W0515 13:43:11.490000 28088 torch\\_dynamo\\convert_frame.py:824]     result = inner_convert(\n",
      "W0515 13:43:11.490000 28088 torch\\_dynamo\\convert_frame.py:824]              ^^^^^^^^^^^^^^\n",
      "W0515 13:43:11.490000 28088 torch\\_dynamo\\convert_frame.py:824]   File \"C:\\Users\\babub\\Documents\\python\\pydata-book\\Lib\\site-packages\\torch\\_dynamo\\convert_frame.py\", line 400, in _convert_frame_assert\n",
      "W0515 13:43:11.490000 28088 torch\\_dynamo\\convert_frame.py:824]     return _compile(\n",
      "W0515 13:43:11.490000 28088 torch\\_dynamo\\convert_frame.py:824]            ^^^^^^^^^\n",
      "W0515 13:43:11.490000 28088 torch\\_dynamo\\convert_frame.py:824]   File \"C:\\Users\\babub\\AppData\\Local\\Programs\\Python\\Python311\\Lib\\contextlib.py\", line 81, in inner\n",
      "W0515 13:43:11.490000 28088 torch\\_dynamo\\convert_frame.py:824]     return func(*args, **kwds)\n",
      "W0515 13:43:11.490000 28088 torch\\_dynamo\\convert_frame.py:824]            ^^^^^^^^^^^^^^^^^^^\n",
      "W0515 13:43:11.490000 28088 torch\\_dynamo\\convert_frame.py:824]   File \"C:\\Users\\babub\\Documents\\python\\pydata-book\\Lib\\site-packages\\torch\\_dynamo\\convert_frame.py\", line 676, in _compile\n",
      "W0515 13:43:11.490000 28088 torch\\_dynamo\\convert_frame.py:824]     guarded_code = compile_inner(code, one_graph, hooks, transform)\n",
      "W0515 13:43:11.490000 28088 torch\\_dynamo\\convert_frame.py:824]                    ^^^^^^^^^^^^^^^^^^^^^^^^^^^^^^^^^^^^^^^^^^^^^^^^\n",
      "W0515 13:43:11.490000 28088 torch\\_dynamo\\convert_frame.py:824]   File \"C:\\Users\\babub\\Documents\\python\\pydata-book\\Lib\\site-packages\\torch\\_dynamo\\utils.py\", line 262, in time_wrapper\n",
      "W0515 13:43:11.490000 28088 torch\\_dynamo\\convert_frame.py:824]     r = func(*args, **kwargs)\n",
      "W0515 13:43:11.490000 28088 torch\\_dynamo\\convert_frame.py:824]         ^^^^^^^^^^^^^^^^^^^^^\n",
      "W0515 13:43:11.490000 28088 torch\\_dynamo\\convert_frame.py:824]   File \"C:\\Users\\babub\\Documents\\python\\pydata-book\\Lib\\site-packages\\torch\\_dynamo\\convert_frame.py\", line 535, in compile_inner\n",
      "W0515 13:43:11.490000 28088 torch\\_dynamo\\convert_frame.py:824]     out_code = transform_code_object(code, transform)\n",
      "W0515 13:43:11.490000 28088 torch\\_dynamo\\convert_frame.py:824]                ^^^^^^^^^^^^^^^^^^^^^^^^^^^^^^^^^^^^^^\n",
      "W0515 13:43:11.490000 28088 torch\\_dynamo\\convert_frame.py:824]   File \"C:\\Users\\babub\\Documents\\python\\pydata-book\\Lib\\site-packages\\torch\\_dynamo\\bytecode_transformation.py\", line 1036, in transform_code_object\n",
      "W0515 13:43:11.490000 28088 torch\\_dynamo\\convert_frame.py:824]     transformations(instructions, code_options)\n",
      "W0515 13:43:11.490000 28088 torch\\_dynamo\\convert_frame.py:824]   File \"C:\\Users\\babub\\Documents\\python\\pydata-book\\Lib\\site-packages\\torch\\_dynamo\\convert_frame.py\", line 165, in _fn\n",
      "W0515 13:43:11.490000 28088 torch\\_dynamo\\convert_frame.py:824]     return fn(*args, **kwargs)\n",
      "W0515 13:43:11.490000 28088 torch\\_dynamo\\convert_frame.py:824]            ^^^^^^^^^^^^^^^^^^^\n",
      "W0515 13:43:11.490000 28088 torch\\_dynamo\\convert_frame.py:824]   File \"C:\\Users\\babub\\Documents\\python\\pydata-book\\Lib\\site-packages\\torch\\_dynamo\\convert_frame.py\", line 500, in transform\n",
      "W0515 13:43:11.490000 28088 torch\\_dynamo\\convert_frame.py:824]     tracer.run()\n",
      "W0515 13:43:11.490000 28088 torch\\_dynamo\\convert_frame.py:824]   File \"C:\\Users\\babub\\Documents\\python\\pydata-book\\Lib\\site-packages\\torch\\_dynamo\\symbolic_convert.py\", line 2149, in run\n",
      "W0515 13:43:11.490000 28088 torch\\_dynamo\\convert_frame.py:824]     super().run()\n",
      "W0515 13:43:11.490000 28088 torch\\_dynamo\\convert_frame.py:824]   File \"C:\\Users\\babub\\Documents\\python\\pydata-book\\Lib\\site-packages\\torch\\_dynamo\\symbolic_convert.py\", line 810, in run\n",
      "W0515 13:43:11.490000 28088 torch\\_dynamo\\convert_frame.py:824]     and self.step()\n",
      "W0515 13:43:11.490000 28088 torch\\_dynamo\\convert_frame.py:824]         ^^^^^^^^^^^\n",
      "W0515 13:43:11.490000 28088 torch\\_dynamo\\convert_frame.py:824]   File \"C:\\Users\\babub\\Documents\\python\\pydata-book\\Lib\\site-packages\\torch\\_dynamo\\symbolic_convert.py\", line 773, in step\n",
      "W0515 13:43:11.490000 28088 torch\\_dynamo\\convert_frame.py:824]     getattr(self, inst.opname)(inst)\n",
      "W0515 13:43:11.490000 28088 torch\\_dynamo\\convert_frame.py:824]   File \"C:\\Users\\babub\\Documents\\python\\pydata-book\\Lib\\site-packages\\torch\\_dynamo\\symbolic_convert.py\", line 2268, in RETURN_VALUE\n",
      "W0515 13:43:11.490000 28088 torch\\_dynamo\\convert_frame.py:824]     self.output.compile_subgraph(\n",
      "W0515 13:43:11.490000 28088 torch\\_dynamo\\convert_frame.py:824]   File \"C:\\Users\\babub\\Documents\\python\\pydata-book\\Lib\\site-packages\\torch\\_dynamo\\output_graph.py\", line 971, in compile_subgraph\n",
      "W0515 13:43:11.490000 28088 torch\\_dynamo\\convert_frame.py:824]     self.compile_and_call_fx_graph(tx, list(reversed(stack_values)), root)\n",
      "W0515 13:43:11.490000 28088 torch\\_dynamo\\convert_frame.py:824]   File \"C:\\Users\\babub\\AppData\\Local\\Programs\\Python\\Python311\\Lib\\contextlib.py\", line 81, in inner\n",
      "W0515 13:43:11.490000 28088 torch\\_dynamo\\convert_frame.py:824]     return func(*args, **kwds)\n",
      "W0515 13:43:11.490000 28088 torch\\_dynamo\\convert_frame.py:824]            ^^^^^^^^^^^^^^^^^^^\n",
      "W0515 13:43:11.490000 28088 torch\\_dynamo\\convert_frame.py:824]   File \"C:\\Users\\babub\\Documents\\python\\pydata-book\\Lib\\site-packages\\torch\\_dynamo\\output_graph.py\", line 1168, in compile_and_call_fx_graph\n",
      "W0515 13:43:11.490000 28088 torch\\_dynamo\\convert_frame.py:824]     compiled_fn = self.call_user_compiler(gm)\n",
      "W0515 13:43:11.490000 28088 torch\\_dynamo\\convert_frame.py:824]                   ^^^^^^^^^^^^^^^^^^^^^^^^^^^\n",
      "W0515 13:43:11.490000 28088 torch\\_dynamo\\convert_frame.py:824]   File \"C:\\Users\\babub\\Documents\\python\\pydata-book\\Lib\\site-packages\\torch\\_dynamo\\utils.py\", line 262, in time_wrapper\n",
      "W0515 13:43:11.490000 28088 torch\\_dynamo\\convert_frame.py:824]     r = func(*args, **kwargs)\n",
      "W0515 13:43:11.490000 28088 torch\\_dynamo\\convert_frame.py:824]         ^^^^^^^^^^^^^^^^^^^^^\n",
      "W0515 13:43:11.490000 28088 torch\\_dynamo\\convert_frame.py:824]   File \"C:\\Users\\babub\\Documents\\python\\pydata-book\\Lib\\site-packages\\torch\\_dynamo\\output_graph.py\", line 1241, in call_user_compiler\n",
      "W0515 13:43:11.490000 28088 torch\\_dynamo\\convert_frame.py:824]     raise BackendCompilerFailed(self.compiler_fn, e).with_traceback(\n",
      "W0515 13:43:11.490000 28088 torch\\_dynamo\\convert_frame.py:824]   File \"C:\\Users\\babub\\Documents\\python\\pydata-book\\Lib\\site-packages\\torch\\_dynamo\\output_graph.py\", line 1222, in call_user_compiler\n",
      "W0515 13:43:11.490000 28088 torch\\_dynamo\\convert_frame.py:824]     compiled_fn = compiler_fn(gm, self.example_inputs())\n",
      "W0515 13:43:11.490000 28088 torch\\_dynamo\\convert_frame.py:824]                   ^^^^^^^^^^^^^^^^^^^^^^^^^^^^^^^^^^^^^^\n",
      "W0515 13:43:11.490000 28088 torch\\_dynamo\\convert_frame.py:824]   File \"C:\\Users\\babub\\Documents\\python\\pydata-book\\Lib\\site-packages\\torch\\_dynamo\\repro\\after_dynamo.py\", line 117, in debug_wrapper\n",
      "W0515 13:43:11.490000 28088 torch\\_dynamo\\convert_frame.py:824]     compiled_gm = compiler_fn(gm, example_inputs)\n",
      "W0515 13:43:11.490000 28088 torch\\_dynamo\\convert_frame.py:824]                   ^^^^^^^^^^^^^^^^^^^^^^^^^^^^^^^\n",
      "W0515 13:43:11.490000 28088 torch\\_dynamo\\convert_frame.py:824]   File \"C:\\Users\\babub\\Documents\\python\\pydata-book\\Lib\\site-packages\\torch\\__init__.py\", line 1729, in __call__\n",
      "W0515 13:43:11.490000 28088 torch\\_dynamo\\convert_frame.py:824]     return compile_fx(model_, inputs_, config_patches=self.config)\n",
      "W0515 13:43:11.490000 28088 torch\\_dynamo\\convert_frame.py:824]            ^^^^^^^^^^^^^^^^^^^^^^^^^^^^^^^^^^^^^^^^^^^^^^^^^^^^^^^\n",
      "W0515 13:43:11.490000 28088 torch\\_dynamo\\convert_frame.py:824]   File \"C:\\Users\\babub\\AppData\\Local\\Programs\\Python\\Python311\\Lib\\contextlib.py\", line 81, in inner\n",
      "W0515 13:43:11.490000 28088 torch\\_dynamo\\convert_frame.py:824]     return func(*args, **kwds)\n",
      "W0515 13:43:11.490000 28088 torch\\_dynamo\\convert_frame.py:824]            ^^^^^^^^^^^^^^^^^^^\n",
      "W0515 13:43:11.490000 28088 torch\\_dynamo\\convert_frame.py:824]   File \"C:\\Users\\babub\\Documents\\python\\pydata-book\\Lib\\site-packages\\torch\\_inductor\\compile_fx.py\", line 1330, in compile_fx\n",
      "W0515 13:43:11.490000 28088 torch\\_dynamo\\convert_frame.py:824]     return aot_autograd(\n",
      "W0515 13:43:11.490000 28088 torch\\_dynamo\\convert_frame.py:824]            ^^^^^^^^^^^^^\n",
      "W0515 13:43:11.490000 28088 torch\\_dynamo\\convert_frame.py:824]   File \"C:\\Users\\babub\\Documents\\python\\pydata-book\\Lib\\site-packages\\torch\\_dynamo\\backends\\common.py\", line 58, in compiler_fn\n",
      "W0515 13:43:11.490000 28088 torch\\_dynamo\\convert_frame.py:824]     cg = aot_module_simplified(gm, example_inputs, **kwargs)\n",
      "W0515 13:43:11.490000 28088 torch\\_dynamo\\convert_frame.py:824]          ^^^^^^^^^^^^^^^^^^^^^^^^^^^^^^^^^^^^^^^^^^^^^^^^^^^\n",
      "W0515 13:43:11.490000 28088 torch\\_dynamo\\convert_frame.py:824]   File \"C:\\Users\\babub\\Documents\\python\\pydata-book\\Lib\\site-packages\\torch\\_functorch\\aot_autograd.py\", line 903, in aot_module_simplified\n",
      "W0515 13:43:11.490000 28088 torch\\_dynamo\\convert_frame.py:824]     compiled_fn = create_aot_dispatcher_function(\n",
      "W0515 13:43:11.490000 28088 torch\\_dynamo\\convert_frame.py:824]                   ^^^^^^^^^^^^^^^^^^^^^^^^^^^^^^^\n",
      "W0515 13:43:11.490000 28088 torch\\_dynamo\\convert_frame.py:824]   File \"C:\\Users\\babub\\Documents\\python\\pydata-book\\Lib\\site-packages\\torch\\_dynamo\\utils.py\", line 262, in time_wrapper\n",
      "W0515 13:43:11.490000 28088 torch\\_dynamo\\convert_frame.py:824]     r = func(*args, **kwargs)\n",
      "W0515 13:43:11.490000 28088 torch\\_dynamo\\convert_frame.py:824]         ^^^^^^^^^^^^^^^^^^^^^\n",
      "W0515 13:43:11.490000 28088 torch\\_dynamo\\convert_frame.py:824]   File \"C:\\Users\\babub\\Documents\\python\\pydata-book\\Lib\\site-packages\\torch\\_functorch\\aot_autograd.py\", line 628, in create_aot_dispatcher_function\n",
      "W0515 13:43:11.490000 28088 torch\\_dynamo\\convert_frame.py:824]     compiled_fn = compiler_fn(flat_fn, fake_flat_args, aot_config, fw_metadata=fw_metadata)\n",
      "W0515 13:43:11.490000 28088 torch\\_dynamo\\convert_frame.py:824]                   ^^^^^^^^^^^^^^^^^^^^^^^^^^^^^^^^^^^^^^^^^^^^^^^^^^^^^^^^^^^^^^^^^^^^^^^^^\n",
      "W0515 13:43:11.490000 28088 torch\\_dynamo\\convert_frame.py:824]   File \"C:\\Users\\babub\\Documents\\python\\pydata-book\\Lib\\site-packages\\torch\\_functorch\\_aot_autograd\\runtime_wrappers.py\", line 443, in aot_wrapper_dedupe\n",
      "W0515 13:43:11.490000 28088 torch\\_dynamo\\convert_frame.py:824]     return compiler_fn(flat_fn, leaf_flat_args, aot_config, fw_metadata=fw_metadata)\n",
      "W0515 13:43:11.490000 28088 torch\\_dynamo\\convert_frame.py:824]            ^^^^^^^^^^^^^^^^^^^^^^^^^^^^^^^^^^^^^^^^^^^^^^^^^^^^^^^^^^^^^^^^^^^^^^^^^\n",
      "W0515 13:43:11.490000 28088 torch\\_dynamo\\convert_frame.py:824]   File \"C:\\Users\\babub\\Documents\\python\\pydata-book\\Lib\\site-packages\\torch\\_functorch\\_aot_autograd\\runtime_wrappers.py\", line 648, in aot_wrapper_synthetic_base\n",
      "W0515 13:43:11.490000 28088 torch\\_dynamo\\convert_frame.py:824]     return compiler_fn(flat_fn, flat_args, aot_config, fw_metadata=fw_metadata)\n",
      "W0515 13:43:11.490000 28088 torch\\_dynamo\\convert_frame.py:824]            ^^^^^^^^^^^^^^^^^^^^^^^^^^^^^^^^^^^^^^^^^^^^^^^^^^^^^^^^^^^^^^^^^^^^\n",
      "W0515 13:43:11.490000 28088 torch\\_dynamo\\convert_frame.py:824]   File \"C:\\Users\\babub\\Documents\\python\\pydata-book\\Lib\\site-packages\\torch\\_functorch\\_aot_autograd\\jit_compile_runtime_wrappers.py\", line 352, in aot_dispatch_autograd\n",
      "W0515 13:43:11.490000 28088 torch\\_dynamo\\convert_frame.py:824]     compiled_fw_func = aot_config.fw_compiler(fw_module, adjusted_flat_args)\n",
      "W0515 13:43:11.490000 28088 torch\\_dynamo\\convert_frame.py:824]                        ^^^^^^^^^^^^^^^^^^^^^^^^^^^^^^^^^^^^^^^^^^^^^^^^^^^^^\n",
      "W0515 13:43:11.490000 28088 torch\\_dynamo\\convert_frame.py:824]   File \"C:\\Users\\babub\\Documents\\python\\pydata-book\\Lib\\site-packages\\torch\\_dynamo\\utils.py\", line 262, in time_wrapper\n",
      "W0515 13:43:11.490000 28088 torch\\_dynamo\\convert_frame.py:824]     r = func(*args, **kwargs)\n",
      "W0515 13:43:11.490000 28088 torch\\_dynamo\\convert_frame.py:824]         ^^^^^^^^^^^^^^^^^^^^^\n",
      "W0515 13:43:11.490000 28088 torch\\_dynamo\\convert_frame.py:824]   File \"C:\\Users\\babub\\Documents\\python\\pydata-book\\Lib\\site-packages\\torch\\_inductor\\compile_fx.py\", line 1257, in fw_compiler_base\n",
      "W0515 13:43:11.490000 28088 torch\\_dynamo\\convert_frame.py:824]     return inner_compile(\n",
      "W0515 13:43:11.490000 28088 torch\\_dynamo\\convert_frame.py:824]            ^^^^^^^^^^^^^^\n",
      "W0515 13:43:11.490000 28088 torch\\_dynamo\\convert_frame.py:824]   File \"C:\\Users\\babub\\Documents\\python\\pydata-book\\Lib\\site-packages\\torch\\_dynamo\\repro\\after_aot.py\", line 83, in debug_wrapper\n",
      "W0515 13:43:11.490000 28088 torch\\_dynamo\\convert_frame.py:824]     inner_compiled_fn = compiler_fn(gm, example_inputs)\n",
      "W0515 13:43:11.490000 28088 torch\\_dynamo\\convert_frame.py:824]                         ^^^^^^^^^^^^^^^^^^^^^^^^^^^^^^^\n",
      "W0515 13:43:11.490000 28088 torch\\_dynamo\\convert_frame.py:824]   File \"C:\\Users\\babub\\Documents\\python\\pydata-book\\Lib\\site-packages\\torch\\_inductor\\debug.py\", line 304, in inner\n",
      "W0515 13:43:11.490000 28088 torch\\_dynamo\\convert_frame.py:824]     return fn(*args, **kwargs)\n",
      "W0515 13:43:11.490000 28088 torch\\_dynamo\\convert_frame.py:824]            ^^^^^^^^^^^^^^^^^^^\n",
      "W0515 13:43:11.490000 28088 torch\\_dynamo\\convert_frame.py:824]   File \"C:\\Users\\babub\\AppData\\Local\\Programs\\Python\\Python311\\Lib\\contextlib.py\", line 81, in inner\n",
      "W0515 13:43:11.490000 28088 torch\\_dynamo\\convert_frame.py:824]     return func(*args, **kwds)\n",
      "W0515 13:43:11.490000 28088 torch\\_dynamo\\convert_frame.py:824]            ^^^^^^^^^^^^^^^^^^^\n",
      "W0515 13:43:11.490000 28088 torch\\_dynamo\\convert_frame.py:824]   File \"C:\\Users\\babub\\AppData\\Local\\Programs\\Python\\Python311\\Lib\\contextlib.py\", line 81, in inner\n",
      "W0515 13:43:11.490000 28088 torch\\_dynamo\\convert_frame.py:824]     return func(*args, **kwds)\n",
      "W0515 13:43:11.490000 28088 torch\\_dynamo\\convert_frame.py:824]            ^^^^^^^^^^^^^^^^^^^\n",
      "W0515 13:43:11.490000 28088 torch\\_dynamo\\convert_frame.py:824]   File \"C:\\Users\\babub\\Documents\\python\\pydata-book\\Lib\\site-packages\\torch\\_dynamo\\utils.py\", line 262, in time_wrapper\n",
      "W0515 13:43:11.490000 28088 torch\\_dynamo\\convert_frame.py:824]     r = func(*args, **kwargs)\n",
      "W0515 13:43:11.490000 28088 torch\\_dynamo\\convert_frame.py:824]         ^^^^^^^^^^^^^^^^^^^^^\n",
      "W0515 13:43:11.490000 28088 torch\\_dynamo\\convert_frame.py:824]   File \"C:\\Users\\babub\\Documents\\python\\pydata-book\\Lib\\site-packages\\torch\\_inductor\\compile_fx.py\", line 438, in compile_fx_inner\n",
      "W0515 13:43:11.490000 28088 torch\\_dynamo\\convert_frame.py:824]     compiled_graph = fx_codegen_and_compile(\n",
      "W0515 13:43:11.490000 28088 torch\\_dynamo\\convert_frame.py:824]                      ^^^^^^^^^^^^^^^^^^^^^^^\n",
      "W0515 13:43:11.490000 28088 torch\\_dynamo\\convert_frame.py:824]   File \"C:\\Users\\babub\\Documents\\python\\pydata-book\\Lib\\site-packages\\torch\\_inductor\\compile_fx.py\", line 714, in fx_codegen_and_compile\n",
      "W0515 13:43:11.490000 28088 torch\\_dynamo\\convert_frame.py:824]     compiled_fn = graph.compile_to_fn()\n",
      "W0515 13:43:11.490000 28088 torch\\_dynamo\\convert_frame.py:824]                   ^^^^^^^^^^^^^^^^^^^^^\n",
      "W0515 13:43:11.490000 28088 torch\\_dynamo\\convert_frame.py:824]   File \"C:\\Users\\babub\\Documents\\python\\pydata-book\\Lib\\site-packages\\torch\\_inductor\\graph.py\", line 1307, in compile_to_fn\n",
      "W0515 13:43:11.490000 28088 torch\\_dynamo\\convert_frame.py:824]     return self.compile_to_module().call\n",
      "W0515 13:43:11.490000 28088 torch\\_dynamo\\convert_frame.py:824]            ^^^^^^^^^^^^^^^^^^^^^^^^\n",
      "W0515 13:43:11.490000 28088 torch\\_dynamo\\convert_frame.py:824]   File \"C:\\Users\\babub\\Documents\\python\\pydata-book\\Lib\\site-packages\\torch\\_dynamo\\utils.py\", line 262, in time_wrapper\n",
      "W0515 13:43:11.490000 28088 torch\\_dynamo\\convert_frame.py:824]     r = func(*args, **kwargs)\n",
      "W0515 13:43:11.490000 28088 torch\\_dynamo\\convert_frame.py:824]         ^^^^^^^^^^^^^^^^^^^^^\n",
      "W0515 13:43:11.490000 28088 torch\\_dynamo\\convert_frame.py:824]   File \"C:\\Users\\babub\\Documents\\python\\pydata-book\\Lib\\site-packages\\torch\\_inductor\\graph.py\", line 1250, in compile_to_module\n",
      "W0515 13:43:11.490000 28088 torch\\_dynamo\\convert_frame.py:824]     self.codegen_with_cpp_wrapper() if self.cpp_wrapper else self.codegen()\n",
      "W0515 13:43:11.490000 28088 torch\\_dynamo\\convert_frame.py:824]                                                              ^^^^^^^^^^^^^^\n",
      "W0515 13:43:11.490000 28088 torch\\_dynamo\\convert_frame.py:824]   File \"C:\\Users\\babub\\Documents\\python\\pydata-book\\Lib\\site-packages\\torch\\_inductor\\graph.py\", line 1208, in codegen\n",
      "W0515 13:43:11.490000 28088 torch\\_dynamo\\convert_frame.py:824]     self.scheduler.codegen()\n",
      "W0515 13:43:11.490000 28088 torch\\_dynamo\\convert_frame.py:824]   File \"C:\\Users\\babub\\Documents\\python\\pydata-book\\Lib\\site-packages\\torch\\_dynamo\\utils.py\", line 262, in time_wrapper\n",
      "W0515 13:43:11.490000 28088 torch\\_dynamo\\convert_frame.py:824]     r = func(*args, **kwargs)\n",
      "W0515 13:43:11.490000 28088 torch\\_dynamo\\convert_frame.py:824]         ^^^^^^^^^^^^^^^^^^^^^\n",
      "W0515 13:43:11.490000 28088 torch\\_dynamo\\convert_frame.py:824]   File \"C:\\Users\\babub\\Documents\\python\\pydata-book\\Lib\\site-packages\\torch\\_inductor\\scheduler.py\", line 2339, in codegen\n",
      "W0515 13:43:11.490000 28088 torch\\_dynamo\\convert_frame.py:824]     self.get_backend(device).codegen_nodes(node.get_nodes())  # type: ignore[possibly-undefined]\n",
      "W0515 13:43:11.490000 28088 torch\\_dynamo\\convert_frame.py:824]     ^^^^^^^^^^^^^^^^^^^^^^^^^^^^^^^^^^^^^^^^^^^^^^^^^^^^^^^^\n",
      "W0515 13:43:11.490000 28088 torch\\_dynamo\\convert_frame.py:824]   File \"C:\\Users\\babub\\Documents\\python\\pydata-book\\Lib\\site-packages\\torch\\_inductor\\codegen\\cpp.py\", line 3623, in codegen_nodes\n",
      "W0515 13:43:11.490000 28088 torch\\_dynamo\\convert_frame.py:824]     kernel_group.finalize_kernel(cpp_kernel_proxy, nodes)\n",
      "W0515 13:43:11.490000 28088 torch\\_dynamo\\convert_frame.py:824]   File \"C:\\Users\\babub\\Documents\\python\\pydata-book\\Lib\\site-packages\\torch\\_inductor\\codegen\\cpp.py\", line 3661, in finalize_kernel\n",
      "W0515 13:43:11.490000 28088 torch\\_dynamo\\convert_frame.py:824]     new_kernel.codegen_loops(code, ws)\n",
      "W0515 13:43:11.490000 28088 torch\\_dynamo\\convert_frame.py:824]   File \"C:\\Users\\babub\\Documents\\python\\pydata-book\\Lib\\site-packages\\torch\\_inductor\\codegen\\cpp.py\", line 3458, in codegen_loops\n",
      "W0515 13:43:11.490000 28088 torch\\_dynamo\\convert_frame.py:824]     self.codegen_loops_impl(self.loop_nest, code, worksharing)\n",
      "W0515 13:43:11.490000 28088 torch\\_dynamo\\convert_frame.py:824]   File \"C:\\Users\\babub\\Documents\\python\\pydata-book\\Lib\\site-packages\\torch\\_inductor\\codegen\\cpp.py\", line 1832, in codegen_loops_impl\n",
      "W0515 13:43:11.490000 28088 torch\\_dynamo\\convert_frame.py:824]     gen_loops(loop_nest.root)\n",
      "W0515 13:43:11.490000 28088 torch\\_dynamo\\convert_frame.py:824]   File \"C:\\Users\\babub\\Documents\\python\\pydata-book\\Lib\\site-packages\\torch\\_inductor\\codegen\\cpp.py\", line 1804, in gen_loops\n",
      "W0515 13:43:11.490000 28088 torch\\_dynamo\\convert_frame.py:824]     gen_loop(loop, in_reduction)\n",
      "W0515 13:43:11.490000 28088 torch\\_dynamo\\convert_frame.py:824]   File \"C:\\Users\\babub\\Documents\\python\\pydata-book\\Lib\\site-packages\\torch\\_inductor\\codegen\\cpp.py\", line 1824, in gen_loop\n",
      "W0515 13:43:11.490000 28088 torch\\_dynamo\\convert_frame.py:824]     gen_loops(loop.inner, loop.is_reduction())\n",
      "W0515 13:43:11.490000 28088 torch\\_dynamo\\convert_frame.py:824]   File \"C:\\Users\\babub\\Documents\\python\\pydata-book\\Lib\\site-packages\\torch\\_inductor\\codegen\\cpp.py\", line 1804, in gen_loops\n",
      "W0515 13:43:11.490000 28088 torch\\_dynamo\\convert_frame.py:824]     gen_loop(loop, in_reduction)\n",
      "W0515 13:43:11.490000 28088 torch\\_dynamo\\convert_frame.py:824]   File \"C:\\Users\\babub\\Documents\\python\\pydata-book\\Lib\\site-packages\\torch\\_inductor\\codegen\\cpp.py\", line 1817, in gen_loop\n",
      "W0515 13:43:11.490000 28088 torch\\_dynamo\\convert_frame.py:824]     loop_lines = loop.lines()\n",
      "W0515 13:43:11.490000 28088 torch\\_dynamo\\convert_frame.py:824]                  ^^^^^^^^^^^^\n",
      "W0515 13:43:11.490000 28088 torch\\_dynamo\\convert_frame.py:824]   File \"C:\\Users\\babub\\Documents\\python\\pydata-book\\Lib\\site-packages\\torch\\_inductor\\codegen\\cpp.py\", line 3922, in lines\n",
      "W0515 13:43:11.490000 28088 torch\\_dynamo\\convert_frame.py:824]     elif not self.reduction_var_map and codecache.is_gcc():\n",
      "W0515 13:43:11.490000 28088 torch\\_dynamo\\convert_frame.py:824]                                         ^^^^^^^^^^^^^^^^^^\n",
      "W0515 13:43:11.490000 28088 torch\\_dynamo\\convert_frame.py:824]   File \"C:\\Users\\babub\\Documents\\python\\pydata-book\\Lib\\site-packages\\torch\\_inductor\\codecache.py\", line 1001, in is_gcc\n",
      "W0515 13:43:11.490000 28088 torch\\_dynamo\\convert_frame.py:824]     return bool(re.search(r\"(gcc|g\\+\\+)\", cpp_compiler()))\n",
      "W0515 13:43:11.490000 28088 torch\\_dynamo\\convert_frame.py:824]                                           ^^^^^^^^^^^^^^\n",
      "W0515 13:43:11.490000 28088 torch\\_dynamo\\convert_frame.py:824]   File \"C:\\Users\\babub\\Documents\\python\\pydata-book\\Lib\\site-packages\\torch\\_inductor\\codecache.py\", line 944, in cpp_compiler\n",
      "W0515 13:43:11.490000 28088 torch\\_dynamo\\convert_frame.py:824]     return cpp_compiler_search(search)\n",
      "W0515 13:43:11.490000 28088 torch\\_dynamo\\convert_frame.py:824]            ^^^^^^^^^^^^^^^^^^^^^^^^^^^\n",
      "W0515 13:43:11.490000 28088 torch\\_dynamo\\convert_frame.py:824]   File \"C:\\Users\\babub\\Documents\\python\\pydata-book\\Lib\\site-packages\\torch\\_inductor\\codecache.py\", line 971, in cpp_compiler_search\n",
      "W0515 13:43:11.490000 28088 torch\\_dynamo\\convert_frame.py:824]     raise exc.InvalidCxxCompiler()\n",
      "W0515 13:43:11.490000 28088 torch\\_dynamo\\convert_frame.py:824] torch._dynamo.exc.BackendCompilerFailed: backend='inductor' raised:\n",
      "W0515 13:43:11.490000 28088 torch\\_dynamo\\convert_frame.py:824] InvalidCxxCompiler: No working C++ compiler found in torch._inductor.config.cpp.cxx: (None, 'g++')\n",
      "W0515 13:43:11.490000 28088 torch\\_dynamo\\convert_frame.py:824] \n",
      "W0515 13:43:11.490000 28088 torch\\_dynamo\\convert_frame.py:824] Set TORCH_LOGS=\"+dynamo\" and TORCHDYNAMO_VERBOSE=1 for more information\n",
      "W0515 13:43:11.490000 28088 torch\\_dynamo\\convert_frame.py:824] \n"
     ]
    }
   ],
   "source": [
    "#define training loop\n",
    "model.train()\n",
    "for batch_idx, (data, target) in enumerate(train_loader):\n",
    "    data, target = data.to(device), target.to(device)\n",
    "    optimizer.zero_grad()\n",
    "    output = model(data)\n",
    "    loss = torch.nn.functional.nll_loss(output, target)\n",
    "    optimizer.step()"
   ]
  },
  {
   "cell_type": "code",
   "execution_count": 15,
   "id": "dacacbf5-966e-4e62-ac42-1d412736be57",
   "metadata": {},
   "outputs": [],
   "source": [
    "#Define test loop\n",
    "model.eval()\n",
    "test_loss = 0\n",
    "correct = 0\n",
    "with torch.no_grad():\n",
    "    for data, target in test_loader:\n",
    "        data, target = data.to(device), target.to(device)\n",
    "        output = model(data)\n",
    "\n",
    "        #get index of the max log-probability\n",
    "        test_loss += torch.nn.functional.nll_loss(\n",
    "            output, target, reduction=\"sum\"\n",
    "        ).item() #summ the batch loss\n",
    "        pred = output.argmax(dim=1, keepdim=True)\n",
    "        correct += pred.eq(target.view_as(pred)).sum().item()\n",
    "test_loss /= len(test_loader.dataset)\n"
   ]
  },
  {
   "cell_type": "code",
   "execution_count": 16,
   "id": "504c5dfc-b929-45f9-b996-8baed9a5161c",
   "metadata": {},
   "outputs": [
    {
     "data": {
      "text/plain": [
       "2.305212445831299"
      ]
     },
     "execution_count": 16,
     "metadata": {},
     "output_type": "execute_result"
    }
   ],
   "source": [
    "test_loss"
   ]
  },
  {
   "cell_type": "code",
   "execution_count": 17,
   "id": "1d0ec5ac-bf3b-4be8-b97e-597fcb5c67bc",
   "metadata": {},
   "outputs": [
    {
     "data": {
      "text/plain": [
       "1010"
      ]
     },
     "execution_count": 17,
     "metadata": {},
     "output_type": "execute_result"
    }
   ],
   "source": [
    "correct"
   ]
  },
  {
   "cell_type": "code",
   "execution_count": null,
   "id": "fbc2726a-3ae7-4dc5-8a1b-cc447a571413",
   "metadata": {},
   "outputs": [],
   "source": []
  },
  {
   "cell_type": "code",
   "execution_count": null,
   "id": "35c01c4b-92b4-4f26-97f9-d07c86368126",
   "metadata": {},
   "outputs": [],
   "source": [
    "# view few rows\n",
    "df.head()"
   ]
  },
  {
   "cell_type": "markdown",
   "id": "64f180cc-9c41-4857-b29c-776da5bf2fed",
   "metadata": {},
   "source": [
    "Drop any rows with missing data."
   ]
  },
  {
   "cell_type": "code",
   "execution_count": null,
   "id": "78154578-f685-483f-beb5-ccc05a155cbc",
   "metadata": {},
   "outputs": [],
   "source": [
    "# check dimension of dataframe\n",
    "df.shape"
   ]
  },
  {
   "cell_type": "code",
   "execution_count": null,
   "id": "ace5db57-480f-4193-b3b2-e8f232f79f85",
   "metadata": {
    "scrolled": true
   },
   "outputs": [],
   "source": [
    "#identify columns that have missing values\n",
    "df.isna().sum()"
   ]
  },
  {
   "cell_type": "code",
   "execution_count": null,
   "id": "cc238a77-8d60-4d35-82f6-55301d31a541",
   "metadata": {},
   "outputs": [],
   "source": [
    "# drop rows if any field in a row has NaN\n",
    "df = df.dropna(how=\"any\", axis=0)"
   ]
  },
  {
   "cell_type": "code",
   "execution_count": null,
   "id": "f1a42ab0-f213-4371-8015-38d8401a6185",
   "metadata": {},
   "outputs": [],
   "source": [
    "# check dimension after drop\n",
    "df.shape"
   ]
  },
  {
   "cell_type": "code",
   "execution_count": null,
   "id": "173cb6b0-cfce-427c-b12b-3dc5c2cfe8b2",
   "metadata": {},
   "outputs": [],
   "source": [
    "# check no missing values remain\n",
    "df.isna().sum()"
   ]
  },
  {
   "cell_type": "markdown",
   "id": "90299be3-0abc-49b0-b3a1-4d18905a0493",
   "metadata": {},
   "source": [
    "We notice that 134 rows have been dropped due presence of missing values."
   ]
  },
  {
   "cell_type": "markdown",
   "id": "3c7c801c-db7e-4a5b-b89e-c03c872d791a",
   "metadata": {},
   "source": [
    "Convert the categorical features into dummy variables."
   ]
  },
  {
   "cell_type": "code",
   "execution_count": null,
   "id": "2a8f5293-9f45-4a8d-bc6f-ea7cbbf66116",
   "metadata": {},
   "outputs": [],
   "source": [
    "# check column datatypes\n",
    "df.dtypes"
   ]
  },
  {
   "cell_type": "code",
   "execution_count": null,
   "id": "7f52315a-1d3b-4e65-9a04-18372c7f1b73",
   "metadata": {},
   "outputs": [],
   "source": [
    "#using pandas get_dummies to encode categorical variables\n",
    "categorical_feature_names = [cols for cols in df.columns if (df[cols].dtype == \"object\" and cols != \"Loan_Status\")]\n",
    "df_with_dummies = pd.get_dummies(df, columns=categorical_feature_names, drop_first=True, dtype=\"int\")"
   ]
  },
  {
   "cell_type": "code",
   "execution_count": null,
   "id": "09435945-ece6-472a-a518-231f55a35828",
   "metadata": {},
   "outputs": [],
   "source": [
    "# view few rows after applying dummies\n",
    "df_with_dummies.head()"
   ]
  },
  {
   "cell_type": "markdown",
   "id": "4676d29c-a324-47d4-989c-447cfc1a56f5",
   "metadata": {},
   "source": [
    "Split the data into a training and test set, where the “Loan_Status” column is the target."
   ]
  },
  {
   "cell_type": "code",
   "execution_count": null,
   "id": "0c60d5a9-9990-4655-8c06-94e3762cfaa5",
   "metadata": {},
   "outputs": [],
   "source": [
    "# define feature and target names\n",
    "target = \"Loan_Status\"\n",
    "features = [cols for cols in df_with_dummies.columns if cols != \"Loan_Status\"]"
   ]
  },
  {
   "cell_type": "code",
   "execution_count": null,
   "id": "b4f79a66-6c43-428e-8e97-e17a98d30170",
   "metadata": {},
   "outputs": [],
   "source": [
    "# using sklearn's train_test_split method to split the dataset\n",
    "features_train, features_test, target_train, target_test = train_test_split(\n",
    "    df_with_dummies[features], df_with_dummies[target], test_size=0.2, random_state=1\n",
    ")"
   ]
  },
  {
   "cell_type": "markdown",
   "id": "5648be57-e277-4e6a-b1b2-98da3cb9f76d",
   "metadata": {},
   "source": [
    "Create a pipeline with a min-max scaler and a KNN classifier."
   ]
  },
  {
   "cell_type": "code",
   "execution_count": null,
   "id": "dd5c22ef-a170-4f35-80c9-32fed8f32054",
   "metadata": {},
   "outputs": [],
   "source": [
    "# create a min-max scaler \n",
    "scaler = MinMaxScaler()"
   ]
  },
  {
   "cell_type": "code",
   "execution_count": null,
   "id": "0f0e8fef-d319-4dc1-85bf-bf5ebfb75ad7",
   "metadata": {},
   "outputs": [],
   "source": [
    "# create a default KNN classifier\n",
    "default_knn = KNeighborsClassifier()"
   ]
  },
  {
   "cell_type": "code",
   "execution_count": null,
   "id": "60602c13-cb1a-4b62-9895-7935edb829a2",
   "metadata": {},
   "outputs": [],
   "source": [
    "# define pipeline\n",
    "pipe = Pipeline(\n",
    "    [\n",
    "        (\"scaler\",scaler),\n",
    "        (\"knn\", default_knn)\n",
    "    ]\n",
    ")"
   ]
  },
  {
   "cell_type": "markdown",
   "id": "5c22e052-fd36-43f5-b78a-814be299e745",
   "metadata": {},
   "source": [
    "Fit a default KNN classifier to the data with this pipeline. Report the model accuracy on the test set. "
   ]
  },
  {
   "cell_type": "code",
   "execution_count": null,
   "id": "454d3402-f907-4b9b-9896-a4e909f2ad33",
   "metadata": {},
   "outputs": [],
   "source": [
    "# fit the pipeline with training set\n",
    "default_knn_model = pipe.fit(features_train, target_train)"
   ]
  },
  {
   "cell_type": "code",
   "execution_count": null,
   "id": "9ea096df-f43d-44be-8e59-2088a6133a5a",
   "metadata": {},
   "outputs": [],
   "source": [
    "#predict loan status for test set using default KNN classifier\n",
    "predicted_target_test = default_knn_model.predict(features_test)"
   ]
  },
  {
   "cell_type": "code",
   "execution_count": null,
   "id": "3a4ac5ee-9d63-4754-98ba-c2a40d866aac",
   "metadata": {},
   "outputs": [],
   "source": [
    "# calculate accuracy for test set using a default KNN classifier\n",
    "print(f\"Accuracy: {accuracy_score(target_test, predicted_target_test)}\")"
   ]
  },
  {
   "cell_type": "markdown",
   "id": "5c57d33b-23b4-46a0-bf23-3a6b8d159ea2",
   "metadata": {},
   "source": [
    "We see that model accuracy of the _default KNN Classifier_ is $0.73$."
   ]
  },
  {
   "cell_type": "markdown",
   "id": "312097d1-1125-4a8a-87a7-88be7e14d2c9",
   "metadata": {},
   "source": [
    "Create a search space for your KNN classifier where your “n_neighbors” parameter varies from 1 to 10."
   ]
  },
  {
   "cell_type": "code",
   "execution_count": null,
   "id": "1dfe48fe-3947-4b47-8f2e-efe4dc023713",
   "metadata": {},
   "outputs": [],
   "source": [
    "#create search space \n",
    "grid_search_space = [\n",
    "    {\"knn__n_neighbors\": [i for i in range(1,11)]}\n",
    "] "
   ]
  },
  {
   "cell_type": "markdown",
   "id": "e7d7aa7e-2bf8-4042-a397-d3769a5bd0fa",
   "metadata": {},
   "source": [
    "Fit a grid search with your pipeline, search space, and 5-fold cross-validation to find the best value for the “n_neighbors” parameter."
   ]
  },
  {
   "cell_type": "code",
   "execution_count": null,
   "id": "2aa3714e-eb95-47ae-a6a4-369b6ffa2214",
   "metadata": {},
   "outputs": [],
   "source": [
    "# create grid search\n",
    "gcv = GridSearchCV(\n",
    "    pipe,\n",
    "    grid_search_space,\n",
    "    cv=5,\n",
    "    verbose=1\n",
    ")"
   ]
  },
  {
   "cell_type": "code",
   "execution_count": null,
   "id": "13f37f34-3ef2-4559-ae2e-71cc9ed8b6cb",
   "metadata": {},
   "outputs": [],
   "source": [
    "#fit the grid search\n",
    "best_model = gcv.fit(features_train, target_train)"
   ]
  },
  {
   "cell_type": "code",
   "execution_count": null,
   "id": "3f25a0dd-3cb2-4ba9-9a95-cde23dc53cf9",
   "metadata": {},
   "outputs": [],
   "source": [
    "# show best model parameters\n",
    "best_model.best_estimator_.get_params()"
   ]
  },
  {
   "cell_type": "code",
   "execution_count": null,
   "id": "bf4ddc17-9fa5-467d-bd55-8b5067ea1891",
   "metadata": {},
   "outputs": [],
   "source": [
    "print(f\"Best value for n_neighbors is {best_model.best_estimator_.get_params()['knn__n_neighbors']}\")"
   ]
  },
  {
   "cell_type": "markdown",
   "id": "5aad941c-8013-4638-8764-417596db4a8b",
   "metadata": {},
   "source": [
    "We see that best model has $5$ neighbors"
   ]
  },
  {
   "cell_type": "markdown",
   "id": "3285216b-8479-48b0-8439-668535a8d176",
   "metadata": {},
   "source": [
    "Find the accuracy of the grid search best model on the test set. Note: It is possible that this will not be an improvement over the default model, but likely it will be."
   ]
  },
  {
   "cell_type": "code",
   "execution_count": null,
   "id": "c0ffd75f-f84e-4a7c-b36b-ab8149407d54",
   "metadata": {},
   "outputs": [],
   "source": [
    "#predict loan status for test set using the best KNN classifier\n",
    "predicted_best_model_target_test = best_model.predict(features_test)"
   ]
  },
  {
   "cell_type": "code",
   "execution_count": null,
   "id": "df5bbcb1-8baf-4305-bcba-279fe7ff7c2b",
   "metadata": {},
   "outputs": [],
   "source": [
    "# calculate accuracy for test set using best KNN classifier\n",
    "print(f\"Accuracy: {accuracy_score(target_test, predicted_best_model_target_test)}\")"
   ]
  },
  {
   "cell_type": "markdown",
   "id": "ea9fe3ea-0340-44d6-8375-5631caf57adf",
   "metadata": {},
   "source": [
    "The accuracy is still $0.73$. So, there is no improvement in accuracy over the default model.  "
   ]
  },
  {
   "cell_type": "markdown",
   "id": "c7e1c721-b506-4f30-bffc-4ac9b5ef76a9",
   "metadata": {},
   "source": [
    "Now, repeat steps 6 and 7 with the same pipeline, but expand your search space to include logistic regression and random forest models with the hyperparameter values in section 12.3 of the Machine Learning with Python Cookbook."
   ]
  },
  {
   "cell_type": "code",
   "execution_count": null,
   "id": "924a4d4c-d22c-43ea-a975-08a7cdf06372",
   "metadata": {},
   "outputs": [],
   "source": [
    "# define model objects\n",
    "logistic = LogisticRegression(max_iter=500, solver=\"liblinear\")\n",
    "random_forest = RandomForestClassifier()\n",
    "knn = KNeighborsClassifier()"
   ]
  },
  {
   "cell_type": "code",
   "execution_count": null,
   "id": "95630357-5274-43e4-b048-a4fc9e839950",
   "metadata": {},
   "outputs": [],
   "source": [
    "# define pipeline\n",
    "pipe_multiple = Pipeline(\n",
    "    steps=[\n",
    "        (\"scaler\", scaler),\n",
    "        (\"classifier\", knn)\n",
    "    ]\n",
    ")   "
   ]
  },
  {
   "cell_type": "code",
   "execution_count": null,
   "id": "1e121cf0-99f4-479d-90b0-8aa2931ffb98",
   "metadata": {},
   "outputs": [],
   "source": [
    "# set hyperparameters search space for all the classifiers\n",
    "hyperparameters_search_space = [\n",
    "    {\n",
    "        \"classifier\": [knn],\n",
    "        \"classifier__n_neighbors\": [i for i in range(1,11)]\n",
    "    },\n",
    "    {\n",
    "        \"classifier\": [logistic],\n",
    "        \"classifier__penalty\": [\"l1\", \"l2\"],\n",
    "        \"classifier__C\": np.logspace(0,4,10)\n",
    "    },\n",
    "    {\n",
    "        \"classifier\": [random_forest],\n",
    "        \"classifier__n_estimators\": [10,100,1000],\n",
    "        \"classifier__max_features\": [1,2,3]\n",
    "    }\n",
    "]\n"
   ]
  },
  {
   "cell_type": "code",
   "execution_count": null,
   "id": "76c016c4-4dce-426f-99ed-3434f91fa353",
   "metadata": {},
   "outputs": [],
   "source": [
    "# set up grid search for above hyperparameters\n",
    "gcv_multiple = GridSearchCV(\n",
    "    pipe_multiple,\n",
    "    hyperparameters_search_space,\n",
    "    cv=5,\n",
    "    verbose=1,\n",
    "    n_jobs=-1\n",
    ")"
   ]
  },
  {
   "cell_type": "code",
   "execution_count": null,
   "id": "da68d844-bf1d-4cad-8e27-af9c8c2225ff",
   "metadata": {},
   "outputs": [],
   "source": [
    "# fit the grid search\n",
    "best_model_multiple = gcv_multiple.fit(features_train, target_train)"
   ]
  },
  {
   "cell_type": "markdown",
   "id": "1ef4e597-25a3-4ec8-b755-1dd4458c6421",
   "metadata": {},
   "source": [
    "What are the best model and hyperparameters found in the grid search? Find the accuracy of this model on the test set."
   ]
  },
  {
   "cell_type": "code",
   "execution_count": null,
   "id": "708e0abb-705e-4a13-811c-f654a54ae651",
   "metadata": {},
   "outputs": [],
   "source": [
    "#show best model parameters\n",
    "print(best_model_multiple.best_params_)\n",
    "best_model_multiple.best_estimator_.get_params()"
   ]
  },
  {
   "cell_type": "code",
   "execution_count": null,
   "id": "6099e74a-f9a8-4ccd-ba8b-98178c4add4d",
   "metadata": {},
   "outputs": [],
   "source": [
    "#predict loan status for test set using best model \n",
    "predicted_logistic_target_test = best_model_multiple.predict(features_test)"
   ]
  },
  {
   "cell_type": "code",
   "execution_count": null,
   "id": "d699f340-ebae-4a9b-9d5f-01641715aac6",
   "metadata": {},
   "outputs": [],
   "source": [
    "# calculate accuracy for test set a default KNN classifier\n",
    "print(f\"Accuracy: {accuracy_score(target_test, predicted_logistic_target_test)}\")"
   ]
  },
  {
   "cell_type": "markdown",
   "id": "44ece157-3be4-4634-951a-69e250b6edc1",
   "metadata": {},
   "source": [
    "Best model found is _Logistic Regression_ which yeilded an accuracy of $0.74$"
   ]
  },
  {
   "cell_type": "markdown",
   "id": "a0397502-6416-4a7a-a41e-fc413972a023",
   "metadata": {},
   "source": [
    "### Summary"
   ]
  },
  {
   "cell_type": "markdown",
   "id": "681ffab9-c28d-47f8-8bb7-7c761896b298",
   "metadata": {},
   "source": [
    "We observed that the accuracy of the _default_ KNN classifier is $0.73$. We used grid search approach to identify the best `n_neighbors` value to use with KNN classifier on this loan approval dataset. The grid search yeilded that $5$ neighbors generates best performce of the KNN classifier.  KNN classifier using $5$ neighbors achieved an accuracy of  $0.73$. Therefore, _no improvement_ in _accuracy_ was achieved when using _$5$ neighbors in KNN classifier over the default KNN classifier_.\n",
    "\n",
    "Grid search was expanded to include Logistic Regression and Random Forest classifier along with KNN classifier to identify the best performing model along with its hyperparameters. The results showed that Logistic Regression classifier was identified as the best model, yeilding an accuracy of $0.74$ with hyper parameter `penalty=l1` and `C=1.0`. There is _no significant increase_ in _accuracy_ (just $1$%) for the selected Logistic Regression classifier over the default and $5$ neighbors KNN classifer models."
   ]
  },
  {
   "cell_type": "code",
   "execution_count": null,
   "id": "6a344781-e487-4baf-aa96-50ed861a5232",
   "metadata": {},
   "outputs": [],
   "source": []
  }
 ],
 "metadata": {
  "kernelspec": {
   "display_name": "Python 3 (ipykernel)",
   "language": "python",
   "name": "python3"
  },
  "language_info": {
   "codemirror_mode": {
    "name": "ipython",
    "version": 3
   },
   "file_extension": ".py",
   "mimetype": "text/x-python",
   "name": "python",
   "nbconvert_exporter": "python",
   "pygments_lexer": "ipython3",
   "version": "3.11.4"
  }
 },
 "nbformat": 4,
 "nbformat_minor": 5
}
