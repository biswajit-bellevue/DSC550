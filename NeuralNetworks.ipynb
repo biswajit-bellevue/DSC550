{
 "cells": [
  {
   "cell_type": "code",
   "execution_count": 1,
   "id": "6172227c-5399-413d-be9d-53c1c112de52",
   "metadata": {},
   "outputs": [],
   "source": [
    "import torch.nn as nn\n",
    "import torch"
   ]
  },
  {
   "cell_type": "code",
   "execution_count": 2,
   "id": "91eda2c0-ea47-40ca-b4a8-3e0fc353b824",
   "metadata": {},
   "outputs": [],
   "source": [
    "import torch._dynamo\n",
    "torch._dynamo.config.suppress_errors = True"
   ]
  },
  {
   "cell_type": "code",
   "execution_count": 3,
   "id": "3b4737b2-3f78-4db5-ad0b-0f4b602c0c0f",
   "metadata": {},
   "outputs": [],
   "source": [
    "from torch.utils.data import DataLoader, TensorDataset\n",
    "from torch.optim import RMSprop\n",
    "from sklearn.datasets import make_classification\n",
    "from sklearn.model_selection import train_test_split\n",
    "import numpy as np"
   ]
  },
  {
   "cell_type": "code",
   "execution_count": 4,
   "id": "5143e3ae-f56f-4583-af33-c22384faf963",
   "metadata": {},
   "outputs": [],
   "source": [
    "#create simple neural netwrok\n",
    "class SimpleNeuralnet(nn.Module):\n",
    "    def __init__(self):\n",
    "        super(SimpleNeuralnet, self).__init__()\n",
    "        self.sequential = nn.Sequential(\n",
    "            nn.Linear(10,16),\n",
    "            nn.ReLU(),\n",
    "            nn.Linear(16,16),\n",
    "            nn.ReLU(),\n",
    "            nn.Linear(16,1),\n",
    "            nn.Sigmoid()\n",
    "        )\n",
    "    def forward(self, x):\n",
    "        x = self.sequential(x)\n",
    "        return x\n",
    "    "
   ]
  },
  {
   "cell_type": "code",
   "execution_count": 5,
   "id": "a0316915-18f7-461a-a91f-5d0e544c8728",
   "metadata": {},
   "outputs": [],
   "source": [
    "#initilize network\n",
    "network = SimpleNeuralnet()"
   ]
  },
  {
   "cell_type": "code",
   "execution_count": 6,
   "id": "f1c0a09f-1771-467c-8b42-67979a06d419",
   "metadata": {},
   "outputs": [],
   "source": [
    "#compile network\n",
    "network = torch.compile(network)"
   ]
  },
  {
   "cell_type": "code",
   "execution_count": 7,
   "id": "0fcc1541-3509-4567-a536-6fc3762bc2c7",
   "metadata": {},
   "outputs": [],
   "source": [
    "#define loss function\n",
    "criterion = nn.BCELoss()"
   ]
  },
  {
   "cell_type": "code",
   "execution_count": 8,
   "id": "bd44b9e0-830c-44bc-9101-853b0d69df0e",
   "metadata": {},
   "outputs": [],
   "source": [
    "# define otimizer\n",
    "optimizer = RMSprop(network.parameters())"
   ]
  },
  {
   "cell_type": "code",
   "execution_count": 9,
   "id": "f6f502ec-11b9-4ba2-8fb6-6a413106034c",
   "metadata": {},
   "outputs": [],
   "source": [
    "# create dataset\n",
    "features, target = make_classification(n_classes=2, n_features=10, n_samples=1000)"
   ]
  },
  {
   "cell_type": "code",
   "execution_count": 10,
   "id": "b65159d4-05fe-4c79-ae6b-f3c7f011c0bd",
   "metadata": {},
   "outputs": [],
   "source": [
    "features_train,features_test,target_train,target_test = train_test_split(features, target, test_size=0.1, random_state=1)"
   ]
  },
  {
   "cell_type": "code",
   "execution_count": 11,
   "id": "052a4e70-c4a9-4d9a-9305-30d428bb69f6",
   "metadata": {},
   "outputs": [],
   "source": [
    "# dataset\n",
    "x_train = torch.from_numpy(features_train).float()\n",
    "y_train = torch.from_numpy(target_train).float().view(-1,1)\n",
    "x_test = torch.from_numpy(features_test).float()\n",
    "y_test = torch.from_numpy(target_test).float().view(-1,1)"
   ]
  },
  {
   "cell_type": "code",
   "execution_count": 12,
   "id": "bea0a96e-a476-467d-8148-b79583ae502e",
   "metadata": {},
   "outputs": [],
   "source": [
    "#data loader from dataset\n",
    "train_data = TensorDataset(x_train,y_train)\n",
    "train_loader = DataLoader(train_data, batch_size=100,shuffle=True)"
   ]
  },
  {
   "cell_type": "code",
   "execution_count": null,
   "id": "f2eb10cc-c818-4759-93ab-4de36ae188a6",
   "metadata": {},
   "outputs": [],
   "source": [
    "#train network\n",
    "epochs=3\n",
    "for epoch in range(epochs):\n",
    "    for batch_idx, (data, target) in enumerate(train_loader):\n",
    "        optimizer.zero_grad()\n",
    "        output = network(data)\n",
    "        loss = criterion(output, target)\n",
    "        loss.backward()\n",
    "        optimizer.step()\n",
    "\n",
    "    print(f\"Epoch: {epoch+1} \\n Loss: {loss.item()}\")"
   ]
  },
  {
   "cell_type": "code",
   "execution_count": null,
   "id": "b3b05b92-605d-43dd-ac1e-3b3fb441c394",
   "metadata": {},
   "outputs": [],
   "source": [
    "#evaluate neural network\n",
    "with torch.no_grad():\n",
    "    output = network(x_test)\n",
    "    test_loss = criterion(output, y_test)\n",
    "    test_accuracy = (output.round() == y_test).float().mean()\n",
    "    print(f\"test Loss: {test_loss.item()}, Test Accuracy: {test_accuracy.item()}\")"
   ]
  },
  {
   "cell_type": "markdown",
   "id": "2ae4619b-0b6f-4288-b6a3-89682f155715",
   "metadata": {},
   "source": [
    "### Multiclass classification"
   ]
  },
  {
   "cell_type": "code",
   "execution_count": null,
   "id": "70221390-b723-43c5-a288-d973fdc991df",
   "metadata": {},
   "outputs": [],
   "source": [
    "# create dataset\n",
    "features, target = make_classification(n_classes=3, n_features=10, n_samples=1000, n_informative=9, n_redundant=0)"
   ]
  },
  {
   "cell_type": "code",
   "execution_count": null,
   "id": "94336aad-bffa-407a-9873-c9c3b0b52212",
   "metadata": {},
   "outputs": [],
   "source": [
    "torch.manual_seed(0)\n",
    "np.random.seed(0)"
   ]
  },
  {
   "cell_type": "code",
   "execution_count": null,
   "id": "7f19d9ca-ba75-4540-ac3b-b1b6ade7d635",
   "metadata": {},
   "outputs": [],
   "source": [
    "features_train,features_test,target_train,target_test = train_test_split(features, target, test_size=0.1, random_state=1)"
   ]
  },
  {
   "cell_type": "code",
   "execution_count": null,
   "id": "135e33ab-a277-4dbe-a10c-bb275aa421c3",
   "metadata": {},
   "outputs": [],
   "source": [
    "# dataset\n",
    "x_train = torch.from_numpy(features_train).float()\n",
    "y_train = torch.nn.functional.one_hot(torch.from_numpy(target_train).long(),num_classes=3).float()\n",
    "x_test = torch.from_numpy(features_test).float()\n",
    "y_test = torch.nn.functional.one_hot(torch.from_numpy(target_test).long(),num_classes=3).float()"
   ]
  },
  {
   "cell_type": "code",
   "execution_count": null,
   "id": "bfa967ea-ec8c-4a2b-bb12-71ea21cf35ca",
   "metadata": {},
   "outputs": [],
   "source": [
    "#create simple neural netwrok\n",
    "class SimpleNeuralNeMulti(nn.Module):\n",
    "    def __init__(self):\n",
    "        super(SimpleNeuralNeMulti, self).__init__()\n",
    "        self.sequential = nn.Sequential(\n",
    "            nn.Linear(10,16),\n",
    "            nn.ReLU(),\n",
    "            nn.Linear(16,16),\n",
    "            nn.ReLU(),\n",
    "            nn.Linear(16,3),\n",
    "            nn.Softmax()\n",
    "        )\n",
    "    def forward(self, x):\n",
    "        x = self.sequential(x)\n",
    "        return x\n",
    "    "
   ]
  },
  {
   "cell_type": "code",
   "execution_count": null,
   "id": "49450293-0cda-49c1-9972-ff3d8d2834a8",
   "metadata": {},
   "outputs": [],
   "source": [
    "#network\n",
    "network = SimpleNeuralNeMulti()"
   ]
  },
  {
   "cell_type": "code",
   "execution_count": null,
   "id": "4ebd6f2e-745a-4ff5-9b66-43e9d10577a1",
   "metadata": {},
   "outputs": [],
   "source": [
    "#define loss function\n",
    "criterion = nn.CrossEntropyLoss()"
   ]
  },
  {
   "cell_type": "code",
   "execution_count": null,
   "id": "f6bfde71-5d27-43b6-99dd-6cd208537188",
   "metadata": {},
   "outputs": [],
   "source": [
    "#define optimizer\n",
    "optimizer = RMSprop(network.parameters())"
   ]
  },
  {
   "cell_type": "code",
   "execution_count": null,
   "id": "3598a0a0-2e02-40ee-b534-f0298961e6c2",
   "metadata": {},
   "outputs": [],
   "source": [
    "#dataset for dataloader\n",
    "train_data = TensorDataset(x_train, y_train)"
   ]
  },
  {
   "cell_type": "code",
   "execution_count": null,
   "id": "44d42537-ee34-4e2d-936a-4fb288fd4cce",
   "metadata": {},
   "outputs": [],
   "source": [
    "#dataloader for layers\n",
    "train_loader = DataLoader(train_data, batch_size=100, shuffle=True)"
   ]
  },
  {
   "cell_type": "code",
   "execution_count": null,
   "id": "88705588-7b0a-4e75-9597-7bdaa2309b6c",
   "metadata": {},
   "outputs": [],
   "source": [
    "#compile\n",
    "network = torch.compile(network)"
   ]
  },
  {
   "cell_type": "code",
   "execution_count": null,
   "id": "0434522d-1ba1-402f-9114-166cfcde6fa7",
   "metadata": {},
   "outputs": [],
   "source": [
    "\n",
    "epochs=3\n",
    "for epoch in range(epochs):\n",
    "    for batch_idx, (data, target) in enumerate(train_loader):\n",
    "        optimizer.zero_grad()\n",
    "        output = network(data)\n",
    "        loss = criterion(output, target)\n",
    "        loss.backward()\n",
    "        optimizer.step()\n",
    "\n",
    "    print(f\"Epoch: {epoch+1} \\n Loss: {loss.item()}\")"
   ]
  },
  {
   "cell_type": "code",
   "execution_count": null,
   "id": "a20ab591-a9e9-439d-8434-59e71051aa30",
   "metadata": {},
   "outputs": [],
   "source": [
    "#evaluate neural network\n",
    "with torch.no_grad():\n",
    "    output = network(x_test)\n",
    "    test_loss = criterion(output, y_test)\n",
    "    test_accuracy = (output.round() == y_test).float().mean()\n",
    "    print(f\"test Loss: {test_loss.item()}, Test Accuracy: {test_accuracy.item()}\")"
   ]
  },
  {
   "cell_type": "code",
   "execution_count": null,
   "id": "438b76be-5540-4a94-a76f-5d0cd1d99c70",
   "metadata": {},
   "outputs": [],
   "source": [
    "## making predictions\n",
    "with torch.no_grad():\n",
    "    predicted = network.forward(x_test).round()"
   ]
  },
  {
   "cell_type": "code",
   "execution_count": null,
   "id": "f530831e-e451-47a3-a335-975167b58786",
   "metadata": {},
   "outputs": [],
   "source": [
    "predicted[0]"
   ]
  },
  {
   "cell_type": "markdown",
   "id": "9f2e718a-e490-4215-ab3c-36a4ba88500d",
   "metadata": {},
   "source": [
    "### Plot train test errors of a binary classifier"
   ]
  },
  {
   "cell_type": "code",
   "execution_count": 15,
   "id": "6d8c5b45-3510-47a1-ae0d-e0438536c230",
   "metadata": {},
   "outputs": [],
   "source": [
    "epochs = 8\n",
    "train_losses = []\n",
    "test_losses = []\n",
    "for epoch in range(8):\n",
    "    for batch_idx, (data,target) in enumerate(train_loader):\n",
    "        optimizer.zero_grad()\n",
    "        output = network(data)\n",
    "        loss = criterion(output, target)\n",
    "        loss.backward()\n",
    "        optimizer.step()\n",
    "    with torch.no_grad():\n",
    "        train_output = network(x_train)\n",
    "        train_loss = criterion(output, target)\n",
    "        train_losses.append(train_loss.item())\n",
    "\n",
    "        test_output = network(x_test)\n",
    "        test_loss = criterion(test_output, y_test)\n",
    "        test_losses.append(test_loss.item())\n",
    "        "
   ]
  },
  {
   "cell_type": "code",
   "execution_count": 16,
   "id": "09aa23ad-088e-4115-9f5b-e52594497f4c",
   "metadata": {},
   "outputs": [],
   "source": [
    "from matplotlib import pyplot as plt"
   ]
  },
  {
   "cell_type": "code",
   "execution_count": 17,
   "id": "84f21766-8043-4dc1-9958-7e76ada8462c",
   "metadata": {},
   "outputs": [],
   "source": [
    "epochs = range(epochs)"
   ]
  },
  {
   "cell_type": "code",
   "execution_count": 20,
   "id": "369ffe2b-4d41-44b9-a86a-a5a29f4146a4",
   "metadata": {},
   "outputs": [
    {
     "data": {
      "image/png": "[encoded data removed]",
      "text/plain": [
       "<Figure size 640x480 with 1 Axes>"
      ]
     },
     "metadata": {},
     "output_type": "display_data"
    }
   ],
   "source": [
    "plt.plot(epochs, train_losses, \"r--\")\n",
    "plt.plot(epochs, test_losses, \"b--\")\n",
    "plt.legend([\"Train error\", \"Test Error\"])\n",
    "plt.show()"
   ]
  },
  {
   "cell_type": "code",
   "execution_count": null,
   "id": "c943b203-c00d-4fbb-b48f-820f8aefdfb5",
   "metadata": {},
   "outputs": [],
   "source": []
  }
 ],
 "metadata": {
  "kernelspec": {
   "display_name": "Python 3 (ipykernel)",
   "language": "python",
   "name": "python3"
  },
  "language_info": {
   "codemirror_mode": {
    "name": "ipython",
    "version": 3
   },
   "file_extension": ".py",
   "mimetype": "text/x-python",
   "name": "python",
   "nbconvert_exporter": "python",
   "pygments_lexer": "ipython3",
   "version": "3.11.4"
  }
 },
 "nbformat": 4,
 "nbformat_minor": 5
}
